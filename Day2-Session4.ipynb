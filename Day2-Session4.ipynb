{
 "cells": [
  {
   "cell_type": "markdown",
   "id": "7f69ff3c",
   "metadata": {},
   "source": [
    "**?**"
   ]
  },
  {
   "cell_type": "markdown",
   "id": "f86abbe3",
   "metadata": {},
   "source": [
    "# Session 8: Neural Network\n",
    "* Structure: Input layer, hidden layers, output layer\n",
    "* Activation functions (ReLU, sigmoid – briefly)\n",
    "* Loss and optimization (intuition behind how learning works)"
   ]
  },
  {
   "cell_type": "code",
   "execution_count": null,
   "id": "d14b1059",
   "metadata": {},
   "outputs": [],
   "source": []
  }
 ],
 "metadata": {
  "kernelspec": {
   "display_name": "Python 3 (ipykernel)",
   "language": "python",
   "name": "python3"
  },
  "language_info": {
   "codemirror_mode": {
    "name": "ipython",
    "version": 3
   },
   "file_extension": ".py",
   "mimetype": "text/x-python",
   "name": "python",
   "nbconvert_exporter": "python",
   "pygments_lexer": "ipython3",
   "version": "3.7.13"
  }
 },
 "nbformat": 4,
 "nbformat_minor": 5
}
