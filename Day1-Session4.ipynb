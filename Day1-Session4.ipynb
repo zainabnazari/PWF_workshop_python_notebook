{
 "cells": [
  {
   "cell_type": "markdown",
   "id": "2879734e",
   "metadata": {},
   "source": [
    "**Anirban Roy**"
   ]
  },
  {
   "cell_type": "markdown",
   "id": "d0c1a0bb",
   "metadata": {},
   "source": [
    "# Session 4: Introduction to Scikit-learn and Machine Learning Concepts\n",
    "* What is Machine Learning? Supervised vs. Unsupervised\n",
    "* The ML pipeline: data → model → evaluation\n",
    "* Overview of scikit-learn structure"
   ]
  },
  {
   "cell_type": "code",
   "execution_count": null,
   "id": "162fe06b",
   "metadata": {},
   "outputs": [],
   "source": []
  }
 ],
 "metadata": {
  "kernelspec": {
   "display_name": "Python 3 (ipykernel)",
   "language": "python",
   "name": "python3"
  },
  "language_info": {
   "codemirror_mode": {
    "name": "ipython",
    "version": 3
   },
   "file_extension": ".py",
   "mimetype": "text/x-python",
   "name": "python",
   "nbconvert_exporter": "python",
   "pygments_lexer": "ipython3",
   "version": "3.7.13"
  }
 },
 "nbformat": 4,
 "nbformat_minor": 5
}
