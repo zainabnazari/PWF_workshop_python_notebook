{
 "cells": [
  {
   "cell_type": "markdown",
   "id": "6d77ad36",
   "metadata": {},
   "source": [
    "**Sharif Hussainyar** \n",
    "\n",
    "@Sharif Carl and I made a bit of this session in the past  you can delete them or keep them ;) "
   ]
  },
  {
   "cell_type": "markdown",
   "id": "cfc2d094",
   "metadata": {},
   "source": [
    "# Session 1: Introduction to Python for Scientific Computing\n",
    "* Python basics: variables, data types, control flow (if, for, while)\n",
    "* Functions and basic input/output\n",
    "* Hands-on mini-exercises\n"
   ]
  },
  {
   "cell_type": "code",
   "execution_count": null,
   "id": "96483e86",
   "metadata": {},
   "outputs": [],
   "source": []
  },
  {
   "cell_type": "markdown",
   "id": "warfa-qoo9Lo",
   "metadata": {
    "id": "warfa-qoo9Lo"
   },
   "source": [
    "# Data types\n",
    "\n",
    "| Type        | Example             | Description             |\n",
    "| ----------- | ------------------- | ----------------------- |\n",
    "| `int`       | `42`                | Whole numbers           |\n",
    "| `float`     | `3.14`              | Decimal numbers         |\n",
    "| `complex`   | `1 + 2j`            | Complex numbers         |\n",
    "| `str`       | `\"hello\"`           | Text strings            |\n",
    "| `bool`      | `True`, `False`     | Boolean values          |\n",
    "| `list`      | `[1, 2, 3]`         | Ordered & changeable    |\n",
    "| `tuple`     | `(1, 2, 3)`         | Ordered & unchangeable  |\n",
    "| `range`     | `range(5)`          | Range of numbers        |\n",
    "| `dict`      | `{\"a\": 1}`          | Key-value mapping       |\n",
    "| `set`       | `{1, 2, 3}`         | Unique unordered values |\n",
    "| `frozenset` | `frozenset([1, 2])` | Immutable set           |\n",
    "| `NoneType`  | `None`              | Represents no value     |\n"
   ]
  },
  {
   "cell_type": "markdown",
   "id": "FanONQJ5W2Vd",
   "metadata": {
    "id": "FanONQJ5W2Vd"
   },
   "source": [
    "# Basic operations\n",
    "In python we can perform basic calculations just by typing what we usually do with calculator for example: 1+1 or 1-1 or 1*1"
   ]
  },
  {
   "cell_type": "code",
   "execution_count": null,
   "id": "lm6S00RMWzQU",
   "metadata": {
    "colab": {
     "base_uri": "https://localhost:8080/"
    },
    "id": "lm6S00RMWzQU",
    "outputId": "15937d5f-d4af-4fb0-8448-9a6c93c5cbe4"
   },
   "outputs": [
    {
     "data": {
      "text/plain": [
       "2"
      ]
     },
     "execution_count": 3,
     "metadata": {},
     "output_type": "execute_result"
    }
   ],
   "source": [
    "1+1"
   ]
  },
  {
   "cell_type": "code",
   "execution_count": null,
   "id": "s1J6zsmzW00q",
   "metadata": {
    "colab": {
     "base_uri": "https://localhost:8080/"
    },
    "id": "s1J6zsmzW00q",
    "outputId": "d98677cc-6769-4d67-92dc-8e228ab1d82f"
   },
   "outputs": [
    {
     "data": {
      "text/plain": [
       "0"
      ]
     },
     "execution_count": 4,
     "metadata": {},
     "output_type": "execute_result"
    }
   ],
   "source": [
    "1-1"
   ]
  },
  {
   "cell_type": "code",
   "execution_count": null,
   "id": "sKD6YzqHXZaz",
   "metadata": {
    "colab": {
     "base_uri": "https://localhost:8080/"
    },
    "id": "sKD6YzqHXZaz",
    "outputId": "84e7f790-58bc-4cc8-e65d-6fb8e344c852"
   },
   "outputs": [
    {
     "data": {
      "text/plain": [
       "6"
      ]
     },
     "execution_count": 12,
     "metadata": {},
     "output_type": "execute_result"
    }
   ],
   "source": [
    "# We can use '*' for multiplication\n",
    "2*3"
   ]
  },
  {
   "cell_type": "code",
   "execution_count": null,
   "id": "1Ynz148NXizH",
   "metadata": {
    "colab": {
     "base_uri": "https://localhost:8080/"
    },
    "id": "1Ynz148NXizH",
    "outputId": "e735fd20-c4cf-417f-8ddd-c56a7099f648"
   },
   "outputs": [
    {
     "data": {
      "text/plain": [
       "2.0"
      ]
     },
     "execution_count": 11,
     "metadata": {},
     "output_type": "execute_result"
    }
   ],
   "source": [
    "# Division\n",
    "4/2"
   ]
  },
  {
   "cell_type": "code",
   "execution_count": null,
   "id": "msnbWWdwXqjR",
   "metadata": {
    "colab": {
     "base_uri": "https://localhost:8080/"
    },
    "id": "msnbWWdwXqjR",
    "outputId": "55000bf3-0870-449a-9d73-96c6f69d0657"
   },
   "outputs": [
    {
     "data": {
      "text/plain": [
       "8"
      ]
     },
     "execution_count": 10,
     "metadata": {},
     "output_type": "execute_result"
    }
   ],
   "source": [
    "# for power we use '**'\n",
    "2**3"
   ]
  },
  {
   "cell_type": "code",
   "execution_count": null,
   "id": "UiMIIBpyYmu2",
   "metadata": {
    "colab": {
     "base_uri": "https://localhost:8080/"
    },
    "id": "UiMIIBpyYmu2",
    "outputId": "f19cc4d5-4e17-4969-a8fa-d900c918611b"
   },
   "outputs": [
    {
     "data": {
      "text/plain": [
       "1"
      ]
     },
     "execution_count": 14,
     "metadata": {},
     "output_type": "execute_result"
    }
   ],
   "source": [
    "# Modulus (remainder of integer division)\n",
    "\n",
    "9 % 2"
   ]
  },
  {
   "cell_type": "code",
   "execution_count": null,
   "id": "oRVMmFPBYsW7",
   "metadata": {
    "colab": {
     "base_uri": "https://localhost:8080/"
    },
    "id": "oRVMmFPBYsW7",
    "outputId": "1cc47b20-5106-4d5a-c448-171198204f6d"
   },
   "outputs": [
    {
     "data": {
      "text/plain": [
       "4"
      ]
     },
     "execution_count": 17,
     "metadata": {},
     "output_type": "execute_result"
    }
   ],
   "source": [
    "# Floor division (rounds the result down to the nearest whole number)\n",
    "9//2"
   ]
  },
  {
   "cell_type": "markdown",
   "id": "907ZN1LMmz_7",
   "metadata": {
    "id": "907ZN1LMmz_7"
   },
   "source": [
    "## A table of basic operations\n",
    "\n",
    "\n",
    "| Operator | Description | Example |\n",
    "|----------|-------------|---------|\n",
    "| `=`      | assignment | `a = 3` → `a` is a variable with the value 3 |\n",
    "| `+`      | addition for numbers, concatenation for sequences | `3 + 2` → `5`, `\"text\" + \"s\"` → `\"texts\"` |\n",
    "| `-`      | subtraction | `3 - 2` → `1` |\n",
    "| `*`      | multiplication for numbers, repetition for sequences | `3 * 2` → `6`, `\"text\" * 2` → `\"texttext\"` |\n",
    "| `/`      | division of floating point numbers | `3 / 2` → `1.5` |\n",
    "| `//`     | integer division | `3 // 2` → `1` |\n",
    "| `%`      | modulo (remainder of integer division) | `3 % 2` → `1` |\n",
    "| `**`     | power | `3 ** 2` → `9` |\n",
    "| `+=`     | update (works with other operators too) | `a = 3; a += 2` → `a = 5` |\n",
    "| `>`      | greater than (or longer than for sequences) | `3 > 2` → `True`, `\"mytext\" > \"text\"` → `True` |\n",
    "| `<`      | less than (or shorter than for sequences) | `3 < 2` → `False`, `\"mytext\" < \"text\"` → `False` |\n",
    "| `==`     | equality check | `3 == 3` → `True`, `\"text\" == \"text\"` → `True` |\n",
    "| `!=`     | inequality check | `2 != 3` → `True` |\n",
    "| `not`    | boolean negation | `not True` → `False` |\n",
    "| `or`     | boolean OR | `True or False` → `True` |\n",
    "| `and`    | boolean AND | `True and False` → `False` |\n",
    "| `in`     | containment check | `3 in [1, 2, 3]` → `True` |\n"
   ]
  },
  {
   "cell_type": "code",
   "execution_count": null,
   "id": "1xFOJDkMmyph",
   "metadata": {
    "id": "1xFOJDkMmyph"
   },
   "outputs": [],
   "source": []
  },
  {
   "cell_type": "markdown",
   "id": "y4_Xg9WLE_V5",
   "metadata": {
    "id": "y4_Xg9WLE_V5"
   },
   "source": [
    "# Comments\n",
    "\n",
    "There are two types of comments:\n",
    "\n",
    "- using #\n",
    "- using multi-line ('''or \"\"\")\n",
    "\n",
    "The latter is usually used as a documentation block for functions or classes. It is better not to use it for other purposes, as it can affect code performance. This is because it is treated as a string, which we will define and explain later when discussing functions and classes."
   ]
  },
  {
   "cell_type": "code",
   "execution_count": null,
   "id": "27ab5e04",
   "metadata": {
    "id": "27ab5e04"
   },
   "outputs": [],
   "source": [
    "# This is how to write a comment; the line below will not perform addition.\n",
    "# 1+3"
   ]
  },
  {
   "cell_type": "code",
   "execution_count": null,
   "id": "fa64d4f7",
   "metadata": {
    "colab": {
     "base_uri": "https://localhost:8080/"
    },
    "id": "fa64d4f7",
    "outputId": "3d653938-ba49-438b-9d6f-61d311a6d22e"
   },
   "outputs": [
    {
     "data": {
      "text/plain": [
       "4"
      ]
     },
     "execution_count": 1,
     "metadata": {},
     "output_type": "execute_result"
    }
   ],
   "source": [
    "# bellow without # it will add two numbers\n",
    "1+3"
   ]
  },
  {
   "cell_type": "code",
   "execution_count": null,
   "id": "vmHARvw5HBMa",
   "metadata": {
    "id": "vmHARvw5HBMa"
   },
   "outputs": [],
   "source": []
  },
  {
   "cell_type": "markdown",
   "id": "xAGdlmpLQKcJ",
   "metadata": {
    "id": "xAGdlmpLQKcJ"
   },
   "source": [
    "# Variables\n",
    "\n",
    "A variable is like a box where you can store a piece of information—like a number, text, or list of items.\n",
    "Once you store something in a variable, you can use the variable's name to refer to that value whenever you need it.\n",
    "This makes your code easier to read, manage, and update. The name of a varible shouldn't start with number or a hyphen."
   ]
  },
  {
   "cell_type": "code",
   "execution_count": 1,
   "id": "bnfqLtMwQrpx",
   "metadata": {
    "colab": {
     "base_uri": "https://localhost:8080/"
    },
    "id": "bnfqLtMwQrpx",
    "outputId": "a626de09-d539-4ef2-ce02-1e634c8f3183"
   },
   "outputs": [
    {
     "data": {
      "text/plain": [
       "50"
      ]
     },
     "execution_count": 1,
     "metadata": {},
     "output_type": "execute_result"
    }
   ],
   "source": [
    "myVariable = 20\n",
    "\n",
    "yourVariable = myVariable + 30\n",
    "\n",
    "yourVariable"
   ]
  },
  {
   "cell_type": "code",
   "execution_count": null,
   "id": "rGpQ3sBnSFc_",
   "metadata": {
    "id": "rGpQ3sBnSFc_"
   },
   "outputs": [],
   "source": []
  }
 ],
 "metadata": {
  "colab": {
   "provenance": [],
   "toc_visible": true
  },
  "kernelspec": {
   "display_name": "Python 3 (ipykernel)",
   "language": "python",
   "name": "python3"
  },
  "language_info": {
   "codemirror_mode": {
    "name": "ipython",
    "version": 3
   },
   "file_extension": ".py",
   "mimetype": "text/x-python",
   "name": "python",
   "nbconvert_exporter": "python",
   "pygments_lexer": "ipython3",
   "version": "3.7.13"
  }
 },
 "nbformat": 4,
 "nbformat_minor": 5
}
