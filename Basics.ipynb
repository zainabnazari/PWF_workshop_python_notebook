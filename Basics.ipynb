{
  "cells": [
    {
      "cell_type": "markdown",
      "source": [
        "# Data types\n",
        "\n",
        "| Type        | Example             | Description             |\n",
        "| ----------- | ------------------- | ----------------------- |\n",
        "| `int`       | `42`                | Whole numbers           |\n",
        "| `float`     | `3.14`              | Decimal numbers         |\n",
        "| `complex`   | `1 + 2j`            | Complex numbers         |\n",
        "| `str`       | `\"hello\"`           | Text strings            |\n",
        "| `bool`      | `True`, `False`     | Boolean values          |\n",
        "| `list`      | `[1, 2, 3]`         | Ordered & changeable    |\n",
        "| `tuple`     | `(1, 2, 3)`         | Ordered & unchangeable  |\n",
        "| `range`     | `range(5)`          | Range of numbers        |\n",
        "| `dict`      | `{\"a\": 1}`          | Key-value mapping       |\n",
        "| `set`       | `{1, 2, 3}`         | Unique unordered values |\n",
        "| `frozenset` | `frozenset([1, 2])` | Immutable set           |\n",
        "| `NoneType`  | `None`              | Represents no value     |\n"
      ],
      "metadata": {
        "id": "warfa-qoo9Lo"
      },
      "id": "warfa-qoo9Lo"
    },
    {
      "cell_type": "markdown",
      "source": [
        "# Basic operations\n",
        "In python we can perform basic calculations just by typing what we usually do with calculator for example: 1+1 or 1-1 or 1*1"
      ],
      "metadata": {
        "id": "FanONQJ5W2Vd"
      },
      "id": "FanONQJ5W2Vd"
    },
    {
      "cell_type": "code",
      "source": [
        "1+1"
      ],
      "metadata": {
        "colab": {
          "base_uri": "https://localhost:8080/"
        },
        "id": "lm6S00RMWzQU",
        "outputId": "15937d5f-d4af-4fb0-8448-9a6c93c5cbe4"
      },
      "id": "lm6S00RMWzQU",
      "execution_count": null,
      "outputs": [
        {
          "output_type": "execute_result",
          "data": {
            "text/plain": [
              "2"
            ]
          },
          "metadata": {},
          "execution_count": 3
        }
      ]
    },
    {
      "cell_type": "code",
      "source": [
        "1-1"
      ],
      "metadata": {
        "colab": {
          "base_uri": "https://localhost:8080/"
        },
        "id": "s1J6zsmzW00q",
        "outputId": "d98677cc-6769-4d67-92dc-8e228ab1d82f"
      },
      "id": "s1J6zsmzW00q",
      "execution_count": null,
      "outputs": [
        {
          "output_type": "execute_result",
          "data": {
            "text/plain": [
              "0"
            ]
          },
          "metadata": {},
          "execution_count": 4
        }
      ]
    },
    {
      "cell_type": "code",
      "source": [
        "# We can use '*' for multiplication\n",
        "2*3"
      ],
      "metadata": {
        "colab": {
          "base_uri": "https://localhost:8080/"
        },
        "id": "sKD6YzqHXZaz",
        "outputId": "84e7f790-58bc-4cc8-e65d-6fb8e344c852"
      },
      "id": "sKD6YzqHXZaz",
      "execution_count": null,
      "outputs": [
        {
          "output_type": "execute_result",
          "data": {
            "text/plain": [
              "6"
            ]
          },
          "metadata": {},
          "execution_count": 12
        }
      ]
    },
    {
      "cell_type": "code",
      "source": [
        "# Division\n",
        "4/2"
      ],
      "metadata": {
        "colab": {
          "base_uri": "https://localhost:8080/"
        },
        "id": "1Ynz148NXizH",
        "outputId": "e735fd20-c4cf-417f-8ddd-c56a7099f648"
      },
      "id": "1Ynz148NXizH",
      "execution_count": null,
      "outputs": [
        {
          "output_type": "execute_result",
          "data": {
            "text/plain": [
              "2.0"
            ]
          },
          "metadata": {},
          "execution_count": 11
        }
      ]
    },
    {
      "cell_type": "code",
      "source": [
        "# for power we use '**'\n",
        "2**3"
      ],
      "metadata": {
        "colab": {
          "base_uri": "https://localhost:8080/"
        },
        "id": "msnbWWdwXqjR",
        "outputId": "55000bf3-0870-449a-9d73-96c6f69d0657"
      },
      "id": "msnbWWdwXqjR",
      "execution_count": null,
      "outputs": [
        {
          "output_type": "execute_result",
          "data": {
            "text/plain": [
              "8"
            ]
          },
          "metadata": {},
          "execution_count": 10
        }
      ]
    },
    {
      "cell_type": "code",
      "source": [
        "# Modulus (remainder of integer division)\n",
        "\n",
        "9 % 2"
      ],
      "metadata": {
        "id": "UiMIIBpyYmu2",
        "outputId": "f19cc4d5-4e17-4969-a8fa-d900c918611b",
        "colab": {
          "base_uri": "https://localhost:8080/"
        }
      },
      "id": "UiMIIBpyYmu2",
      "execution_count": null,
      "outputs": [
        {
          "output_type": "execute_result",
          "data": {
            "text/plain": [
              "1"
            ]
          },
          "metadata": {},
          "execution_count": 14
        }
      ]
    },
    {
      "cell_type": "code",
      "source": [
        "# Floor division (rounds the result down to the nearest whole number)\n",
        "9//2"
      ],
      "metadata": {
        "id": "oRVMmFPBYsW7",
        "outputId": "1cc47b20-5106-4d5a-c448-171198204f6d",
        "colab": {
          "base_uri": "https://localhost:8080/"
        }
      },
      "id": "oRVMmFPBYsW7",
      "execution_count": null,
      "outputs": [
        {
          "output_type": "execute_result",
          "data": {
            "text/plain": [
              "4"
            ]
          },
          "metadata": {},
          "execution_count": 17
        }
      ]
    },
    {
      "cell_type": "markdown",
      "source": [
        "## Here is the table of basic operations\n",
        "\n",
        "\n",
        "| Operator | Description | Example |\n",
        "|----------|-------------|---------|\n",
        "| `=`      | assignment | `a = 3` → `a` is a variable with the value 3 |\n",
        "| `+`      | addition for numbers, concatenation for sequences | `3 + 2` → `5`, `\"text\" + \"s\"` → `\"texts\"` |\n",
        "| `-`      | subtraction | `3 - 2` → `1` |\n",
        "| `*`      | multiplication for numbers, repetition for sequences | `3 * 2` → `6`, `\"text\" * 2` → `\"texttext\"` |\n",
        "| `/`      | division of floating point numbers | `3 / 2` → `1.5` |\n",
        "| `//`     | integer division | `3 // 2` → `1` |\n",
        "| `%`      | modulo (remainder of integer division) | `3 % 2` → `1` |\n",
        "| `**`     | power | `3 ** 2` → `9` |\n",
        "| `+=`     | update (works with other operators too) | `a = 3; a += 2` → `a = 5` |\n",
        "| `>`      | greater than (or longer than for sequences) | `3 > 2` → `True`, `\"mytext\" > \"text\"` → `True` |\n",
        "| `<`      | less than (or shorter than for sequences) | `3 < 2` → `False`, `\"mytext\" < \"text\"` → `False` |\n",
        "| `==`     | equality check | `3 == 3` → `True`, `\"text\" == \"text\"` → `True` |\n",
        "| `!=`     | inequality check | `2 != 3` → `True` |\n",
        "| `not`    | boolean negation | `not True` → `False` |\n",
        "| `or`     | boolean OR | `True or False` → `True` |\n",
        "| `and`    | boolean AND | `True and False` → `False` |\n",
        "| `in`     | containment check | `3 in [1, 2, 3]` → `True` |\n"
      ],
      "metadata": {
        "id": "907ZN1LMmz_7"
      },
      "id": "907ZN1LMmz_7"
    },
    {
      "cell_type": "code",
      "source": [],
      "metadata": {
        "id": "1xFOJDkMmyph"
      },
      "id": "1xFOJDkMmyph",
      "execution_count": null,
      "outputs": []
    },
    {
      "cell_type": "markdown",
      "source": [
        "# Comments\n",
        "\n",
        "There are two types of comments:\n",
        "\n",
        "- using #\n",
        "- using multi-line ('''or \"\"\")\n",
        "\n",
        "The latter is usually used as a documentation block for functions or classes. It is better not to use it for other purposes, as it can affect code performance. This is because it is treated as a string, which we will define and explain later when discussing functions and classes."
      ],
      "metadata": {
        "id": "y4_Xg9WLE_V5"
      },
      "id": "y4_Xg9WLE_V5"
    },
    {
      "cell_type": "code",
      "execution_count": null,
      "id": "27ab5e04",
      "metadata": {
        "id": "27ab5e04"
      },
      "outputs": [],
      "source": [
        "# This is how to write a comment; the line below will not perform addition.\n",
        "# 1+3"
      ]
    },
    {
      "cell_type": "code",
      "execution_count": null,
      "id": "fa64d4f7",
      "metadata": {
        "colab": {
          "base_uri": "https://localhost:8080/"
        },
        "id": "fa64d4f7",
        "outputId": "3d653938-ba49-438b-9d6f-61d311a6d22e"
      },
      "outputs": [
        {
          "output_type": "execute_result",
          "data": {
            "text/plain": [
              "4"
            ]
          },
          "metadata": {},
          "execution_count": 1
        }
      ],
      "source": [
        "# bellow without # it will add two numbers\n",
        "1+3"
      ]
    },
    {
      "cell_type": "code",
      "source": [],
      "metadata": {
        "id": "vmHARvw5HBMa"
      },
      "id": "vmHARvw5HBMa",
      "execution_count": null,
      "outputs": []
    }
  ],
  "metadata": {
    "kernelspec": {
      "display_name": "Python 3 (ipykernel)",
      "language": "python",
      "name": "python3"
    },
    "language_info": {
      "codemirror_mode": {
        "name": "ipython",
        "version": 3
      },
      "file_extension": ".py",
      "mimetype": "text/x-python",
      "name": "python",
      "nbconvert_exporter": "python",
      "pygments_lexer": "ipython3",
      "version": "3.7.13"
    },
    "colab": {
      "provenance": [],
      "toc_visible": true
    }
  },
  "nbformat": 4,
  "nbformat_minor": 5
}