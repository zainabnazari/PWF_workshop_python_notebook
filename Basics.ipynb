{
  "cells": [
    {
      "cell_type": "markdown",
      "source": [
        "# Comments\n",
        "\n",
        "There are two types of comments:\n",
        "\n",
        "- using #\n",
        "- using multi-line ('''or \"\"\")\n",
        "\n",
        "The second is usually used for function as documenting block.\n",
        "It is better not to use it for other purpuses as it can affect the performance of the code, the reason is that it is considered as string, and we will define the string later."
      ],
      "metadata": {
        "id": "y4_Xg9WLE_V5"
      },
      "id": "y4_Xg9WLE_V5"
    },
    {
      "cell_type": "code",
      "execution_count": 4,
      "id": "27ab5e04",
      "metadata": {
        "id": "27ab5e04"
      },
      "outputs": [],
      "source": [
        "# This is how is commented and not do addidtion operation.\n",
        "# 1+3"
      ]
    },
    {
      "cell_type": "code",
      "execution_count": 3,
      "id": "fa64d4f7",
      "metadata": {
        "colab": {
          "base_uri": "https://localhost:8080/"
        },
        "id": "fa64d4f7",
        "outputId": "284c6c30-0493-4142-c89c-5037a18cb0b0"
      },
      "outputs": [
        {
          "output_type": "execute_result",
          "data": {
            "text/plain": [
              "4"
            ]
          },
          "metadata": {},
          "execution_count": 3
        }
      ],
      "source": [
        "# bellow without # it wild add two numbers\n",
        "1+3"
      ]
    },
    {
      "cell_type": "code",
      "source": [],
      "metadata": {
        "id": "vmHARvw5HBMa"
      },
      "id": "vmHARvw5HBMa",
      "execution_count": null,
      "outputs": []
    }
  ],
  "metadata": {
    "kernelspec": {
      "display_name": "Python 3 (ipykernel)",
      "language": "python",
      "name": "python3"
    },
    "language_info": {
      "codemirror_mode": {
        "name": "ipython",
        "version": 3
      },
      "file_extension": ".py",
      "mimetype": "text/x-python",
      "name": "python",
      "nbconvert_exporter": "python",
      "pygments_lexer": "ipython3",
      "version": "3.7.13"
    },
    "colab": {
      "provenance": []
    }
  },
  "nbformat": 4,
  "nbformat_minor": 5
}