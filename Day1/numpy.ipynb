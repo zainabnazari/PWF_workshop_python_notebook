{
 "cells": [
  {
   "cell_type": "markdown",
   "id": "b4da6454-38dc-4b30-8cd5-9754b11a706e",
   "metadata": {},
   "source": [
    "<div class=\"alert alert-block alert-success\">\n",
    "    <h1 align=\"center\">NumPy: A Practical, Step‑by‑Step Introduction </h1>\n",
    "    \n",
    "<h3 align=\"center\"> \n",
    "این \n",
    "</h3>\n",
    "<h3 align=\"center\"> \n",
    "$Notebook$\n",
    "</h3>        \n",
    "<h3 align=\"center\">\n",
    "یک تور ساده و عملی از \n",
    "</h3>\n",
    "<h3 align=\"center\">\n",
    "$NumPy$\n",
    "</h3>\n",
    "<h3 align=\"center\">\n",
    "است\n",
    "</h3>    \n",
    "<h3 align=\"center\">\n",
    "هر بخش شامل توضیحات کوتاه\n",
    "</h3>\n",
    "<h3 align=\"center\">    \n",
    "$(Markdown)$\n",
    "</h3>\n",
    "<h3 align=\"center\"> \n",
    "همراه با کدهایی است که می‌توانید اجرا کنید و تغییر دهید\n",
    "</h3>\n",
    "\n",
    "\n",
    "<h4 align=\"center\"> Leila Kalhor, Carl Stermann-Lücke </a></h5>\n",
    "</div>"
   ]
  },
  {
   "cell_type": "markdown",
   "id": "bfd90bc7-fecf-4a0a-adf7-cf48126cdb91",
   "metadata": {},
   "source": [
    " با استفاده از این کتابخانه امکان استفاده از آرایه‌ها و ماتریس‌های بزرگ چند بعدی فراهم می‌شود. هم‌چنین می‌توان از تابع‌های ریاضیاتی سطح بالا بر روی این آرایه‌ها استفاده کرد"
   ]
  },
  {
   "cell_type": "markdown",
   "id": "5e34b866-ac8b-4964-9f26-0b8d822f15b7",
   "metadata": {},
   "source": [
    "<img src = \"https://i.imgur.com/1t7STdM.gif\">"
   ]
  },
  {
   "cell_type": "markdown",
   "id": "23058998",
   "metadata": {},
   "source": [
    "\n",
    "## 0) Setup\n",
    "\n",
    "Run the cell below to make sure NumPy is available and to set up some display helpers.\n"
   ]
  },
  {
   "cell_type": "markdown",
   "id": "711fa7ed-a2c1-4770-a948-736314dd8ebf",
   "metadata": {},
   "source": [
    "<div class=\"alert alert-block alert-success\">\n",
    "    <h1 align=\"center\">راه‌اندازی </h1>\n",
    "\n",
    " <h2 align=\"center\">\n",
    "سلول زیر را اجرا کنید تا مطمئن شوید\n",
    " </h2>  \n",
    "  <h2 align=\"center\">\n",
    "NumPy \n",
    "</h2>     \n",
    " <h2 align=\"center\">\n",
    "در دسترس است و ابزارهای کمکی نمایش آماده شوند\n",
    "</h2>"
   ]
  },
  {
   "cell_type": "code",
   "execution_count": null,
   "id": "da8c3d2c-e8b1-40ab-a5ad-ee2a712450ae",
   "metadata": {},
   "outputs": [],
   "source": [
    "#numpy.org"
   ]
  },
  {
   "cell_type": "code",
   "execution_count": null,
   "id": "f823f6c7",
   "metadata": {},
   "outputs": [],
   "source": [
    "\n",
    "import numpy as np\n",
    "np.__version__\n"
   ]
  },
  {
   "cell_type": "code",
   "execution_count": null,
   "id": "83ee60ca-e45a-40e1-af42-3c2c13f08bc0",
   "metadata": {},
   "outputs": [],
   "source": [
    "print(np.__version__)"
   ]
  },
  {
   "cell_type": "markdown",
   "id": "f99100bc",
   "metadata": {},
   "source": [
    "\n",
    "## 1) Arrays\n",
    "\n",
    "NumPy arrays (`ndarray`) are contiguous, typed blocks of memory. They're fast because operations are vectorized (implemented in C) and avoid Python loops.\n"
   ]
  },
  {
   "cell_type": "markdown",
   "id": "0ab2f600-9e96-4930-bc55-7b2577257153",
   "metadata": {},
   "source": [
    "<div class=\"alert alert-block alert-success\">\n",
    "    <h1 align=\"center\">آرایه‌ها </h1>\n",
    "\n",
    "<h1 align=\"center\">\n",
    "این آرایه‌ها جدولی از عناصر (معمولاً اعداد) هستند که همگی از یک نوع می‌باشند و با یک چندتایی، از اعداد صحیح مثبت اندیس‌گذاری می‌شوند\n",
    "</h1>\n",
    "<h1 align=\"center\">\n",
    "در \n",
    "</h1>\n",
    "<h1 align=\"center\">\n",
    "NumPy \n",
    "</h1>\n",
    "<h1 align=\"center\">\n",
    "ابعاد به نام محور \n",
    "</h1>\n",
    "<h1 align=\"center\">\n",
    "(axe) \n",
    "</h1>\n",
    "<h1 align=\"center\">\n",
    "شناخته می‌شوند. تعداد محورها رتبه \n",
    "</h1>\n",
    "<h1 align=\"center\">\n",
    "(rank) \n",
    "</h1>\n",
    "<h1 align=\"center\">\n",
    "نامیده می‌شود\n",
    "</h1>"
   ]
  },
  {
   "cell_type": "markdown",
   "id": "51e8af15-8d49-4ca5-8d44-7146ad359bea",
   "metadata": {},
   "source": [
    "<img src = \"https://numpy.org/devdocs/_images/np_create_matrix.png\">"
   ]
  },
  {
   "cell_type": "code",
   "execution_count": null,
   "id": "e86524f4-a625-4162-9f96-8a95a4c6b6b4",
   "metadata": {},
   "outputs": [],
   "source": [
    "a = np.array([[1, 2], \n",
    "              [3, 4], \n",
    "              [5, 6]])\n",
    "print(a)"
   ]
  },
  {
   "cell_type": "code",
   "execution_count": null,
   "id": "109cf94b-31da-46b2-808d-721525f9e981",
   "metadata": {},
   "outputs": [],
   "source": [
    "print(np.where(a > 5, a, 0))"
   ]
  },
  {
   "cell_type": "code",
   "execution_count": null,
   "id": "04c9ae3b-590c-4195-9d88-5a4c7bebaf78",
   "metadata": {},
   "outputs": [],
   "source": [
    "#example for shift+tab"
   ]
  },
  {
   "cell_type": "code",
   "execution_count": null,
   "id": "6536a5a7-fe5c-40a3-a279-17d03ee3c1b4",
   "metadata": {},
   "outputs": [],
   "source": []
  },
  {
   "cell_type": "code",
   "execution_count": null,
   "id": "6e49fd14-e90d-4161-80f7-5a5f8b4b165b",
   "metadata": {},
   "outputs": [],
   "source": [
    "import numpy as np\n",
    "a=[-2,5,7,14]\n",
    "b=np.array(a)\n",
    "print(b)"
   ]
  },
  {
   "cell_type": "code",
   "execution_count": null,
   "id": "c6cc4f73-32e4-475c-ac0b-0c2cd53f10a0",
   "metadata": {},
   "outputs": [],
   "source": [
    "print(b[3])"
   ]
  },
  {
   "cell_type": "code",
   "execution_count": null,
   "id": "ec1929e1-e806-4be3-a169-04119cd1f749",
   "metadata": {},
   "outputs": [],
   "source": [
    "print(type(a))"
   ]
  },
  {
   "cell_type": "code",
   "execution_count": null,
   "id": "ee18ba0c-630e-4013-9d4d-093629ce8caf",
   "metadata": {},
   "outputs": [],
   "source": [
    "print(type(b))"
   ]
  },
  {
   "cell_type": "code",
   "execution_count": null,
   "id": "b4440bf7",
   "metadata": {},
   "outputs": [],
   "source": []
  },
  {
   "cell_type": "code",
   "execution_count": null,
   "id": "f82220f4-16ee-4a6f-8561-a15a5ea9e8f7",
   "metadata": {},
   "outputs": [],
   "source": [
    "a = np.array([[0,1,2,3,4,5],\n",
    "             [10,11,12,13,14,15],\n",
    "             [20,21,22,23,24,25],\n",
    "             [30,31,32,33,34,35],\n",
    "             [40,41,42,43,44,45],\n",
    "             [50,51,52,53,54,55]]\n",
    ")\n",
    "a"
   ]
  },
  {
   "cell_type": "code",
   "execution_count": null,
   "id": "39857dbf-3227-4be5-8ad4-4b0922aa3186",
   "metadata": {},
   "outputs": [],
   "source": []
  },
  {
   "cell_type": "markdown",
   "id": "7f6fb2f6-6464-4973-a622-eea905c38e80",
   "metadata": {},
   "source": [
    "<img src = \"http://scipy-lectures.org/_images/numpy_indexing.png\" style=\"width: 50%\">"
   ]
  },
  {
   "cell_type": "code",
   "execution_count": null,
   "id": "0df26b8b-9ccc-4ffb-bdd3-ffa926286429",
   "metadata": {},
   "outputs": [],
   "source": [
    "a[0,3:5]"
   ]
  },
  {
   "cell_type": "markdown",
   "id": "2b026901-947a-49db-bfdc-d5e749a8d960",
   "metadata": {},
   "source": [
    "<img src = \"https://numpy.org/devdocs/_images/np_indexing.png\" style=\"width: 100%\">"
   ]
  },
  {
   "cell_type": "markdown",
   "id": "c8b33bd6-2d14-4000-804d-3e278622a4fb",
   "metadata": {},
   "source": [
    "# 2)Shape and Reshape"
   ]
  },
  {
   "cell_type": "code",
   "execution_count": null,
   "id": "fc4133bf-20f3-40da-9009-6d847aad9f84",
   "metadata": {},
   "outputs": [],
   "source": [
    "print(a.shape)"
   ]
  },
  {
   "cell_type": "code",
   "execution_count": null,
   "id": "027ac40b-f8b9-4772-a026-35d5593f03df",
   "metadata": {},
   "outputs": [],
   "source": [
    "type(a.shape)"
   ]
  },
  {
   "cell_type": "code",
   "execution_count": null,
   "id": "0d1ca835-d15d-4162-b3a1-a165075f8301",
   "metadata": {},
   "outputs": [],
   "source": [
    "print(a.shape[0])"
   ]
  },
  {
   "cell_type": "code",
   "execution_count": null,
   "id": "589fe34a-3da9-4a43-8c06-7100e554f844",
   "metadata": {},
   "outputs": [],
   "source": [
    "b = np.array([[1, 2, 3], [4, 5, 6]])"
   ]
  },
  {
   "cell_type": "code",
   "execution_count": null,
   "id": "9b631264-9b3c-4899-be17-14db01bfe895",
   "metadata": {},
   "outputs": [],
   "source": [
    "b.shape"
   ]
  },
  {
   "cell_type": "code",
   "execution_count": null,
   "id": "cc49e3e6-f8a2-4509-8937-a64d3f6743c4",
   "metadata": {},
   "outputs": [],
   "source": [
    "b"
   ]
  },
  {
   "cell_type": "code",
   "execution_count": null,
   "id": "c7007fe0-a3f1-4584-9197-8d88115e27af",
   "metadata": {},
   "outputs": [],
   "source": [
    "print(np.reshape(b, (3, 2)))"
   ]
  },
  {
   "cell_type": "markdown",
   "id": "9da72df9-9358-488c-abdf-2315d4ff3b1a",
   "metadata": {},
   "source": [
    "<img src=\"https://fgnt.github.io/python_crashkurs_doc/_images/numpy_array_t.png\" width=\"50%\"/>\n"
   ]
  },
  {
   "cell_type": "markdown",
   "id": "29890bc8-a449-4b33-a7b3-0abcf7e0ef07",
   "metadata": {},
   "source": [
    "## 3)Reshaping and flattening multidimensional arrays"
   ]
  },
  {
   "cell_type": "code",
   "execution_count": null,
   "id": "46ceae66-0aad-49dd-a11a-d94a719d8548",
   "metadata": {},
   "outputs": [],
   "source": [
    "print(np.reshape(b, (1, -1)))  # -1 means the number of columns will be determined automatically"
   ]
  },
  {
   "cell_type": "code",
   "execution_count": null,
   "id": "81482394-4114-43bc-95fd-e80d3f70fadc",
   "metadata": {},
   "outputs": [],
   "source": [
    "print(np.reshape(b, (-1, 1)))   # -1 means the number of rows will be determined automatically"
   ]
  },
  {
   "cell_type": "code",
   "execution_count": null,
   "id": "b90ba95a-e81c-43cc-979e-c19b820e19e3",
   "metadata": {},
   "outputs": [],
   "source": []
  },
  {
   "cell_type": "markdown",
   "id": "f06c66bb",
   "metadata": {},
   "source": [
    "\n",
    "## 4) Indexing, Slicing, Views vs. Copies\n",
    "\n",
    "Indexing/slicing usually returns **views** (not copies) which is great for performance but means edits can mutate the original. Use `copy()` to break the link.\n"
   ]
  },
  {
   "cell_type": "code",
   "execution_count": null,
   "id": "342766ad-f946-4899-ab6e-a7c6b956c208",
   "metadata": {},
   "outputs": [],
   "source": [
    "d1 = np.arange(1, 20, step=3)\n",
    "print(d1)"
   ]
  },
  {
   "cell_type": "code",
   "execution_count": null,
   "id": "31e3b8b3-75af-4427-bc12-85dfdeb3bed3",
   "metadata": {},
   "outputs": [],
   "source": [
    "x = np.arange(10)\n",
    "x"
   ]
  },
  {
   "cell_type": "code",
   "execution_count": null,
   "id": "81e959fa-c833-4726-93bc-7758fa4bc841",
   "metadata": {},
   "outputs": [],
   "source": [
    "y = x[2:7]          # view\n",
    "y"
   ]
  },
  {
   "cell_type": "code",
   "execution_count": null,
   "id": "b03d61eb-7347-4f12-86d9-763291380244",
   "metadata": {},
   "outputs": [],
   "source": [
    "y[0] = 99"
   ]
  },
  {
   "cell_type": "code",
   "execution_count": null,
   "id": "01847fb9-ce68-4d8e-829a-cec78296bf35",
   "metadata": {},
   "outputs": [],
   "source": [
    "print(\"x after modifying y:\", x)"
   ]
  },
  {
   "cell_type": "code",
   "execution_count": null,
   "id": "d5c0bc5a",
   "metadata": {},
   "outputs": [],
   "source": [
    "z = x[2:7].copy()   # copy\n",
    "z[0] = -1\n",
    "print(\"x after modifying z:\", x)  # unchanged"
   ]
  },
  {
   "cell_type": "markdown",
   "id": "10b63111-d333-4080-9726-39d00c1360a8",
   "metadata": {},
   "source": [
    "## 5)linspace in numpy"
   ]
  },
  {
   "cell_type": "code",
   "execution_count": null,
   "id": "c430f9a3-fd09-4329-947a-225c1bca0f2d",
   "metadata": {},
   "outputs": [],
   "source": [
    "d2 = np.linspace(1, 2, num=5)\n",
    "print(d2)"
   ]
  },
  {
   "cell_type": "code",
   "execution_count": null,
   "id": "304e4517-e1b6-4457-bc1d-ba241ca53522",
   "metadata": {},
   "outputs": [],
   "source": [
    "d3 = np.linspace(1, 2, num=11)\n",
    "print(d3)"
   ]
  },
  {
   "cell_type": "markdown",
   "id": "93a61715-d3d5-49b3-a56e-65042a06cfb4",
   "metadata": {},
   "source": [
    "### Creating specific arrays\n",
    "- `np.ones`\n",
    "- `np.zeros`\n",
    "- `np.full`\n",
    "- `np.eye`"
   ]
  },
  {
   "cell_type": "code",
   "execution_count": null,
   "id": "24b07ddd-db2b-4f7f-961b-32a65a2c8fd1",
   "metadata": {},
   "outputs": [],
   "source": [
    "print(np.zeros(shape=(2, 3)))"
   ]
  },
  {
   "cell_type": "code",
   "execution_count": null,
   "id": "60f3b604-85ea-4fdc-84cb-32969eda0d9c",
   "metadata": {},
   "outputs": [],
   "source": [
    "print(np.zeros((2, 3)))"
   ]
  },
  {
   "cell_type": "code",
   "execution_count": null,
   "id": "ffad4ce3-3820-439d-963f-ddb27bde2b80",
   "metadata": {},
   "outputs": [],
   "source": [
    "print(np.zeros(shape=(2, 3), dtype=np.int32))"
   ]
  },
  {
   "cell_type": "code",
   "execution_count": null,
   "id": "6c1acb38-b0f8-4b1d-9603-b9a75a60b85a",
   "metadata": {},
   "outputs": [],
   "source": [
    "print(5. * np.ones(shape=(3, 2)))"
   ]
  },
  {
   "cell_type": "code",
   "execution_count": null,
   "id": "a9f1af69-19c6-437b-90db-75963a191590",
   "metadata": {},
   "outputs": [],
   "source": [
    "print(np.full((3, 2), 5))"
   ]
  },
  {
   "cell_type": "code",
   "execution_count": null,
   "id": "35970f05-52c7-4380-ab19-abce805b4c85",
   "metadata": {},
   "outputs": [],
   "source": [
    "print(np.eye(4))"
   ]
  },
  {
   "cell_type": "code",
   "execution_count": null,
   "id": "d70927d5-22af-431e-9b36-00628149a095",
   "metadata": {},
   "outputs": [],
   "source": [
    "print(np.fliplr(np.eye(4)))"
   ]
  },
  {
   "cell_type": "code",
   "execution_count": null,
   "id": "d25d4786-357c-4db7-8d03-e55a84f1bc8b",
   "metadata": {},
   "outputs": [],
   "source": [
    "print(np.random.rand(3, 2))"
   ]
  },
  {
   "cell_type": "markdown",
   "id": "c3e03fe4-5303-417b-8481-daa5345b6ed1",
   "metadata": {},
   "source": [
    "## Operations on numpy arrays"
   ]
  },
  {
   "cell_type": "markdown",
   "id": "d9752c3f-c218-46d4-844f-7dbb5ecfd0d0",
   "metadata": {},
   "source": [
    "<img src=\"https://numpy.org/devdocs/_images/np_sub_mult_divide.png\" /> \n"
   ]
  },
  {
   "cell_type": "code",
   "execution_count": null,
   "id": "1040a8af-922a-4827-974b-d94af5a67dc3",
   "metadata": {},
   "outputs": [],
   "source": [
    "x = np.array([[1, 2], [3, 4]], dtype=np.float64)\n",
    "y = np.array([[5, 6], [7, 8]], dtype=np.float64)\n",
    "\n",
    "print(x)\n",
    "print()\n",
    "print(y)"
   ]
  },
  {
   "cell_type": "code",
   "execution_count": null,
   "id": "fa05add6-e857-4bdb-b1a6-30ce0175b188",
   "metadata": {},
   "outputs": [],
   "source": [
    "# Elementwise sum; both produce the array\n",
    "print(x + y)\n",
    "print()\n",
    "print(np.add(x, y))"
   ]
  },
  {
   "cell_type": "code",
   "execution_count": null,
   "id": "9107c700-da19-4922-8800-60713855f51d",
   "metadata": {},
   "outputs": [],
   "source": [
    "# Elementwise difference; both produce the array\n",
    "print(x - y)\n",
    "print()\n",
    "print(np.subtract(x, y))"
   ]
  },
  {
   "cell_type": "code",
   "execution_count": null,
   "id": "22b505b2-a370-41bf-b127-812bcd0a81fd",
   "metadata": {},
   "outputs": [],
   "source": [
    "# Elementwise product; both produce the array\n",
    "print(x * y)\n",
    "print()\n",
    "print(np.multiply(x, y))"
   ]
  },
  {
   "cell_type": "code",
   "execution_count": null,
   "id": "73389a9b-3397-4473-a37a-9183ef26470b",
   "metadata": {},
   "outputs": [],
   "source": [
    "# Elementwise division; both produce the array\n",
    "print(x / y)\n",
    "print()\n",
    "print(np.divide(x, y))"
   ]
  },
  {
   "cell_type": "code",
   "execution_count": null,
   "id": "7ae4684d-6a45-4f86-8630-b32ce0d2f0a2",
   "metadata": {},
   "outputs": [],
   "source": [
    "# Elementwise square root; produces the array\n",
    "print(np.sqrt(x))"
   ]
  },
  {
   "cell_type": "markdown",
   "id": "7ae8a39a-9764-4e0a-92b6-d65ec88bdf05",
   "metadata": {},
   "source": [
    "# Adding, removing, and sorting elements"
   ]
  },
  {
   "cell_type": "code",
   "execution_count": null,
   "id": "d5bd2af9-0d6a-4195-a526-71f64b7c2e53",
   "metadata": {},
   "outputs": [],
   "source": [
    "arr = np.array([2, 1, 5, 3, 7, 4, 6, 8])"
   ]
  },
  {
   "cell_type": "code",
   "execution_count": null,
   "id": "90bb22c5-71ec-4f83-a4eb-d2645ff09906",
   "metadata": {},
   "outputs": [],
   "source": [
    "np.sort(arr)"
   ]
  },
  {
   "cell_type": "code",
   "execution_count": null,
   "id": "1d9fc55c-0e8c-483b-abfe-00f252461726",
   "metadata": {},
   "outputs": [],
   "source": [
    "a = np.array([10, 20, 30, 40])\n",
    "b = np.array([50, 60, 70, 80])"
   ]
  },
  {
   "cell_type": "code",
   "execution_count": null,
   "id": "d4fbcac9-7ead-4afe-b12e-d56aa0c205b3",
   "metadata": {},
   "outputs": [],
   "source": [
    "np.concatenate((a, b))"
   ]
  },
  {
   "cell_type": "markdown",
   "id": "70f71689-926a-4bfe-af3b-b95a02295af1",
   "metadata": {},
   "source": [
    "# More useful array operations"
   ]
  },
  {
   "cell_type": "markdown",
   "id": "de6eb9dd-da27-440c-add4-775749ec45fe",
   "metadata": {},
   "source": [
    "<img src=\"https://numpy.org/devdocs/_images/np_aggregation.png\" /> "
   ]
  },
  {
   "cell_type": "code",
   "execution_count": null,
   "id": "cabc69af-f6bc-421c-b126-fba8ced837a8",
   "metadata": {},
   "outputs": [],
   "source": [
    "a"
   ]
  },
  {
   "cell_type": "code",
   "execution_count": null,
   "id": "fe0d8516-14d3-48fd-98ca-3a87c991d4c3",
   "metadata": {},
   "outputs": [],
   "source": [
    "type(a)"
   ]
  },
  {
   "cell_type": "code",
   "execution_count": null,
   "id": "4c5c1b15-a3e1-4c2e-a0b8-97fae07d3e69",
   "metadata": {},
   "outputs": [],
   "source": [
    "a.sum()"
   ]
  },
  {
   "cell_type": "code",
   "execution_count": null,
   "id": "5c868247-42ab-4475-8f47-6e1e4e25c569",
   "metadata": {},
   "outputs": [],
   "source": [
    "a.min()"
   ]
  },
  {
   "cell_type": "code",
   "execution_count": null,
   "id": "a632fa10-d66e-42ca-933c-bc8efded774d",
   "metadata": {},
   "outputs": [],
   "source": [
    "a.max()"
   ]
  },
  {
   "cell_type": "code",
   "execution_count": null,
   "id": "e2c0d993-3589-4435-ad40-f61315cd7bfe",
   "metadata": {},
   "outputs": [],
   "source": [
    "a.max(axis=0)"
   ]
  },
  {
   "cell_type": "code",
   "execution_count": null,
   "id": "e3125f71-97f4-43bf-a99f-3ae12ddcafcd",
   "metadata": {},
   "outputs": [],
   "source": [
    "a.max(axis=1)"
   ]
  },
  {
   "cell_type": "markdown",
   "id": "975af56b-90f4-43ef-9c01-4c0dc03e9bf9",
   "metadata": {},
   "source": [
    "<img src=\"https://numpy.org/devdocs/_images/np_matrix_aggregation_row.png\" /> "
   ]
  },
  {
   "cell_type": "code",
   "execution_count": null,
   "id": "34f89444-92ea-4bb1-a704-1889992af4a2",
   "metadata": {},
   "outputs": [],
   "source": []
  },
  {
   "cell_type": "markdown",
   "id": "711da8c7",
   "metadata": {},
   "source": [
    "\n",
    "## 6) Broadcasting\n",
    "\n",
    "Broadcasting lets you combine arrays with different but **compatible** shapes by virtually expanding dimensions (no data is actually copied).\n"
   ]
  },
  {
   "cell_type": "code",
   "execution_count": null,
   "id": "45634d3d-aadc-46c9-880c-b28d7d97737b",
   "metadata": {},
   "outputs": [],
   "source": [
    "M = np.ones((3, 4))\n",
    "M"
   ]
  },
  {
   "cell_type": "code",
   "execution_count": null,
   "id": "d3797af7-c8e5-4178-a8c4-37bcfaf724ef",
   "metadata": {},
   "outputs": [],
   "source": [
    "v = np.arange(4)\n",
    "v"
   ]
  },
  {
   "cell_type": "code",
   "execution_count": null,
   "id": "446f1fa0",
   "metadata": {},
   "outputs": [],
   "source": [
    "\n",
    "M = np.ones((3, 4))\n",
    "v = np.arange(4)\n",
    "# v is treated as (1,4) then tiled across the 3 rows\n",
    "M_plus_v = M + v\n",
    "M_plus_v\n"
   ]
  },
  {
   "cell_type": "code",
   "execution_count": null,
   "id": "a83613f9-5d2f-49d1-a2ea-101a42e61131",
   "metadata": {},
   "outputs": [],
   "source": [
    "# [[1+0, 1+1, 1+2, 1+3],\n",
    "#  [1+0, 1+1, 1+2, 1+3],\n",
    "#  [1+0, 1+1, 1+2, 1+3]]"
   ]
  },
  {
   "cell_type": "markdown",
   "id": "4f165c9a",
   "metadata": {},
   "source": [
    "\n",
    "## 7) Linear Algebra Essentials\n",
    "\n",
    "NumPy provides `np.linalg` for common operations used in ML and physics.\n"
   ]
  },
  {
   "cell_type": "markdown",
   "id": "f5d5e779-b7f3-4bf4-8d7e-deb3287e902c",
   "metadata": {},
   "source": [
    "$ A= \\begin{bmatrix}\n",
    "3 & 2  \\\\\n",
    "1 & 4  \\\\\n",
    "\\end{bmatrix}$     \n",
    "\n",
    "$ b= \\begin{bmatrix}\n",
    "7  \\\\\n",
    "5   \\\\\n",
    "\\end{bmatrix}$  "
   ]
  },
  {
   "cell_type": "markdown",
   "id": "8e200932-8cb1-41fd-9436-b47cf7545b03",
   "metadata": {},
   "source": [
    "$$\n",
    "A x = b\n",
    "$$\n",
    "\n",
    "$$\n",
    "\\begin{bmatrix}\n",
    "3 & 2 \\\\\n",
    "1 & 4\n",
    "\\end{bmatrix}\n",
    "\\cdot\n",
    "\\begin{bmatrix}\n",
    "x_1 \\\\\n",
    "x_2\n",
    "\\end{bmatrix}\n",
    "=\n",
    "\\begin{bmatrix}\n",
    "7 \\\\\n",
    "5\n",
    "\\end{bmatrix}\n",
    "$$\n",
    "\n"
   ]
  },
  {
   "cell_type": "markdown",
   "id": "c119872d-927c-49ff-b1fd-116f0c26b342",
   "metadata": {},
   "source": [
    "### Singular Value Decomposition (SVD)\n",
    "\n",
    "Using the following command, a matrix can be decomposed into three parts:\n",
    "\n",
    "\\[\n",
    "A = U \\, $\\Sigma$ \\, $V^T$\n",
    "\\]\n",
    "\n",
    "- Matrix \\( U \\):  \n",
    "  An orthogonal matrix that contains the left singular vectors.  \n",
    "- Matrix \\( $\\Sigma$ \\):  \n",
    "  A diagonal matrix whose diagonal entries are the singular values. (In NumPy, they are returned as the array `s`.)  \n",
    "- Matrix \\( $V^T$ \\):  \n",
    "  The transpose of matrix \\( V \\), which contains the right singular vectors.  \n",
    "\n",
    "This decomposition is widely used in applications such as **machine learning**, **dimensionality reduction (PCA)**, **computational physics**, and **signal processing**.\n"
   ]
  },
  {
   "cell_type": "code",
   "execution_count": null,
   "id": "498daa72",
   "metadata": {},
   "outputs": [],
   "source": [
    "\n",
    "A = np.array([[3., 2.], [1., 4.]])\n",
    "b = np.array([7., 5.])\n",
    "\n",
    "detA = np.linalg.det(A)\n",
    "x_sol = np.linalg.solve(A, b)\n",
    "U, s, Vt = np.linalg.svd(A)\n",
    "\n",
    "detA, x_sol, s\n"
   ]
  },
  {
   "cell_type": "markdown",
   "id": "b134155d",
   "metadata": {},
   "source": [
    "\n",
    "## 8) Random Numbers and Reproducibility\n",
    "\n",
    "Use `np.random.default_rng(seed)` for modern, reproducible randomness.\n"
   ]
  },
  {
   "cell_type": "code",
   "execution_count": null,
   "id": "30bc4d75",
   "metadata": {},
   "outputs": [],
   "source": [
    "\n",
    "rng = np.random.default_rng(42)\n",
    "samples = rng.normal(loc=0, scale=1, size=5)\n",
    "samples\n"
   ]
  },
  {
   "cell_type": "code",
   "execution_count": null,
   "id": "9dd9e885-d984-4b5f-9675-68d51861643a",
   "metadata": {},
   "outputs": [],
   "source": []
  }
 ],
 "metadata": {
  "kernelspec": {
   "display_name": "Python 3 (ipykernel)",
   "language": "python",
   "name": "python3"
  },
  "language_info": {
   "codemirror_mode": {
    "name": "ipython",
    "version": 3
   },
   "file_extension": ".py",
   "mimetype": "text/x-python",
   "name": "python",
   "nbconvert_exporter": "python",
   "pygments_lexer": "ipython3",
   "version": "3.12.2"
  }
 },
 "nbformat": 4,
 "nbformat_minor": 5
}
