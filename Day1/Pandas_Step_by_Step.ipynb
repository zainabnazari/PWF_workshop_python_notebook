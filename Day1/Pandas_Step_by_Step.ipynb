{
 "cells": [
  {
   "cell_type": "markdown",
   "id": "6aa52ca7-5ebb-4fe1-bbca-16a7fb1ea7bd",
   "metadata": {},
   "source": [
    "<img src=\"https://cdn.activestate.com/wp-content/uploads/2020/10/everything-about-pandas-1024x512.png\" /> "
   ]
  },
  {
   "cell_type": "markdown",
   "id": "6f1b36a5",
   "metadata": {},
   "source": [
    "## 1) Setup\n",
    "\n",
    "Import pandas (as `pd`) and a few helpers. We'll also set a random generator for reproducibility.\n"
   ]
  },
  {
   "cell_type": "code",
   "execution_count": null,
   "id": "25a8d014",
   "metadata": {},
   "outputs": [],
   "source": [
    "import pandas as pd\n",
    "\n",
    "pd.__version__"
   ]
  },
  {
   "cell_type": "code",
   "execution_count": null,
   "id": "d799d0df-032e-4c5d-b054-e7215b4e4637",
   "metadata": {},
   "outputs": [],
   "source": [
    "print(pd.__version__)"
   ]
  },
  {
   "cell_type": "markdown",
   "id": "a255f5f0",
   "metadata": {},
   "source": [
    "## 2) Core Objects: `Series` and `DataFrame`\n",
    "\n",
    "- A **Series** is a 1D labeled array (values + index).\n",
    "- A **DataFrame** is a 2D table of columns (each a Series) sharing the same index.\n"
   ]
  },
  {
   "cell_type": "code",
   "execution_count": null,
   "id": "7b1580ca",
   "metadata": {},
   "outputs": [],
   "source": [
    "# Series\n",
    "s = pd.Series([10, 20, 30], index=['a', 'b', 'c'], dtype='int64')\n",
    "display(s)\n",
    "# print(\"values:\", s.values, \"| index:\", s.index.tolist(), \"| dtype:\", s.dtype)"
   ]
  },
  {
   "cell_type": "code",
   "execution_count": null,
   "id": "8e7fab11-b2ca-499e-b741-2f04f8d9818a",
   "metadata": {},
   "outputs": [],
   "source": [
    "# DataFrame from dict of lists\n",
    "df = pd.DataFrame({\n",
    "    \"city\": [\"Baku\", \"Tbilisi\", \"Yerevan\", \"Baku\", \"Tbilisi\", \"Harat\", \"Kabul\"],\n",
    "    \"year\": [2023, 2023, 2023, 2024, 2024, 2025, 2025],\n",
    "    \"sales\": [100, 80, 75, 120, 95, 100, 90],\n",
    "    \"price\": [1000, 1500, 500, 2000, 200, 1000, 1500]\n",
    "})\n",
    "df"
   ]
  },
  {
   "cell_type": "markdown",
   "id": "21b238c8-7d3f-4a1d-9740-25165525a066",
   "metadata": {},
   "source": [
    "<div class=\"alert alert-block alert-success\">\n",
    "<h2 style=\"color:royalblue\"> pd.read_csv()  </h2>"
   ]
  },
  {
   "cell_type": "code",
   "execution_count": null,
   "id": "99b77f3a-55af-4cb0-a800-e23c80433f73",
   "metadata": {},
   "outputs": [],
   "source": [
    "df1 = pd.read_csv(\"students.csv\")\n"
   ]
  },
  {
   "cell_type": "code",
   "execution_count": null,
   "id": "79a1c404-4989-4ae1-aa9c-6aa37fb167d4",
   "metadata": {},
   "outputs": [],
   "source": [
    "df1"
   ]
  },
  {
   "cell_type": "code",
   "execution_count": null,
   "id": "d5a7955e-f41e-410a-af2e-4541557dc143",
   "metadata": {},
   "outputs": [],
   "source": [
    "type(df1)"
   ]
  },
  {
   "cell_type": "code",
   "execution_count": null,
   "id": "e76dc0c6-ab5f-4be9-bd1e-c47f031d8abd",
   "metadata": {},
   "outputs": [],
   "source": [
    "df1.head()"
   ]
  },
  {
   "cell_type": "code",
   "execution_count": null,
   "id": "1c1bdce1-b349-4d8c-9e4c-8e82e3b5f907",
   "metadata": {},
   "outputs": [],
   "source": [
    "df1.tail()"
   ]
  },
  {
   "cell_type": "markdown",
   "id": "ca90eaf0-3bfc-4751-ae6d-d7bfb9d65730",
   "metadata": {},
   "source": [
    "<div class=\"alert alert-block alert-success\">\n",
    "<h2 style=\"color:royalblue\"> Shape  </h2>"
   ]
  },
  {
   "cell_type": "code",
   "execution_count": null,
   "id": "036f101a-e865-4efc-85a0-87626858159c",
   "metadata": {},
   "outputs": [],
   "source": [
    "df1.shape"
   ]
  },
  {
   "cell_type": "markdown",
   "id": "8657d26d-9057-44f9-8b98-2889f78c3e65",
   "metadata": {},
   "source": [
    "<div class=\"alert alert-block alert-success\">\n",
    "<h2 style=\"color:royalblue\"> Columns  </h2>"
   ]
  },
  {
   "cell_type": "code",
   "execution_count": null,
   "id": "98e6e9be-363e-4bda-87f6-6b5a3868f597",
   "metadata": {},
   "outputs": [],
   "source": [
    "df1.columns"
   ]
  },
  {
   "cell_type": "markdown",
   "id": "5fdc00d3-056c-4d31-8d9e-efa2ca2592f4",
   "metadata": {},
   "source": [
    "<div class=\"alert alert-block alert-success\">\n",
    "<h2 style=\"color:royalblue\"> dtypes </h2>"
   ]
  },
  {
   "cell_type": "code",
   "execution_count": null,
   "id": "ee1973d2-fd7d-4a0f-bc57-755b138327c4",
   "metadata": {},
   "outputs": [],
   "source": [
    "df1.dtypes"
   ]
  },
  {
   "cell_type": "markdown",
   "id": "c17edc2f-bfe6-4256-9046-3e3baf32230d",
   "metadata": {},
   "source": [
    "<div class=\"alert alert-block alert-success\">\n",
    "<h2 style=\"color:royalblue\"> info() </h2>"
   ]
  },
  {
   "cell_type": "code",
   "execution_count": null,
   "id": "2feb3a6f-6bcb-46f4-bc23-2fc8d56115a8",
   "metadata": {},
   "outputs": [],
   "source": [
    "df1.info()"
   ]
  },
  {
   "cell_type": "markdown",
   "id": "80e31d4d-a9f5-4c5f-9652-8acdced91c0a",
   "metadata": {},
   "source": [
    "<div class=\"alert alert-block alert-success\">\n",
    "<h2 style=\"color:royalblue\"> describe() </h2>"
   ]
  },
  {
   "cell_type": "code",
   "execution_count": null,
   "id": "e1bbc563-a60a-4f5e-9f27-bd0dcd282c0f",
   "metadata": {},
   "outputs": [],
   "source": [
    "df1.describe()"
   ]
  },
  {
   "cell_type": "markdown",
   "id": "a404f970-655d-43f4-a478-4db9bcddcc52",
   "metadata": {},
   "source": [
    "<div class=\"alert alert-block alert-success\">\n",
    "<h2 style=\"color:royalblue\"> Choosing Rows , Columns </h2>"
   ]
  },
  {
   "cell_type": "code",
   "execution_count": null,
   "id": "62020999-2996-4f99-b590-40eda827feb1",
   "metadata": {},
   "outputs": [],
   "source": [
    "df1[\"subject\"][0:5]"
   ]
  },
  {
   "cell_type": "code",
   "execution_count": null,
   "id": "78a774de-c163-4f94-bfe2-8e6bcaf14ace",
   "metadata": {},
   "outputs": [],
   "source": [
    "df1[\"city\"][0:5]"
   ]
  },
  {
   "cell_type": "code",
   "execution_count": null,
   "id": "37e44575-ceff-4d3f-bd3f-6cdba148ae66",
   "metadata": {},
   "outputs": [],
   "source": [
    "df1[\"passed\"][0:5]"
   ]
  },
  {
   "cell_type": "code",
   "execution_count": null,
   "id": "357f9b68-d017-468c-8e2b-3232cd98a02b",
   "metadata": {},
   "outputs": [],
   "source": [
    "df1.city[0:5]"
   ]
  },
  {
   "cell_type": "code",
   "execution_count": null,
   "id": "4e122b9f-f01a-4df7-9381-9127f3ebbbc2",
   "metadata": {},
   "outputs": [],
   "source": []
  },
  {
   "cell_type": "code",
   "execution_count": null,
   "id": "4b6e4457-8bd8-43d9-9057-18470fc789b1",
   "metadata": {},
   "outputs": [],
   "source": [
    "df1[['city','passed','age']][0:5]"
   ]
  },
  {
   "cell_type": "markdown",
   "id": "7b750a79-774a-4824-bf56-e59a9922764e",
   "metadata": {},
   "source": [
    "<div class=\"alert alert-block alert-success\">\n",
    "<h2 style=\"color:royalblue\"> value_counts() </h2>"
   ]
  },
  {
   "cell_type": "code",
   "execution_count": null,
   "id": "7c7ba8bf-cdad-44af-9306-e8f56e4ce9a0",
   "metadata": {},
   "outputs": [],
   "source": [
    "df1['city'].value_counts()"
   ]
  },
  {
   "cell_type": "code",
   "execution_count": null,
   "id": "42714d0b-0601-49c9-bc29-65b9b3127299",
   "metadata": {},
   "outputs": [],
   "source": [
    "df1['passed'].value_counts()"
   ]
  },
  {
   "cell_type": "code",
   "execution_count": null,
   "id": "9755bd13-a796-4930-88dd-fe1470114abe",
   "metadata": {},
   "outputs": [],
   "source": [
    "df1['passed'].value_counts(normalize=True) *100"
   ]
  },
  {
   "cell_type": "markdown",
   "id": "163e09d7-2ff7-475c-a150-504138c5a3b5",
   "metadata": {},
   "source": [
    "<div class=\"alert alert-block alert-success\">\n",
    "<h2 style=\"color:royalblue\"> crosstab() </h2>"
   ]
  },
  {
   "cell_type": "code",
   "execution_count": null,
   "id": "f92f5dc0-3070-45a2-b231-3c57995e14cc",
   "metadata": {},
   "outputs": [],
   "source": [
    "pd.crosstab(df1.age, df1.passed)"
   ]
  },
  {
   "cell_type": "code",
   "execution_count": null,
   "id": "ce9c1af1-2baf-4fee-829e-3cffb6eacdc4",
   "metadata": {},
   "outputs": [],
   "source": [
    "pd.crosstab(df1.age, df1.passed, normalize = \"index\")"
   ]
  },
  {
   "cell_type": "code",
   "execution_count": null,
   "id": "346096ed-bd0a-4ecf-95d2-70bc5213fd08",
   "metadata": {},
   "outputs": [],
   "source": [
    "pd.crosstab(df1.age, df1.passed, normalize = \"columns\")"
   ]
  },
  {
   "cell_type": "code",
   "execution_count": null,
   "id": "e3f85928-4429-42cb-96a8-468b2202e61f",
   "metadata": {},
   "outputs": [],
   "source": [
    "pd.crosstab(df1.age, df1.passed, normalize = \"all\")"
   ]
  },
  {
   "cell_type": "markdown",
   "id": "7e840bfb-317b-400e-8989-9934bbec6045",
   "metadata": {},
   "source": [
    "<div class=\"alert alert-block alert-success\">\n",
    "<h2 style=\"color:royalblue\"> Conditions </h2>"
   ]
  },
  {
   "cell_type": "code",
   "execution_count": null,
   "id": "31c4ef2e-5a3c-4142-be97-643733f2d9c8",
   "metadata": {},
   "outputs": [],
   "source": [
    "students_age = df1[df1.age <= 16]\n",
    "students_age[0:3]"
   ]
  },
  {
   "cell_type": "code",
   "execution_count": null,
   "id": "64d876d3-7bb7-440d-8a3a-15abd0858404",
   "metadata": {},
   "outputs": [],
   "source": [
    "students_age.shape"
   ]
  },
  {
   "cell_type": "code",
   "execution_count": null,
   "id": "6537caec-b409-463a-90fc-3b8364a02289",
   "metadata": {},
   "outputs": [],
   "source": [
    "df1[df1.age <= 16][[\"gender\",\"city\"]].value_counts()"
   ]
  },
  {
   "cell_type": "code",
   "execution_count": null,
   "id": "9fbf36d4-cc6e-444b-9b88-9eb640e3cb8d",
   "metadata": {},
   "outputs": [],
   "source": [
    "df1[df1.age <= 16][\"gender\"].value_counts()"
   ]
  },
  {
   "cell_type": "code",
   "execution_count": null,
   "id": "33dc6a18-a0b4-4e64-895f-7e28316e3e8e",
   "metadata": {},
   "outputs": [],
   "source": [
    "df1[df1.age <= 16][\"gender\"].value_counts(normalize=True)"
   ]
  },
  {
   "cell_type": "code",
   "execution_count": null,
   "id": "65f66087-92cd-4dba-9949-74293f5a7b03",
   "metadata": {},
   "outputs": [],
   "source": [
    "df1.columns"
   ]
  },
  {
   "cell_type": "code",
   "execution_count": null,
   "id": "10960d6c-bd8d-410b-85cb-6d51486c16a8",
   "metadata": {},
   "outputs": [],
   "source": [
    "df1[df1.name.str.contains(\"Fuad\")]"
   ]
  },
  {
   "cell_type": "markdown",
   "id": "2375fe78-d1eb-4bba-a3b0-24086d5cdda7",
   "metadata": {},
   "source": [
    "<div class=\"alert alert-block alert-success\">\n",
    "<h2 style=\"color:royalblue\"> unique() </h2>"
   ]
  },
  {
   "cell_type": "code",
   "execution_count": null,
   "id": "88dba7c7-7975-4c32-92ca-77c7113cf99d",
   "metadata": {},
   "outputs": [],
   "source": [
    "df1.age.unique()"
   ]
  },
  {
   "cell_type": "code",
   "execution_count": null,
   "id": "54f3901a-8d93-4f95-9dca-52cea24cb931",
   "metadata": {},
   "outputs": [],
   "source": [
    "df1[(df1.score >= 50) &\n",
    "    (df1.hours_studied > 2)][[\"age\", \"city\",\"subject\", \"passed\"]][0:3]"
   ]
  },
  {
   "cell_type": "code",
   "execution_count": null,
   "id": "82ad2397-8141-42a2-9a6c-6b215653a23b",
   "metadata": {},
   "outputs": [],
   "source": [
    "df1[(df1.gender == M) &\n",
    "    (df1.passed == True)][[\"age\", \"city\",\"subject\"]][0:3]"
   ]
  },
  {
   "cell_type": "code",
   "execution_count": null,
   "id": "5b7bf0f3-15cf-466c-a686-3b3fcd3f7ceb",
   "metadata": {},
   "outputs": [],
   "source": []
  },
  {
   "cell_type": "markdown",
   "id": "f0f14220-021b-43ab-9000-7bd511b62233",
   "metadata": {},
   "source": [
    "<div class=\"alert alert-block alert-success\">\n",
    "<h2 style=\"color:royalblue\"> groupby() </h2>"
   ]
  },
  {
   "cell_type": "code",
   "execution_count": null,
   "id": "ae1318b8-1cc1-4f39-95b2-310908af8c2e",
   "metadata": {},
   "outputs": [],
   "source": [
    "df1.groupby('city')['score'].mean()"
   ]
  },
  {
   "cell_type": "code",
   "execution_count": null,
   "id": "7299015d-b774-4fa5-a7ba-b132516d6186",
   "metadata": {},
   "outputs": [],
   "source": [
    "df1.groupby('city')['hours_studied'].mean()"
   ]
  },
  {
   "cell_type": "code",
   "execution_count": null,
   "id": "e8fbb46e-999a-42ed-add3-446a9a3bdf67",
   "metadata": {},
   "outputs": [],
   "source": [
    "df1.groupby('age')['hours_studied'].mean()"
   ]
  },
  {
   "cell_type": "code",
   "execution_count": null,
   "id": "a1d6a974-7aee-464c-a973-b973b62b15a4",
   "metadata": {},
   "outputs": [],
   "source": [
    "df1.groupby('score')['hours_studied'].mean()"
   ]
  },
  {
   "cell_type": "code",
   "execution_count": null,
   "id": "ddd8f0ab-1677-461f-a4b6-d7c98bedb839",
   "metadata": {},
   "outputs": [],
   "source": [
    "df1.groupby(['score','gender'])['age'].mean()"
   ]
  },
  {
   "cell_type": "markdown",
   "id": "2a3afd81-e105-4594-846c-51240aa53616",
   "metadata": {},
   "source": [
    "<div class=\"alert alert-block alert-success\">\n",
    "<h2 style=\"color:royalblue\"> Sort </h2>"
   ]
  },
  {
   "cell_type": "code",
   "execution_count": null,
   "id": "fc652196-1f1e-4fb7-8d58-89da32167c57",
   "metadata": {},
   "outputs": [],
   "source": [
    "df1.sort_values(\"score\")"
   ]
  },
  {
   "cell_type": "code",
   "execution_count": null,
   "id": "44d3e987-45af-4bf4-9fb9-f7bc1092609f",
   "metadata": {},
   "outputs": [],
   "source": [
    "df1.sort_values(\"score\", ascending=False)"
   ]
  },
  {
   "cell_type": "markdown",
   "id": "f9978782-4655-4eda-9ed0-1c76ac9938d0",
   "metadata": {},
   "source": [
    "# iloc , loc"
   ]
  },
  {
   "cell_type": "code",
   "execution_count": null,
   "id": "663dfdd6-d877-4ed1-b012-81d4b3be5312",
   "metadata": {},
   "outputs": [],
   "source": [
    "df1"
   ]
  },
  {
   "cell_type": "code",
   "execution_count": null,
   "id": "cac71e25-4ff5-4b88-9787-cb0eb04e833b",
   "metadata": {},
   "outputs": [],
   "source": [
    "df1.iloc[3]"
   ]
  },
  {
   "cell_type": "code",
   "execution_count": null,
   "id": "8015d410-8887-4bfb-b806-1263e4d3c432",
   "metadata": {},
   "outputs": [],
   "source": [
    "df1.iloc[[3,9,50]]"
   ]
  },
  {
   "cell_type": "code",
   "execution_count": null,
   "id": "b33014f3-5786-4ebc-85c5-f5bcacb8d881",
   "metadata": {},
   "outputs": [],
   "source": [
    "df1.iloc[[3,4],[1,2,3]]"
   ]
  },
  {
   "cell_type": "code",
   "execution_count": null,
   "id": "20f88396-57a1-439c-a159-cb0ac246e79a",
   "metadata": {},
   "outputs": [],
   "source": [
    "df1.iloc[2:5, 3:7]"
   ]
  },
  {
   "cell_type": "code",
   "execution_count": null,
   "id": "fa478b2e-b0d4-4efa-803d-0de2c212f721",
   "metadata": {},
   "outputs": [],
   "source": [
    "df1.iloc[:, 1:4]"
   ]
  },
  {
   "cell_type": "markdown",
   "id": "11f73077-a8d0-489c-bbd5-535cd6958d59",
   "metadata": {},
   "source": [
    "# loc"
   ]
  },
  {
   "cell_type": "code",
   "execution_count": null,
   "id": "d7d8dd0c-4bdd-4c04-a1cb-f34a64576f11",
   "metadata": {},
   "outputs": [],
   "source": [
    "df1"
   ]
  },
  {
   "cell_type": "code",
   "execution_count": null,
   "id": "67ce20b1-f0af-43b5-ad27-866c233f5200",
   "metadata": {},
   "outputs": [],
   "source": [
    "# df1"
   ]
  },
  {
   "cell_type": "code",
   "execution_count": null,
   "id": "cb1cbfff-770d-414c-be42-465cd194f51d",
   "metadata": {},
   "outputs": [],
   "source": [
    "df2 = pd.read_csv(\"students.csv\", index_col=\"name\")"
   ]
  },
  {
   "cell_type": "code",
   "execution_count": null,
   "id": "99208065-d017-4891-b31c-99835972be3c",
   "metadata": {},
   "outputs": [],
   "source": [
    "df2"
   ]
  },
  {
   "cell_type": "code",
   "execution_count": null,
   "id": "62bf2304-c0d6-4270-8c52-817695cedb9d",
   "metadata": {},
   "outputs": [],
   "source": [
    "df2.loc['Raul']"
   ]
  },
  {
   "cell_type": "code",
   "execution_count": null,
   "id": "ea71e7c8-0f6a-40a6-b0c9-59f48a1c6f09",
   "metadata": {},
   "outputs": [],
   "source": [
    "df2.loc[['Raul'],['subject','city','score']]"
   ]
  },
  {
   "cell_type": "code",
   "execution_count": null,
   "id": "7a7cdbd8-f1aa-446d-970c-9a89f034c0a3",
   "metadata": {},
   "outputs": [],
   "source": []
  },
  {
   "cell_type": "code",
   "execution_count": null,
   "id": "4ae66d9d-c50f-4e4e-80e3-5f9f4bd6c665",
   "metadata": {},
   "outputs": [],
   "source": []
  },
  {
   "cell_type": "markdown",
   "id": "28cb2536-751a-44c0-b270-d15459126e02",
   "metadata": {},
   "source": [
    "<div class=\"alert alert-block alert-success\">\n",
    "<h2 style=\"color:royalblue\"> Visualization </h2>"
   ]
  },
  {
   "cell_type": "code",
   "execution_count": null,
   "id": "82abdbb0-ad3b-4a8e-8620-cf7dd93229d4",
   "metadata": {},
   "outputs": [],
   "source": [
    "import matplotlib.pyplot as plt\n",
    "\n",
    "scores = df1[\"score\"].dropna()  # حذف مقادیر NaN\n",
    "# plt.figure()\n",
    "plt.scatter(df1[\"hours_studied\"], df1[\"score\"])  # نمودار پراکندگی\n",
    "\n",
    "plt.xlabel(\"hours_studied\")\n",
    "plt.ylabel(\"score\")\n",
    "plt.title(\"Score vs. Hours Studied\")\n",
    "plt.tight_layout()\n",
    "plt.show()\n"
   ]
  },
  {
   "cell_type": "code",
   "execution_count": null,
   "id": "58f15224-1a56-47bb-bb6d-f66ca79caac5",
   "metadata": {},
   "outputs": [],
   "source": [
    "import matplotlib.pyplot as plt\n",
    "\n",
    "scores = df1[\"score\"].dropna()  # حذف مقادیر NaN\n",
    "\n",
    "plt.figure()\n",
    "plt.hist(scores, bins=15)  # تعداد بین‌ها را می‌توانید کم/زیاد کنید\n",
    "plt.xlabel(\"score\")\n",
    "plt.ylabel(\"count\")\n",
    "plt.title(\"Score distribution\")\n",
    "plt.tight_layout()\n",
    "plt.show()\n"
   ]
  },
  {
   "cell_type": "code",
   "execution_count": null,
   "id": "42faf4ba-23ed-4bb1-a043-c2e6bd82f238",
   "metadata": {},
   "outputs": [],
   "source": [
    "import matplotlib.pyplot as plt\n",
    "\n",
    "# 1) Age\n",
    "ages = df1[\"age\"].dropna()          # remove missing values\n",
    "plt.figure()\n",
    "plt.hist(ages)                      # default bins are fine for teaching\n",
    "plt.xlabel(\"age\")\n",
    "plt.ylabel(\"count\")\n",
    "plt.title(\"Age - histogram\")\n",
    "plt.tight_layout()\n",
    "plt.show()\n",
    "\n",
    "# 2) Score\n",
    "scores = df1[\"score\"].dropna()\n",
    "plt.figure()\n",
    "plt.hist(scores)                    # you can try bins=15 if you want\n",
    "plt.xlabel(\"score\")\n",
    "plt.ylabel(\"count\")\n",
    "plt.title(\"Score - histogram\")\n",
    "plt.tight_layout()\n",
    "plt.show()\n",
    "\n",
    "# 3) Hours studied\n",
    "hours = df1[\"hours_studied\"].dropna()\n",
    "plt.figure()\n",
    "plt.hist(hours)                     # try bins=20 for smoother look\n",
    "plt.xlabel(\"hours_studied\")\n",
    "plt.ylabel(\"count\")\n",
    "plt.title(\"Hours studied - histogram\")\n",
    "plt.tight_layout()\n",
    "plt.show()\n"
   ]
  },
  {
   "cell_type": "code",
   "execution_count": null,
   "id": "0fe4c818-4a98-424c-a64b-e6f399674999",
   "metadata": {},
   "outputs": [],
   "source": []
  }
 ],
 "metadata": {
  "kernelspec": {
   "display_name": "Python 3 (ipykernel)",
   "language": "python",
   "name": "python3"
  },
  "language_info": {
   "codemirror_mode": {
    "name": "ipython",
    "version": 3
   },
   "file_extension": ".py",
   "mimetype": "text/x-python",
   "name": "python",
   "nbconvert_exporter": "python",
   "pygments_lexer": "ipython3",
   "version": "3.12.2"
  }
 },
 "nbformat": 4,
 "nbformat_minor": 5
}
