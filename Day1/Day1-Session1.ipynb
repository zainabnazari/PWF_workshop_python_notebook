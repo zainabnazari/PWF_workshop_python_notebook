{
 "cells": [
  {
   "cell_type": "markdown",
   "id": "6d77ad36",
   "metadata": {},
   "source": [
    "**Sharif Hussainyar** \n",
    "\n",
    "@Sharif Carl and I made a bit of this session in the past  you can delete them or keep them ;) "
   ]
  },
  {
   "cell_type": "markdown",
   "id": "db1b124c",
   "metadata": {},
   "source": [
    "# **Session 1: Introduction to Python for Scientific Computing**\n",
    "\n",
    "## **Part 1: Python Basics**\n",
    "1. **Zen of Python** - Python's philosophy\n",
    "2. **Variables & Types** - Storing data (int, float, str, bool)\n",
    "3. **Numbers & Booleans** - Math operations and logic\n",
    "4. **Strings & Slicing** - Working with text\n",
    "5. **Lists** - Collections of items\n",
    "6. **Console I/O** - Input and output\n",
    "7. **Control Flow** - Making decisions (if/else)\n",
    "8. **Loops** - Repeating code (for/while, range)\n",
    "\n",
    "## **Part 2: Data Structures**\n",
    "9. **Lists Advanced** - Methods and operations\n",
    "10. **Dictionaries** - Key-value pairs\n",
    "11. **Tuples** - Unchangeable collections\n",
    "12. **Sets** - Unique collections\n",
    "13. **Advanced Looping** - enumerate, zip, items\n",
    "14. **Comprehensions** - Elegant collection creation\n",
    "\n",
    "## **Part 3: Functions**\n",
    "15. **Functions Basics** - Reusable code blocks\n",
    "16. **Advanced Functions** - Parameters, return values\n",
    "\n",
    "\n"
   ]
  },
  {
   "cell_type": "markdown",
   "id": "warfa-qoo9Lo",
   "metadata": {
    "id": "warfa-qoo9Lo"
   },
   "source": [
    "# **Variables and Data Types**\n",
    "\n",
    "## What are Variables?\n",
    "Variables are like **labeled boxes** that store data.\n",
    "\n",
    "## **Python Data Types**\n",
    "\n",
    "| Type | Example | Description |\n",
    "| ----------- | ------------------- | ----------------------- |\n",
    "| `int` | `42` | Whole numbers |\n",
    "| `float` | `3.14` | Decimal numbers |\n",
    "| `str` | `\"hello\"` | Text strings |\n",
    "| `bool` | `True`, `False` | Boolean values |\n",
    "| `list` | `[1, 2, 3]` | Ordered & changeable |\n",
    "| `tuple` | `(1, 2, 3)` | Ordered & unchangeable |\n",
    "| `dict` | `{\"a\": 1}` | Key-value pairs |\n",
    "| `set` | `{1, 2, 3}` | Unique values only |\n",
    "| `range` | `range(5)` | Number sequences |\n",
    "| `None` | `None` | No value |"
   ]
  },
  {
   "cell_type": "code",
   "execution_count": null,
   "id": "791e25cd",
   "metadata": {},
   "outputs": [
    {
     "name": "stdout",
     "output_type": "stream",
     "text": [
      "Student Information:\n",
      "Name: Alice\n",
      "Age: 21\n",
      "Height: 5.6 feet\n",
      "Is student: True\n"
     ]
    }
   ],
   "source": [
    "# different types of variables\n",
    "name = \"Alice\"           # String\n",
    "age = 21                 # Integer\n",
    "height = 5.6             # Float\n",
    "is_student = True        # Boolean\n",
    "\n",
    "# Display the variables\n",
    "print(\"Student Information:\")\n",
    "print(f\"Name: {name}\")\n",
    "print(f\"Age: {age}\")\n",
    "print(f\"Height: {height} feet\")\n",
    "print(f\"Is student: {is_student}\")"
   ]
  },
  {
   "cell_type": "markdown",
   "id": "4ecbabe2",
   "metadata": {},
   "source": [
    "# **Checking Variables Types**"
   ]
  },
  {
   "cell_type": "code",
   "execution_count": 3,
   "id": "7e9296f2",
   "metadata": {},
   "outputs": [
    {
     "name": "stdout",
     "output_type": "stream",
     "text": [
      "Variable Types:\n",
      "type(name) = <class 'str'>\n",
      "type(age) = <class 'int'>\n",
      "type(height) = <class 'float'>\n",
      "type(is_student) = <class 'bool'>\n"
     ]
    }
   ],
   "source": [
    "# Check the type of each variable\n",
    "print(\"Variable Types:\")\n",
    "print(f\"type(name) = {type(name)}\")\n",
    "print(f\"type(age) = {type(age)}\")\n",
    "print(f\"type(height) = {type(height)}\")\n",
    "print(f\"type(is_student) = {type(is_student)}\")"
   ]
  },
  {
   "cell_type": "markdown",
   "id": "07558888",
   "metadata": {},
   "source": [
    "# **Working with Numbers**\n",
    "\n",
    "## Arithmetic Operators:\n",
    "- `+` Addition\n",
    "- `-` Subtraction  \n",
    "- `*` Multiplication\n",
    "- `/` Division\n",
    "- `**` Power\n",
    "- `//` Floor division\n",
    "- `%` Remainder (modulo)\n",
    "\n",
    "## Comparison Operators:\n",
    "- `==` Equal to\n",
    "- `!=` Not equal to\n",
    "- `<` Less than\n",
    "- `>` Greater than\n",
    "- `<=` Less than or equal\n",
    "- `>=` Greater than or equal"
   ]
  },
  {
   "cell_type": "code",
   "execution_count": 4,
   "id": "1c9c8380",
   "metadata": {},
   "outputs": [
    {
     "name": "stdout",
     "output_type": "stream",
     "text": [
      "Math Operations:\n",
      "10 + 3 = 13\n",
      "10 - 3 = 7\n",
      "10 * 3 = 30\n",
      "10 / 3 = 3.3333333333333335\n",
      "10 ** 3 = 1000\n",
      "10 // 3 = 3\n",
      "10 % 3 = 1\n"
     ]
    }
   ],
   "source": [
    "# Basic math operations\n",
    "a = 10\n",
    "b = 3\n",
    "\n",
    "print(\"Math Operations:\")\n",
    "print(f\"{a} + {b} = {a + b}\")\n",
    "print(f\"{a} - {b} = {a - b}\")\n",
    "print(f\"{a} * {b} = {a * b}\")\n",
    "print(f\"{a} / {b} = {a / b}\")\n",
    "print(f\"{a} ** {b} = {a ** b}\")\n",
    "print(f\"{a} // {b} = {a // b}\")\n",
    "print(f\"{a} % {b} = {a % b}\")"
   ]
  },
  {
   "cell_type": "markdown",
   "id": "e5b6e763",
   "metadata": {},
   "source": [
    "# **Boolean Operations**"
   ]
  },
  {
   "cell_type": "code",
   "execution_count": 5,
   "id": "c72dca95",
   "metadata": {},
   "outputs": [
    {
     "name": "stdout",
     "output_type": "stream",
     "text": [
      "Comparison Operations:\n",
      "15 == 20 is False\n",
      "15 != 20 is True\n",
      "15 < 20 is True\n",
      "15 > 20 is False\n",
      "\n",
      "Logical Operations:\n",
      "sunny AND warm: True\n",
      "sunny OR warm: True\n",
      "NOT sunny: False\n"
     ]
    }
   ],
   "source": [
    "# Boolean and comparison operations\n",
    "x = 15\n",
    "y = 20\n",
    "\n",
    "print(\"Comparison Operations:\")\n",
    "print(f\"{x} == {y} is {x == y}\")\n",
    "print(f\"{x} != {y} is {x != y}\")\n",
    "print(f\"{x} < {y} is {x < y}\")\n",
    "print(f\"{x} > {y} is {x > y}\")\n",
    "\n",
    "# Logical operations\n",
    "sunny = True\n",
    "warm = True\n",
    "\n",
    "print(\"\\nLogical Operations:\")\n",
    "print(f\"sunny AND warm: {sunny and warm}\")\n",
    "print(f\"sunny OR warm: {sunny or warm}\")\n",
    "print(f\"NOT sunny: {not sunny}\")"
   ]
  },
  {
   "cell_type": "markdown",
   "id": "8993622f",
   "metadata": {},
   "source": [
    "# **Working with Strings**\n",
    "\n",
    "## What are Strings?\n",
    "Strings are sequences of characters (text).\n",
    "\n",
    "## String Operations:\n",
    "- **Concatenation:** Joining strings with `+`\n",
    "- **Slicing:** Getting parts of a string\n",
    "- **Methods:** Built-in functions like `.upper()`, `.lower()`\n",
    "\n",
    "## String Slicing:\n",
    "- `string[start:end]` - Get characters from start to end-1\n",
    "- `string[start:]` - From start to end\n",
    "- `string[:end]` - From beginning to end-1\n",
    "- `string[::-1]` - Reverse the string"
   ]
  },
  {
   "cell_type": "code",
   "execution_count": 6,
   "id": "efceee6e",
   "metadata": {},
   "outputs": [
    {
     "name": "stdout",
     "output_type": "stream",
     "text": [
      "Full name: John Smith\n",
      "Length of full name: 10\n",
      "Uppercase: JOHN SMITH\n",
      "Lowercase: john smith\n",
      "Title case: John Smith\n"
     ]
    }
   ],
   "source": [
    "# Creating and working with strings\n",
    "first_name = \"John\"\n",
    "last_name = \"Smith\"\n",
    "\n",
    "# String concatenation\n",
    "full_name = first_name + \" \" + last_name\n",
    "print(f\"Full name: {full_name}\")\n",
    "\n",
    "# String length\n",
    "print(f\"Length of full name: {len(full_name)}\")\n",
    "\n",
    "# String methods\n",
    "print(f\"Uppercase: {full_name.upper()}\")\n",
    "print(f\"Lowercase: {full_name.lower()}\")\n",
    "print(f\"Title case: {full_name.title()}\")"
   ]
  },
  {
   "cell_type": "code",
   "execution_count": 7,
   "id": "0e9ce62b",
   "metadata": {},
   "outputs": [
    {
     "name": "stdout",
     "output_type": "stream",
     "text": [
      "Original text: 'Python Programming'\n",
      "First 6 characters: 'Python'\n",
      "Last 11 characters: 'Programming'\n",
      "Middle part: 'Programming'\n",
      "Every 2nd character: 'Pto rgamn'\n",
      "Reverse string: 'gnimmargorP nohtyP'\n",
      "First character: 'P'\n",
      "Last character: 'g'\n"
     ]
    }
   ],
   "source": [
    "# String slicing examples\n",
    "text = \"Python Programming\"\n",
    "print(f\"Original text: '{text}'\")\n",
    "\n",
    "# Basic slicing\n",
    "print(f\"First 6 characters: '{text[0:6]}'\")\n",
    "print(f\"Last 11 characters: '{text[7:]}'\")\n",
    "print(f\"Middle part: '{text[7:18]}'\")\n",
    "\n",
    "# Advanced slicing\n",
    "print(f\"Every 2nd character: '{text[::2]}'\")\n",
    "print(f\"Reverse string: '{text[::-1]}'\")\n",
    "\n",
    "# Individual characters\n",
    "print(f\"First character: '{text[0]}'\")\n",
    "print(f\"Last character: '{text[-1]}'\")"
   ]
  },
  {
   "cell_type": "markdown",
   "id": "5789f9ab",
   "metadata": {},
   "source": [
    "# **Working with Lists**\n",
    "\n",
    "## What are Lists?\n",
    "Lists are **ordered collections** of items that can be changed.\n",
    "\n",
    "## List Characteristics:\n",
    "- **Ordered:** Items have a defined order\n",
    "- **Mutable:** Can be changed after creation\n",
    "- **Allow duplicates:** Same item can appear multiple times\n",
    "- **Mixed types:** Can contain different data types\n",
    "\n",
    "## Common List Operations:\n",
    "- `.append()` - Add item to end\n",
    "- `.insert()` - Add item at specific position\n",
    "- `.remove()` - Remove specific item\n",
    "- `.pop()` - Remove item by index\n",
    "- `len()` - Get list length"
   ]
  },
  {
   "cell_type": "code",
   "execution_count": 8,
   "id": "4a117007",
   "metadata": {},
   "outputs": [
    {
     "name": "stdout",
     "output_type": "stream",
     "text": [
      "Different types of lists:\n",
      "Fruits: ['apple', 'banana', 'orange']\n",
      "Numbers: [1, 2, 3, 4, 5]\n",
      "Mixed list: ['Python', 42, 3.14, True]\n",
      "Empty list: []\n",
      "\n",
      "Number of fruits: 3\n"
     ]
    }
   ],
   "source": [
    "# Creating different types of lists\n",
    "fruits = [\"apple\", \"banana\", \"orange\"]\n",
    "numbers = [1, 2, 3, 4, 5]\n",
    "mixed_list = [\"Python\", 42, 3.14, True]\n",
    "empty_list = []\n",
    "\n",
    "print(\"Different types of lists:\")\n",
    "print(f\"Fruits: {fruits}\")\n",
    "print(f\"Numbers: {numbers}\")\n",
    "print(f\"Mixed list: {mixed_list}\")\n",
    "print(f\"Empty list: {empty_list}\")\n",
    "\n",
    "# List length\n",
    "print(f\"\\nNumber of fruits: {len(fruits)}\")"
   ]
  },
  {
   "cell_type": "code",
   "execution_count": 9,
   "id": "75351401",
   "metadata": {},
   "outputs": [
    {
     "name": "stdout",
     "output_type": "stream",
     "text": [
      "Colors list: ['red', 'green', 'blue', 'yellow', 'purple']\n",
      "First color: red\n",
      "Second color: green\n",
      "Last color: purple\n",
      "Second to last: yellow\n",
      "First 3 colors: ['red', 'green', 'blue']\n",
      "Last 2 colors: ['yellow', 'purple']\n"
     ]
    }
   ],
   "source": [
    "# Accessing items in a list\n",
    "colors = [\"red\", \"green\", \"blue\", \"yellow\", \"purple\"]\n",
    "\n",
    "print(f\"Colors list: {colors}\")\n",
    "print(f\"First color: {colors[0]}\")\n",
    "print(f\"Second color: {colors[1]}\")\n",
    "print(f\"Last color: {colors[-1]}\")\n",
    "print(f\"Second to last: {colors[-2]}\")\n",
    "\n",
    "# List slicing\n",
    "print(f\"First 3 colors: {colors[0:3]}\")\n",
    "print(f\"Last 2 colors: {colors[-2:]}\")"
   ]
  },
  {
   "cell_type": "markdown",
   "id": "9619ad7f",
   "metadata": {},
   "source": [
    "# **Modifying Lists**"
   ]
  },
  {
   "cell_type": "code",
   "execution_count": 10,
   "id": "7ed15987",
   "metadata": {},
   "outputs": [
    {
     "name": "stdout",
     "output_type": "stream",
     "text": [
      "Original list: ['milk', 'bread']\n",
      "After adding eggs: ['milk', 'bread', 'eggs']\n",
      "After adding butter at start: ['butter', 'milk', 'bread', 'eggs']\n",
      "After removing bread: ['butter', 'milk', 'eggs']\n",
      "Removed item: eggs\n",
      "Final list: ['butter', 'milk']\n"
     ]
    }
   ],
   "source": [
    "# Adding and removing items from lists\n",
    "shopping_list = [\"milk\", \"bread\"]\n",
    "print(f\"Original list: {shopping_list}\")\n",
    "\n",
    "# Add items\n",
    "shopping_list.append(\"eggs\")\n",
    "print(f\"After adding eggs: {shopping_list}\")\n",
    "\n",
    "shopping_list.insert(0, \"butter\")\n",
    "print(f\"After adding butter at start: {shopping_list}\")\n",
    "\n",
    "# Remove items\n",
    "shopping_list.remove(\"bread\")\n",
    "print(f\"After removing bread: {shopping_list}\")\n",
    "\n",
    "# Pop (remove and return)\n",
    "last_item = shopping_list.pop()\n",
    "print(f\"Removed item: {last_item}\")\n",
    "print(f\"Final list: {shopping_list}\")"
   ]
  },
  {
   "cell_type": "markdown",
   "id": "e9cc641e",
   "metadata": {},
   "source": [
    "# **Console Input and Output**\n",
    "\n",
    "## Output with print():\n",
    "- `print(\"Hello\")` - Display text\n",
    "- `print(variable)` - Display variable value\n",
    "- `print(f\"Name: {name}\")` - Format strings\n",
    "\n",
    "## Input with input():\n",
    "- `input(\"Enter name: \")` - Get user input\n",
    "- **Always returns a string!**\n",
    "- Use `int()`, `float()` to convert\n",
    "\n",
    "## Important:\n",
    "- Always validate user input\n",
    "- Convert input to correct type\n",
    "- Use clear prompts for users"
   ]
  },
  {
   "cell_type": "code",
   "execution_count": 11,
   "id": "0e272863",
   "metadata": {},
   "outputs": [
    {
     "name": "stdout",
     "output_type": "stream",
     "text": [
      "Hello, World!\n",
      "Welcome to Python!\n",
      "Student name: Alice\n",
      "Student age: 22\n",
      "Hi! I'm Alice and I'm 22 years old.\n",
      "My grade is 85.5%\n",
      "Name: Alice Age: 22 Grade: 85.5\n"
     ]
    }
   ],
   "source": [
    "# Different ways to display output\n",
    "name = \"Alice\"\n",
    "age = 22\n",
    "grade = 85.5\n",
    "\n",
    "# Basic printing\n",
    "print(\"Hello, World!\")\n",
    "print(\"Welcome to Python!\")\n",
    "\n",
    "# Printing variables\n",
    "print(\"Student name:\", name)\n",
    "print(\"Student age:\", age)\n",
    "\n",
    "# F-string formatting (recommended)\n",
    "print(f\"Hi! I'm {name} and I'm {age} years old.\")\n",
    "print(f\"My grade is {grade}%\")\n",
    "\n",
    "# Multiple items\n",
    "print(\"Name:\", name, \"Age:\", age, \"Grade:\", grade)"
   ]
  },
  {
   "cell_type": "code",
   "execution_count": null,
   "id": "e7d9eda5",
   "metadata": {},
   "outputs": [],
   "source": [
    "# Getting input from user\n",
    "# Note: In Jupyter, this will create an input box\n",
    "\n",
    "print(\"=== Student Information Form ===\")\n",
    "\n",
    "# Get string input\n",
    "student_name = input(\"Enter your name: \")\n",
    "print(f\"Hello, {student_name}!\")\n",
    "\n",
    "# Get number input (remember to convert!)\n",
    "student_age = input(\"Enter your age: \")\n",
    "student_age = int(student_age)  # Convert to integer\n",
    "print(f\"You are {student_age} years old\")\n",
    "\n",
    "# Get decimal input\n",
    "height = input(\"Enter your height in feet: \")\n",
    "height = float(height)  # Convert to float\n",
    "print(f\"Your height is {height} feet\")\n",
    "\n",
    "print(f\"\\nSummary: {student_name}, {student_age} years old, {height} feet tall\")"
   ]
  },
  {
   "cell_type": "markdown",
   "id": "418526a4",
   "metadata": {},
   "source": [
    "# **Control Flow (Making Decisions)**\n",
    "\n",
    "## if Statements:\n",
    "Make decisions in your code based on conditions.\n",
    "\n",
    "## Structure:\n",
    "```python\n",
    "if condition:\n",
    "    # do something\n",
    "elif another_condition:\n",
    "    # do something else  \n",
    "else:\n",
    "    # do this if nothing else is true"
   ]
  },
  {
   "cell_type": "code",
   "execution_count": 13,
   "id": "0d09d683",
   "metadata": {},
   "outputs": [
    {
     "name": "stdout",
     "output_type": "stream",
     "text": [
      "It's a warm day!\n",
      "Good weather for outdoor activities\n",
      "You can vote!\n"
     ]
    }
   ],
   "source": [
    "\n",
    "# Basic if statement\n",
    "temperature = 25\n",
    "\n",
    "if temperature > 20:\n",
    "    print(\"It's a warm day!\")\n",
    "    print(\"Good weather for outdoor activities\")\n",
    "\n",
    "# if-else statement\n",
    "age = 18\n",
    "\n",
    "if age >= 18:\n",
    "    print(\"You can vote!\")\n",
    "else:\n",
    "    print(\"You're not old enough to vote yet\")\n",
    "    print(f\"Wait {18 - age} more years\")"
   ]
  },
  {
   "cell_type": "markdown",
   "id": "82bb932a",
   "metadata": {},
   "source": [
    "# **Multiple Conditions**"
   ]
  },
  {
   "cell_type": "code",
   "execution_count": 14,
   "id": "6da01594",
   "metadata": {},
   "outputs": [
    {
     "name": "stdout",
     "output_type": "stream",
     "text": [
      "Your score: 85\n",
      "Grade: B - Good job!\n"
     ]
    }
   ],
   "source": [
    "# if-elif-else chain\n",
    "score = 85\n",
    "\n",
    "print(f\"Your score: {score}\")\n",
    "\n",
    "if score >= 90:\n",
    "    print(\"Grade: A - Excellent!\")\n",
    "elif score >= 80:\n",
    "    print(\"Grade: B - Good job!\")\n",
    "elif score >= 70:\n",
    "    print(\"Grade: C - Not bad\")\n",
    "elif score >= 60:\n",
    "    print(\"Grade: D - You passed\")\n",
    "else:\n",
    "    print(\"Grade: F - Study harder next time\")"
   ]
  },
  {
   "cell_type": "markdown",
   "id": "d63c6f77",
   "metadata": {},
   "source": [
    "# **Logical Operators**"
   ]
  },
  {
   "cell_type": "code",
   "execution_count": 15,
   "id": "91bc25a1",
   "metadata": {},
   "outputs": [
    {
     "name": "stdout",
     "output_type": "stream",
     "text": [
      "Perfect day for a picnic! 🌞\n",
      "It's weekend! Time to relax 🎉\n",
      "No umbrella needed today!\n",
      "Great! We have banana in stock\n"
     ]
    }
   ],
   "source": [
    "# Using logical operators\n",
    "weather = \"sunny\"\n",
    "temperature = 22\n",
    "\n",
    "# AND operator - both conditions must be true\n",
    "if weather == \"sunny\" and temperature > 20:\n",
    "    print(\"Perfect day for a picnic! 🌞\")\n",
    "\n",
    "# OR operator - either condition can be true\n",
    "day = \"Saturday\"\n",
    "if day == \"Saturday\" or day == \"Sunday\":\n",
    "    print(\"It's weekend! Time to relax 🎉\")\n",
    "\n",
    "# NOT operator\n",
    "is_raining = False\n",
    "if not is_raining:\n",
    "    print(\"No umbrella needed today!\")\n",
    "\n",
    "# Membership operators\n",
    "fruits = [\"apple\", \"banana\", \"orange\"]\n",
    "favorite = \"banana\"\n",
    "\n",
    "if favorite in fruits:\n",
    "    print(f\"Great! We have {favorite} in stock\")\n",
    "else:\n",
    "    print(f\"Sorry, {favorite} is not available\")"
   ]
  },
  {
   "cell_type": "markdown",
   "id": "09214b26",
   "metadata": {},
   "source": [
    "# **Loops - Repeating Code**\n",
    "\n",
    "## for Loops:\n",
    "Repeat code for each item in a sequence.\n",
    "```python\n",
    "for item in sequence:\n",
    "    # do something with item"
   ]
  },
  {
   "cell_type": "markdown",
   "id": "472b1dc0",
   "metadata": {},
   "source": [
    "# **Loops - Repeating Code**\n",
    "\n",
    "## While Loops:\n",
    " do something\n",
    "make sure condition eventually becomes false!"
   ]
  },
  {
   "cell_type": "code",
   "execution_count": 16,
   "id": "b3c0027e",
   "metadata": {},
   "outputs": [
    {
     "name": "stdout",
     "output_type": "stream",
     "text": [
      "My favorite fruits:\n",
      "- apple\n",
      "- banana\n",
      "- orange\n",
      "- grape\n",
      "\n",
      "Letters in 'Python':\n",
      "'P'\n",
      "'y'\n",
      "'t'\n",
      "'h'\n",
      "'o'\n",
      "'n'\n"
     ]
    }
   ],
   "source": [
    "\n",
    "# Loop through a list\n",
    "fruits = [\"apple\", \"banana\", \"orange\", \"grape\"]\n",
    "\n",
    "print(\"My favorite fruits:\")\n",
    "for fruit in fruits:\n",
    "    print(f\"- {fruit}\")\n",
    "\n",
    "# Loop through a string\n",
    "word = \"Python\"\n",
    "print(f\"\\nLetters in '{word}':\")\n",
    "for letter in word:\n",
    "    print(f\"'{letter}'\")"
   ]
  },
  {
   "cell_type": "markdown",
   "id": "b0e77e52",
   "metadata": {},
   "source": [
    "# **for Loops**"
   ]
  },
  {
   "cell_type": "code",
   "execution_count": 17,
   "id": "915477e0",
   "metadata": {},
   "outputs": [
    {
     "name": "stdout",
     "output_type": "stream",
     "text": [
      "Numbers 0 to 4:\n",
      "0 1 2 3 4 \n",
      "\n",
      "Numbers 1 to 5:\n",
      "1 2 3 4 5 \n",
      "\n",
      "Even numbers 0 to 10:\n",
      "0 2 4 6 8 10 \n",
      "\n",
      "Countdown:\n",
      "5 4 3 2 1 Go! 🚀\n"
     ]
    }
   ],
   "source": [
    "# Different ways to use range()\n",
    "\n",
    "print(\"Numbers 0 to 4:\")\n",
    "for i in range(5):\n",
    "    print(i, end=\" \")\n",
    "\n",
    "print(\"\\n\\nNumbers 1 to 5:\")\n",
    "for i in range(1, 6):\n",
    "    print(i, end=\" \")\n",
    "\n",
    "print(\"\\n\\nEven numbers 0 to 10:\")\n",
    "for i in range(0, 11, 2):\n",
    "    print(i, end=\" \")\n",
    "\n",
    "print(\"\\n\\nCountdown:\")\n",
    "for i in range(5, 0, -1):\n",
    "    print(i, end=\" \")\n",
    "print(\"Go! 🚀\")"
   ]
  },
  {
   "cell_type": "markdown",
   "id": "a8194030",
   "metadata": {},
   "source": [
    "# **while Loops**"
   ]
  },
  {
   "cell_type": "code",
   "execution_count": 18,
   "id": "a23892bd",
   "metadata": {},
   "outputs": [
    {
     "name": "stdout",
     "output_type": "stream",
     "text": [
      "Counting to 5:\n",
      "Count: 1\n",
      "Count: 2\n",
      "Count: 3\n",
      "Count: 4\n",
      "Count: 5\n",
      "Done counting!\n",
      "\n",
      "Powers of 2 less than 100:\n",
      "1 2 4 8 16 32 64 "
     ]
    }
   ],
   "source": [
    "# Basic while loop\n",
    "count = 1\n",
    "\n",
    "print(\"Counting to 5:\")\n",
    "while count <= 5:\n",
    "    print(f\"Count: {count}\")\n",
    "    count += 1  # Same as: count = count + 1\n",
    "\n",
    "print(\"Done counting!\")\n",
    "\n",
    "# While loop with condition\n",
    "number = 1\n",
    "print(\"\\nPowers of 2 less than 100:\")\n",
    "while number < 100:\n",
    "    print(number, end=\" \")\n",
    "    number *= 2  # Same as: number = number * 2"
   ]
  },
  {
   "cell_type": "markdown",
   "id": "27c6b513",
   "metadata": {},
   "source": [
    "# **Practical Examples**"
   ]
  },
  {
   "cell_type": "code",
   "execution_count": 19,
   "id": "318d4b3d",
   "metadata": {},
   "outputs": [
    {
     "name": "stdout",
     "output_type": "stream",
     "text": [
      "Numbers: [10, 20, 30, 40, 50]\n",
      "Sum: 150\n",
      "\n",
      "Counting vowels in: 'Hello Python'\n",
      "Found vowel: 'e'\n",
      "Found vowel: 'o'\n",
      "Found vowel: 'o'\n",
      "Total vowels: 3\n"
     ]
    }
   ],
   "source": [
    "# Practical example: Find sum of numbers\n",
    "numbers = [10, 20, 30, 40, 50]\n",
    "total = 0\n",
    "\n",
    "for number in numbers:\n",
    "    total += number\n",
    "\n",
    "print(f\"Numbers: {numbers}\")\n",
    "print(f\"Sum: {total}\")\n",
    "\n",
    "# Count vowels in a string\n",
    "text = \"Hello Python\"\n",
    "vowels = \"aeiouAEIOU\"\n",
    "vowel_count = 0\n",
    "\n",
    "print(f\"\\nCounting vowels in: '{text}'\")\n",
    "for char in text:\n",
    "    if char in vowels:\n",
    "        vowel_count += 1\n",
    "        print(f\"Found vowel: '{char}'\")\n",
    "\n",
    "print(f\"Total vowels: {vowel_count}\")"
   ]
  },
  {
   "cell_type": "markdown",
   "id": "724c6846",
   "metadata": {},
   "source": [
    "# **Exercise**"
   ]
  },
  {
   "cell_type": "code",
   "execution_count": null,
   "id": "6d4e67bf",
   "metadata": {},
   "outputs": [],
   "source": [
    "# Final practice: Simple grade calculator\n",
    "print(\"=== Grade Calculator ===\")\n",
    "\n",
    "# Get student information\n",
    "student_name = input(\"Enter student name: \")\n",
    "subject = input(\"Enter subject: \")\n",
    "\n",
    "# Get grades\n",
    "grades = []\n",
    "for i in range(3):\n",
    "    grade = input(f\"Enter grade {i+1}: \")\n",
    "    grades.append(float(grade))\n",
    "\n",
    "# Calculate average\n",
    "average = sum(grades) / len(grades)\n",
    "\n",
    "# Determine letter grade\n",
    "if average >= 90:\n",
    "    letter_grade = \"A\"\n",
    "elif average >= 80:\n",
    "    letter_grade = \"B\"\n",
    "elif average >= 70:\n",
    "    letter_grade = \"C\"\n",
    "elif average >= 60:\n",
    "    letter_grade = \"D\"\n",
    "else:\n",
    "    letter_grade = \"F\"\n",
    "\n",
    "# Display results\n",
    "print(f\"\\n=== Grade Report ===\")\n",
    "print(f\"Student: {student_name}\")\n",
    "print(f\"Subject: {subject}\")\n",
    "print(f\"Grades: {grades}\")\n",
    "print(f\"Average: {average:.1f}\")\n",
    "print(f\"Letter Grade: {letter_grade}\")\n",
    "\n",
    "# Bonus: Display message based on grade\n",
    "if letter_grade in [\"A\", \"B\"]:\n",
    "    print(\"Excellent work! 🌟\")\n",
    "elif letter_grade == \"C\":\n",
    "    print(\"Good job! Keep it up! 👍\")\n",
    "else:\n",
    "    print(\"Keep studying! You can do better! 💪\")"
   ]
  },
  {
   "cell_type": "markdown",
   "id": "ff6809c1",
   "metadata": {},
   "source": [
    "# 📊 **Data Structures in Python**\n",
    "\n",
    "## What are Data Structures?\n",
    "Data structures are ways to **organize and store data** efficiently.\n",
    "\n",
    "## Today's Topics:\n",
    "1. **Lists** - Ordered, changeable collections\n",
    "2. **Dictionaries** - Key-value pairs  \n",
    "3. **Tuples** - Ordered, unchangeable collections\n",
    "4. **Sets** - Unique, unordered collections\n",
    "5. **Advanced Looping** - Better ways to iterate\n",
    "6. **Comprehensions** - Elegant way to create collections\n",
    "\n",
    "## Why Learn Data Structures?\n",
    "- Choose the **right tool** for each job\n",
    "- Write **more efficient** code\n",
    "- **Organize data** better in real projects\n",
    "\n",
    "*Let's explore each one! 🚀*"
   ]
  },
  {
   "cell_type": "markdown",
   "id": "f6918ee0",
   "metadata": {},
   "source": [
    "# 📋 **Lists - Deep Dive**\n",
    "\n",
    "## List Characteristics:\n",
    "- **Ordered:** Items have positions (0, 1, 2, ...)\n",
    "- **Mutable:** Can change after creation\n",
    "- **Allow duplicates:** Same item can appear multiple times\n",
    "- **Mixed types:** Can store different data types\n",
    "\n",
    "## **Common List Methods:**\n",
    "\n",
    "| Method | Purpose | Example |\n",
    "|--------|---------|---------|\n",
    "| `.append(item)` | Add to end | `list.append(\"new\")` |\n",
    "| `.insert(pos, item)` | Add at position | `list.insert(0, \"first\")` |\n",
    "| `.remove(item)` | Remove first occurrence | `list.remove(\"item\")` |\n",
    "| `.pop(index)` | Remove and return item | `list.pop()` or `list.pop(0)` |\n",
    "| `.index(item)` | Find position | `list.index(\"item\")` |\n",
    "| `.count(item)` | Count occurrences | `list.count(\"item\")` |\n",
    "| `.sort()` | Sort in place | `list.sort()` |\n",
    "| `.reverse()` | Reverse order | `list.reverse()` |"
   ]
  },
  {
   "cell_type": "code",
   "execution_count": 1,
   "id": "f9eb804f",
   "metadata": {},
   "outputs": [
    {
     "name": "stdout",
     "output_type": "stream",
     "text": [
      "=== LIST METHODS DEMO ===\n",
      "Students: ['Alice', 'Bob', 'Charlie', 'Diana']\n",
      "Grades: [85, 92, 78, 95, 88, 92]\n",
      "\n",
      "Position of 'Charlie': 2\n",
      "How many 92s in grades: 2\n",
      "\n",
      "Original numbers: [64, 34, 25, 12, 22, 11, 90]\n",
      "Sorted: [11, 12, 22, 25, 34, 64, 90]\n",
      "Reversed: [90, 64, 34, 25, 22, 12, 11]\n",
      "\n",
      "Original unchanged: [64, 34, 25, 12, 22, 11, 90]\n",
      "Sorted copy: [11, 12, 22, 25, 34, 64, 90]\n"
     ]
    }
   ],
   "source": [
    "# Advanced list operations and methods\n",
    "students = [\"Alice\", \"Bob\", \"Charlie\", \"Diana\"]\n",
    "grades = [85, 92, 78, 95, 88, 92]\n",
    "\n",
    "print(\"=== LIST METHODS DEMO ===\")\n",
    "print(f\"Students: {students}\")\n",
    "print(f\"Grades: {grades}\")\n",
    "\n",
    "# Finding items\n",
    "print(f\"\\nPosition of 'Charlie': {students.index('Charlie')}\")\n",
    "print(f\"How many 92s in grades: {grades.count(92)}\")\n",
    "\n",
    "# Sorting and reversing\n",
    "numbers = [64, 34, 25, 12, 22, 11, 90]\n",
    "print(f\"\\nOriginal numbers: {numbers}\")\n",
    "\n",
    "# Sort (modifies original list)\n",
    "numbers.sort()\n",
    "print(f\"Sorted: {numbers}\")\n",
    "\n",
    "# Reverse\n",
    "numbers.reverse()\n",
    "print(f\"Reversed: {numbers}\")\n",
    "\n",
    "# Sort without modifying original\n",
    "original = [64, 34, 25, 12, 22, 11, 90]\n",
    "sorted_copy = sorted(original)  # Returns new list\n",
    "print(f\"\\nOriginal unchanged: {original}\")\n",
    "print(f\"Sorted copy: {sorted_copy}\")"
   ]
  },
  {
   "cell_type": "code",
   "execution_count": 2,
   "id": "9645e0e5",
   "metadata": {},
   "outputs": [
    {
     "name": "stdout",
     "output_type": "stream",
     "text": [
      "Colors: ['red', 'green', 'blue', 'yellow', 'purple', 'orange', 'pink']\n",
      "\n",
      "First 3 colors: ['red', 'green', 'blue']\n",
      "Last 3 colors: ['purple', 'orange', 'pink']\n",
      "Middle colors: ['blue', 'yellow', 'purple']\n",
      "\n",
      "Every 2nd color: ['red', 'blue', 'purple', 'pink']\n",
      "Every 2nd color starting from index 1: ['green', 'yellow', 'orange']\n",
      "Reverse all colors: ['pink', 'orange', 'purple', 'yellow', 'blue', 'green', 'red']\n",
      "\n",
      "Last color: pink\n",
      "Second to last: orange\n",
      "\n",
      "First: red\n",
      "Second: green\n",
      "Rest: ['blue', 'yellow', 'purple', 'orange', 'pink']\n",
      "\n",
      "'blue' found at position: 2\n"
     ]
    }
   ],
   "source": [
    "# Advanced list slicing and indexing\n",
    "colors = [\"red\", \"green\", \"blue\", \"yellow\", \"purple\", \"orange\", \"pink\"]\n",
    "print(f\"Colors: {colors}\")\n",
    "\n",
    "# Basic slicing review\n",
    "print(f\"\\nFirst 3 colors: {colors[0:3]}\")\n",
    "print(f\"Last 3 colors: {colors[-3:]}\")\n",
    "print(f\"Middle colors: {colors[2:5]}\")\n",
    "\n",
    "# Step slicing\n",
    "print(f\"\\nEvery 2nd color: {colors[::2]}\")\n",
    "print(f\"Every 2nd color starting from index 1: {colors[1::2]}\")\n",
    "print(f\"Reverse all colors: {colors[::-1]}\")\n",
    "\n",
    "# Negative indexing\n",
    "print(f\"\\nLast color: {colors[-1]}\")\n",
    "print(f\"Second to last: {colors[-2]}\")\n",
    "\n",
    "# List unpacking\n",
    "first, second, *rest = colors\n",
    "print(f\"\\nFirst: {first}\")\n",
    "print(f\"Second: {second}\")\n",
    "print(f\"Rest: {rest}\")\n",
    "\n",
    "# Check if item exists\n",
    "if \"blue\" in colors:\n",
    "    print(f\"\\n'blue' found at position: {colors.index('blue')}\")"
   ]
  },
  {
   "cell_type": "markdown",
   "id": "723928d6",
   "metadata": {},
   "source": [
    "# 📚 **Dictionaries - Key-Value Storage**\n",
    "\n",
    "## What are Dictionaries?\n",
    "Dictionaries store data in **key-value pairs** - like a real dictionary where you look up words (keys) to find definitions (values).\n",
    "\n",
    "## Dictionary Characteristics:\n",
    "- **Unordered** (but insertion order preserved in Python 3.7+)\n",
    "- **Mutable** - can be changed\n",
    "- **Keys must be unique** - no duplicate keys\n",
    "- **Fast lookups** - very efficient for finding values\n",
    "\n",
    "## Common Syntax:\n",
    "```python\n",
    "# Creating dictionaries\n",
    "student = {\"name\": \"Alice\", \"age\": 20, \"grade\": \"A\"}\n",
    "\n",
    "# Accessing values\n",
    "name = student[\"name\"]          # Direct access\n",
    "age = student.get(\"age\")        # Safe access\n",
    "\n",
    "# Adding/updating\n",
    "student[\"email\"] = \"alice@email.com\"\n",
    "student[\"age\"] = 21             # Update existing"
   ]
  },
  {
   "cell_type": "code",
   "execution_count": 3,
   "id": "2bfd1296",
   "metadata": {},
   "outputs": [
    {
     "name": "stdout",
     "output_type": "stream",
     "text": [
      "=== CREATING DICTIONARIES ===\n",
      "Student 1: {'name': 'Alice', 'age': 20, 'major': 'Computer Science', 'gpa': 3.8, 'is_enrolled': True}\n",
      "Student 2: {'name': 'Bob', 'age': 22, 'major': 'Mathematics'}\n",
      "Empty dict: {}\n",
      "\n",
      "=== ACCESSING VALUES ===\n",
      "Student name: Alice\n",
      "Student age: 20\n",
      "Email (with get): Not provided\n",
      "GPA: 3.8\n",
      "Major: Computer Science\n"
     ]
    }
   ],
   "source": [
    "\n",
    "# Creating and working with dictionaries\n",
    "print(\"=== CREATING DICTIONARIES ===\")\n",
    "\n",
    "# Different ways to create dictionaries\n",
    "student = {\n",
    "    \"name\": \"Alice\",\n",
    "    \"age\": 20,\n",
    "    \"major\": \"Computer Science\",\n",
    "    \"gpa\": 3.8,\n",
    "    \"is_enrolled\": True\n",
    "}\n",
    "\n",
    "# Alternative creation methods\n",
    "student2 = dict(name=\"Bob\", age=22, major=\"Mathematics\")\n",
    "empty_dict = {}\n",
    "\n",
    "print(f\"Student 1: {student}\")\n",
    "print(f\"Student 2: {student2}\")\n",
    "print(f\"Empty dict: {empty_dict}\")\n",
    "\n",
    "print(\"\\n=== ACCESSING VALUES ===\")\n",
    "\n",
    "# Accessing values\n",
    "print(f\"Student name: {student['name']}\")\n",
    "print(f\"Student age: {student['age']}\")\n",
    "\n",
    "# Safe access with get()\n",
    "print(f\"Email (with get): {student.get('email', 'Not provided')}\")\n",
    "print(f\"GPA: {student.get('gpa')}\")\n",
    "\n",
    "# Check if key exists\n",
    "if \"major\" in student:\n",
    "    print(f\"Major: {student['major']}\")"
   ]
  },
  {
   "cell_type": "code",
   "execution_count": 4,
   "id": "2504014e",
   "metadata": {},
   "outputs": [
    {
     "name": "stdout",
     "output_type": "stream",
     "text": [
      "=== DICTIONARY METHODS ===\n",
      "Original: {'name': 'Charlie', 'age': 21, 'major': 'Physics', 'courses': ['Physics 101', 'Math 201', 'Chemistry 150']}\n",
      "\n",
      "After updates: {'name': 'Charlie', 'age': 22, 'major': 'Physics', 'courses': ['Physics 101', 'Math 201', 'Chemistry 150'], 'email': 'charlie@university.edu'}\n",
      "\n",
      "Keys: ['name', 'age', 'major', 'courses', 'email']\n",
      "Values: ['Charlie', 22, 'Physics', ['Physics 101', 'Math 201', 'Chemistry 150'], 'charlie@university.edu']\n",
      "Items: [('name', 'Charlie'), ('age', 22), ('major', 'Physics'), ('courses', ['Physics 101', 'Math 201', 'Chemistry 150']), ('email', 'charlie@university.edu')]\n",
      "\n",
      "Removed age: 22\n",
      "After removing age: {'name': 'Charlie', 'major': 'Physics', 'courses': ['Physics 101', 'Math 201', 'Chemistry 150'], 'email': 'charlie@university.edu'}\n",
      "\n",
      "Copied dictionary: {'name': 'Charlie', 'major': 'Physics', 'courses': ['Physics 101', 'Math 201', 'Chemistry 150'], 'email': 'charlie@university.edu'}\n",
      "Before clear: {'a': 1, 'b': 2}\n",
      "After clear: {}\n"
     ]
    }
   ],
   "source": [
    "# Dictionary methods and operations\n",
    "student = {\n",
    "    \"name\": \"Charlie\",\n",
    "    \"age\": 21,\n",
    "    \"major\": \"Physics\",\n",
    "    \"courses\": [\"Physics 101\", \"Math 201\", \"Chemistry 150\"]\n",
    "}\n",
    "\n",
    "print(\"=== DICTIONARY METHODS ===\")\n",
    "print(f\"Original: {student}\")\n",
    "\n",
    "# Adding and updating\n",
    "student[\"email\"] = \"charlie@university.edu\"\n",
    "student[\"age\"] = 22  # Update existing\n",
    "print(f\"\\nAfter updates: {student}\")\n",
    "\n",
    "# Dictionary methods\n",
    "print(f\"\\nKeys: {list(student.keys())}\")\n",
    "print(f\"Values: {list(student.values())}\")\n",
    "print(f\"Items: {list(student.items())}\")\n",
    "\n",
    "# Removing items\n",
    "removed_age = student.pop(\"age\")\n",
    "print(f\"\\nRemoved age: {removed_age}\")\n",
    "print(f\"After removing age: {student}\")\n",
    "\n",
    "# Copy dictionary\n",
    "student_copy = student.copy()\n",
    "print(f\"\\nCopied dictionary: {student_copy}\")\n",
    "\n",
    "# Clear dictionary\n",
    "temp_dict = {\"a\": 1, \"b\": 2}\n",
    "print(f\"Before clear: {temp_dict}\")\n",
    "temp_dict.clear()\n",
    "print(f\"After clear: {temp_dict}\")"
   ]
  },
  {
   "cell_type": "code",
   "execution_count": 5,
   "id": "b1f92598",
   "metadata": {},
   "outputs": [
    {
     "name": "stdout",
     "output_type": "stream",
     "text": [
      "=== NESTED DICTIONARIES ===\n",
      "Student 001 info:\n",
      "Name: Alice Johnson\n",
      "Age: 20\n",
      "Courses: ['CS101', 'MATH201']\n",
      "CS101 grade for student 001: A\n",
      "\n",
      "CS101 course info: {'name': 'Intro to Programming', 'credits': 3}\n"
     ]
    }
   ],
   "source": [
    "# Working with nested dictionaries\n",
    "print(\"=== NESTED DICTIONARIES ===\")\n",
    "\n",
    "# University database\n",
    "university = {\n",
    "    \"students\": {\n",
    "        \"001\": {\n",
    "            \"name\": \"Alice Johnson\",\n",
    "            \"age\": 20,\n",
    "            \"courses\": [\"CS101\", \"MATH201\"],\n",
    "            \"grades\": {\"CS101\": \"A\", \"MATH201\": \"B+\"}\n",
    "        },\n",
    "        \"002\": {\n",
    "            \"name\": \"Bob Smith\", \n",
    "            \"age\": 22,\n",
    "            \"courses\": [\"PHYS101\", \"MATH201\"],\n",
    "            \"grades\": {\"PHYS101\": \"A-\", \"MATH201\": \"A\"}\n",
    "        }\n",
    "    },\n",
    "    \"courses\": {\n",
    "        \"CS101\": {\"name\": \"Intro to Programming\", \"credits\": 3},\n",
    "        \"MATH201\": {\"name\": \"Calculus II\", \"credits\": 4},\n",
    "        \"PHYS101\": {\"name\": \"Physics I\", \"credits\": 4}\n",
    "    }\n",
    "}\n",
    "\n",
    "# Accessing nested data\n",
    "print(\"Student 001 info:\")\n",
    "student_001 = university[\"students\"][\"001\"]\n",
    "print(f\"Name: {student_001['name']}\")\n",
    "print(f\"Age: {student_001['age']}\")\n",
    "print(f\"Courses: {student_001['courses']}\")\n",
    "\n",
    "# Deep access\n",
    "cs_grade = university[\"students\"][\"001\"][\"grades\"][\"CS101\"]\n",
    "print(f\"CS101 grade for student 001: {cs_grade}\")\n",
    "\n",
    "# Course information\n",
    "print(f\"\\nCS101 course info: {university['courses']['CS101']}\")"
   ]
  },
  {
   "cell_type": "markdown",
   "id": "82c11c58",
   "metadata": {},
   "source": [
    "# **Tuples - Immutable Collections**\n",
    "\n",
    "## What are Tuples?\n",
    "Tuples are **ordered collections** that **cannot be changed** after creation.\n",
    "\n",
    "## Tuple Characteristics:\n",
    "- **Ordered** - items have positions\n",
    "- **Immutable** - cannot change after creation\n",
    "- **Allow duplicates** - same item can appear multiple times\n",
    "- **Faster than lists** - for accessing data\n",
    "\n",
    "## When to Use Tuples:\n",
    "- **Coordinates** - `(x, y)` or `(lat, lon)`\n",
    "- **RGB colors** - `(255, 0, 0)` for red\n",
    "- **Database records** - fixed structure data\n",
    "- **Function returns** - return multiple values\n",
    "\n",
    "## Tuple Syntax:\n",
    "```python\n",
    "# Creating tuples\n",
    "point = (10, 20)\n",
    "colors = (\"red\", \"green\", \"blue\")\n",
    "single_item = (42,)  # Note the comma!\n",
    "empty_tuple = ()"
   ]
  },
  {
   "cell_type": "code",
   "execution_count": 6,
   "id": "c8b23aa2",
   "metadata": {},
   "outputs": [
    {
     "name": "stdout",
     "output_type": "stream",
     "text": [
      "=== CREATING TUPLES ===\n",
      "Coordinates: (10.5, 20.3)\n",
      "RGB Color: (255, 128, 0)\n",
      "Student info: ('Alice', 20, 'Computer Science', 3.8)\n",
      "Empty tuple: ()\n",
      "Single item tuple: (42,)\n",
      "\n",
      "=== ACCESSING TUPLE ITEMS ===\n",
      "X coordinate: 10.5\n",
      "Y coordinate: 20.3\n",
      "Student name: Alice\n",
      "Student GPA: 3.8\n",
      "Last item in student_info: 3.8\n",
      "Numbers: (1, 2, 3, 4, 5, 6, 7, 8, 9, 10)\n",
      "First 3: (1, 2, 3)\n",
      "Last 3: (8, 9, 10)\n"
     ]
    }
   ],
   "source": [
    "\n",
    "# Creating and working with tuples\n",
    "print(\"=== CREATING TUPLES ===\")\n",
    "\n",
    "# Different ways to create tuples\n",
    "coordinates = (10.5, 20.3)\n",
    "rgb_color = (255, 128, 0)  # Orange color\n",
    "student_info = (\"Alice\", 20, \"Computer Science\", 3.8)\n",
    "empty_tuple = ()\n",
    "single_item = (42,)  # Comma is important!\n",
    "\n",
    "print(f\"Coordinates: {coordinates}\")\n",
    "print(f\"RGB Color: {rgb_color}\")\n",
    "print(f\"Student info: {student_info}\")\n",
    "print(f\"Empty tuple: {empty_tuple}\")\n",
    "print(f\"Single item tuple: {single_item}\")\n",
    "\n",
    "print(\"\\n=== ACCESSING TUPLE ITEMS ===\")\n",
    "\n",
    "# Accessing items (same as lists)\n",
    "print(f\"X coordinate: {coordinates[0]}\")\n",
    "print(f\"Y coordinate: {coordinates[1]}\")\n",
    "print(f\"Student name: {student_info[0]}\")\n",
    "print(f\"Student GPA: {student_info[3]}\")\n",
    "\n",
    "# Negative indexing\n",
    "print(f\"Last item in student_info: {student_info[-1]}\")\n",
    "\n",
    "# Slicing tuples\n",
    "numbers = (1, 2, 3, 4, 5, 6, 7, 8, 9, 10)\n",
    "print(f\"Numbers: {numbers}\")\n",
    "print(f\"First 3: {numbers[0:3]}\")\n",
    "print(f\"Last 3: {numbers[-3:]}\")"
   ]
  },
  {
   "cell_type": "code",
   "execution_count": 7,
   "id": "ab03badb",
   "metadata": {},
   "outputs": [
    {
     "name": "stdout",
     "output_type": "stream",
     "text": [
      "=== TUPLE OPERATIONS ===\n",
      "Point: (15, 25)\n",
      "X: 15, Y: 25\n",
      "Name: John Doe\n",
      "Age: 25, Job: Engineer\n",
      "\n",
      "Numbers tuple: (1, 2, 3, 2, 4, 2, 5)\n",
      "Count of 2: 3\n",
      "Index of first 3: 2\n",
      "\n",
      "Combined tuples: (1, 2, 3, 4, 5, 6)\n",
      "Repeated tuple: (1, 2, 1, 2, 1, 2)\n",
      "3 is in the numbers tuple\n",
      "\n",
      "List: [1, 2, 3, 4]\n",
      "To tuple: (1, 2, 3, 4)\n",
      "Back to list: [1, 2, 3, 4]\n"
     ]
    }
   ],
   "source": [
    "# Tuple operations and methods\n",
    "print(\"=== TUPLE OPERATIONS ===\")\n",
    "\n",
    "# Tuple unpacking\n",
    "point = (15, 25)\n",
    "x, y = point  # Unpack into variables\n",
    "print(f\"Point: {point}\")\n",
    "print(f\"X: {x}, Y: {y}\")\n",
    "\n",
    "# Multiple assignment\n",
    "person = (\"John\", \"Doe\", 25, \"Engineer\")\n",
    "first_name, last_name, age, job = person\n",
    "print(f\"Name: {first_name} {last_name}\")\n",
    "print(f\"Age: {age}, Job: {job}\")\n",
    "\n",
    "# Tuple methods\n",
    "numbers = (1, 2, 3, 2, 4, 2, 5)\n",
    "print(f\"\\nNumbers tuple: {numbers}\")\n",
    "print(f\"Count of 2: {numbers.count(2)}\")\n",
    "print(f\"Index of first 3: {numbers.index(3)}\")\n",
    "\n",
    "# Tuple concatenation\n",
    "tuple1 = (1, 2, 3)\n",
    "tuple2 = (4, 5, 6)\n",
    "combined = tuple1 + tuple2\n",
    "print(f\"\\nCombined tuples: {combined}\")\n",
    "\n",
    "# Tuple repetition\n",
    "repeated = (1, 2) * 3\n",
    "print(f\"Repeated tuple: {repeated}\")\n",
    "\n",
    "# Check membership\n",
    "if 3 in numbers:\n",
    "    print(f\"3 is in the numbers tuple\")\n",
    "\n",
    "# Convert between lists and tuples\n",
    "my_list = [1, 2, 3, 4]\n",
    "my_tuple = tuple(my_list)\n",
    "back_to_list = list(my_tuple)\n",
    "print(f\"\\nList: {my_list}\")\n",
    "print(f\"To tuple: {my_tuple}\")\n",
    "print(f\"Back to list: {back_to_list}\")"
   ]
  },
  {
   "cell_type": "markdown",
   "id": "c1180ff9",
   "metadata": {},
   "source": [
    "# **Sets - Unique Collections**\n",
    "\n",
    "## What are Sets?\n",
    "Sets are collections of **unique items** with **no duplicates** and **no specific order**.\n",
    "\n",
    "## Set Characteristics:\n",
    "- **Unordered** - no indexing or slicing\n",
    "- **Mutable** - can add/remove items\n",
    "- **No duplicates** - automatically removes duplicates\n",
    "- **Fast membership testing** - very quick to check if item exists\n",
    "\n",
    "## When to Use Sets:\n",
    "- **Remove duplicates** from a list\n",
    "- **Membership testing** - check if item exists\n",
    "- **Mathematical operations** - union, intersection\n",
    "- **Unique collections** - unique user IDs, tags\n",
    "\n",
    "## Set Operations:\n",
    "- `add()` - add single item\n",
    "- `update()` - add multiple items\n",
    "- `remove()` - remove item (error if not found)\n",
    "- `discard()` - remove item (no error if not found)\n",
    "- `union()` - combine sets\n",
    "- `intersection()` - common items"
   ]
  },
  {
   "cell_type": "code",
   "execution_count": 8,
   "id": "3f68c725",
   "metadata": {},
   "outputs": [
    {
     "name": "stdout",
     "output_type": "stream",
     "text": [
      "=== CREATING SETS ===\n",
      "Fruits: {'apple', 'banana', 'orange'}\n",
      "Numbers: {1, 2, 3, 4, 5}\n",
      "Mixed set: {True, 42, 3.14, 'hello'}\n",
      "Empty set: set()\n",
      "\n",
      "List with duplicates: [1, 2, 2, 3, 3, 3, 4, 4, 5]\n",
      "Set (duplicates removed): {1, 2, 3, 4, 5}\n",
      "\n",
      "=== ADDING AND REMOVING ITEMS ===\n",
      "Original colors: {'red', 'green'}\n",
      "After adding blue: {'blue', 'red', 'green'}\n",
      "After adding multiple: {'red', 'blue', 'yellow', 'green', 'purple', 'orange'}\n",
      "After removing green: {'red', 'blue', 'yellow', 'purple', 'orange'}\n",
      "After discarding pink (not in set): {'red', 'blue', 'yellow', 'purple', 'orange'}\n"
     ]
    }
   ],
   "source": [
    "# Creating and working with sets\n",
    "print(\"=== CREATING SETS ===\")\n",
    "\n",
    "# Different ways to create sets\n",
    "fruits = {\"apple\", \"banana\", \"orange\"}\n",
    "numbers = {1, 2, 3, 4, 5}\n",
    "mixed_set = {\"hello\", 42, 3.14, True}\n",
    "empty_set = set()  # Note: {} creates empty dict, not set!\n",
    "\n",
    "print(f\"Fruits: {fruits}\")\n",
    "print(f\"Numbers: {numbers}\")\n",
    "print(f\"Mixed set: {mixed_set}\")\n",
    "print(f\"Empty set: {empty_set}\")\n",
    "\n",
    "# Creating set from list (removes duplicates!)\n",
    "duplicate_list = [1, 2, 2, 3, 3, 3, 4, 4, 5]\n",
    "unique_numbers = set(duplicate_list)\n",
    "print(f\"\\nList with duplicates: {duplicate_list}\")\n",
    "print(f\"Set (duplicates removed): {unique_numbers}\")\n",
    "\n",
    "print(\"\\n=== ADDING AND REMOVING ITEMS ===\")\n",
    "\n",
    "# Adding items\n",
    "colors = {\"red\", \"green\"}\n",
    "print(f\"Original colors: {colors}\")\n",
    "\n",
    "colors.add(\"blue\")\n",
    "print(f\"After adding blue: {colors}\")\n",
    "\n",
    "colors.update([\"yellow\", \"purple\", \"orange\"])\n",
    "print(f\"After adding multiple: {colors}\")\n",
    "\n",
    "# Removing items\n",
    "colors.remove(\"green\")  # Raises error if not found\n",
    "print(f\"After removing green: {colors}\")\n",
    "\n",
    "colors.discard(\"pink\")  # No error if not found\n",
    "print(f\"After discarding pink (not in set): {colors}\")"
   ]
  },
  {
   "cell_type": "code",
   "execution_count": 9,
   "id": "6e063921",
   "metadata": {},
   "outputs": [
    {
     "name": "stdout",
     "output_type": "stream",
     "text": [
      "=== SET MATHEMATICAL OPERATIONS ===\n",
      "Set A: {1, 2, 3, 4, 5}\n",
      "Set B: {4, 5, 6, 7, 8}\n",
      "\n",
      "Union (A ∪ B): {1, 2, 3, 4, 5, 6, 7, 8}\n",
      "Intersection (A ∩ B): {4, 5}\n",
      "Difference (A - B): {1, 2, 3}\n",
      "Symmetric Difference (A △ B): {1, 2, 3, 6, 7, 8}\n",
      "\n",
      "Alice's courses: {'English', 'Physics', 'Chemistry', 'Math'}\n",
      "Bob's courses: {'History', 'Chemistry', 'Math', 'Biology'}\n",
      "Common courses: {'Chemistry', 'Math'}\n",
      "All courses: {'English', 'History', 'Chemistry', 'Math', 'Physics', 'Biology'}\n",
      "Only Alice takes: {'English', 'Physics'}\n",
      "Only Bob takes: {'History', 'Biology'}\n"
     ]
    }
   ],
   "source": [
    "# Set mathematical operations\n",
    "print(\"=== SET MATHEMATICAL OPERATIONS ===\")\n",
    "\n",
    "# Creating sets for demonstration\n",
    "set_a = {1, 2, 3, 4, 5}\n",
    "set_b = {4, 5, 6, 7, 8}\n",
    "\n",
    "print(f\"Set A: {set_a}\")\n",
    "print(f\"Set B: {set_b}\")\n",
    "\n",
    "# Union (all items from both sets)\n",
    "union_set = set_a.union(set_b)\n",
    "# Alternative: set_a | set_b\n",
    "print(f\"\\nUnion (A ∪ B): {union_set}\")\n",
    "\n",
    "# Intersection (common items)\n",
    "intersection_set = set_a.intersection(set_b)\n",
    "# Alternative: set_a & set_b\n",
    "print(f\"Intersection (A ∩ B): {intersection_set}\")\n",
    "\n",
    "# Difference (items in A but not in B)\n",
    "difference_set = set_a.difference(set_b)\n",
    "# Alternative: set_a - set_b\n",
    "print(f\"Difference (A - B): {difference_set}\")\n",
    "\n",
    "# Symmetric difference (items in either A or B, but not both)\n",
    "sym_diff_set = set_a.symmetric_difference(set_b)\n",
    "# Alternative: set_a ^ set_b\n",
    "print(f\"Symmetric Difference (A △ B): {sym_diff_set}\")\n",
    "\n",
    "# Practical example: Student courses\n",
    "alice_courses = {\"Math\", \"Physics\", \"Chemistry\", \"English\"}\n",
    "bob_courses = {\"Math\", \"Biology\", \"Chemistry\", \"History\"}\n",
    "\n",
    "print(f\"\\nAlice's courses: {alice_courses}\")\n",
    "print(f\"Bob's courses: {bob_courses}\")\n",
    "print(f\"Common courses: {alice_courses & bob_courses}\")\n",
    "print(f\"All courses: {alice_courses | bob_courses}\")\n",
    "print(f\"Only Alice takes: {alice_courses - bob_courses}\")\n",
    "print(f\"Only Bob takes: {bob_courses - alice_courses}\")"
   ]
  },
  {
   "cell_type": "markdown",
   "id": "d33424ee",
   "metadata": {},
   "source": [
    "# **Real-World Data Structures Examples**"
   ]
  },
  {
   "cell_type": "code",
   "execution_count": null,
   "id": "2be4cc18",
   "metadata": {},
   "outputs": [],
   "source": [
    "# Real-world examples using all data structures\n",
    "print(\"=== STUDENT MANAGEMENT SYSTEM ===\")\n",
    "\n",
    "# Using all data structures together\n",
    "class StudentManager:\n",
    "    def __init__(self):\n",
    "        # Dictionary for main student data\n",
    "        self.students = {}\n",
    "        \n",
    "        # Set for tracking unique courses\n",
    "        self.all_courses = set()\n",
    "        \n",
    "        # List for maintaining enrollment order\n",
    "        self.enrollment_order = []\n",
    "    \n",
    "    def add_student(self, student_id, name, age):\n",
    "        \"\"\"Add a new student\"\"\"\n",
    "        self.students[student_id] = {\n",
    "            \"name\": name,\n",
    "            \"age\": age,\n",
    "            \"courses\": [],  # List of courses\n",
    "            \"grades\": {}    # Dictionary of course:grade"
   ]
  },
  {
   "cell_type": "markdown",
   "id": "34d8804d",
   "metadata": {},
   "source": [
    "# **Functions - Reusable Code Blocks**\n",
    "\n",
    "## What are Functions?\n",
    "Functions are **reusable blocks of code** that perform specific tasks.\n",
    "\n",
    "## Why Use Functions?\n",
    "- **Avoid repetition** - write once, use many times\n",
    "- **Organize code** - break big problems into smaller pieces\n",
    "- **Easy testing** - test each function separately\n",
    "- **Readable code** - clear purpose and structure\n",
    "\n",
    "## Function Syntax:\n",
    "```python\n",
    "def function_name(parameters):\n",
    "    \"\"\"Optional description\"\"\"\n",
    "    # function body\n",
    "    return result  # optional"
   ]
  },
  {
   "cell_type": "code",
   "execution_count": 11,
   "id": "cfa1239b",
   "metadata": {},
   "outputs": [
    {
     "name": "stdout",
     "output_type": "stream",
     "text": [
      "=== SIMPLE FUNCTIONS ===\n",
      "Calling functions:\n",
      "Hello! Welcome to Python functions!\n",
      "Hello, Alice! Nice to meet you!\n",
      "Hello, Bob! Nice to meet you!\n",
      "5 + 3 = 8\n",
      "Area of 10x5 rectangle: 50\n",
      "\n",
      "Hi, I'm Charlie and I'm 20 years old\n",
      "Hi, I'm Diana and I'm 25 years old\n"
     ]
    }
   ],
   "source": [
    "\n",
    "# Basic function examples\n",
    "print(\"=== SIMPLE FUNCTIONS ===\")\n",
    "\n",
    "# Function with no parameters, no return\n",
    "def greet():\n",
    "    \"\"\"Print a greeting message\"\"\"\n",
    "    print(\"Hello! Welcome to Python functions!\")\n",
    "\n",
    "# Function with parameters, no return\n",
    "def greet_person(name):\n",
    "    \"\"\"Greet a specific person\"\"\"\n",
    "    print(f\"Hello, {name}! Nice to meet you!\")\n",
    "\n",
    "# Function with parameters and return\n",
    "def add_numbers(a, b):\n",
    "    \"\"\"Add two numbers and return the result\"\"\"\n",
    "    result = a + b\n",
    "    return result\n",
    "\n",
    "# Function with multiple parameters and return\n",
    "def calculate_area(length, width):\n",
    "    \"\"\"Calculate rectangle area\"\"\"\n",
    "    area = length * width\n",
    "    return area\n",
    "\n",
    "# Using the functions\n",
    "print(\"Calling functions:\")\n",
    "greet()\n",
    "\n",
    "greet_person(\"Alice\")\n",
    "greet_person(\"Bob\")\n",
    "\n",
    "sum_result = add_numbers(5, 3)\n",
    "print(f\"5 + 3 = {sum_result}\")\n",
    "\n",
    "area = calculate_area(10, 5)\n",
    "print(f\"Area of 10x5 rectangle: {area}\")\n",
    "\n",
    "# Function with default parameters\n",
    "def introduce(name, age=20):\n",
    "    \"\"\"Introduce a person with optional age\"\"\"\n",
    "    return f\"Hi, I'm {name} and I'm {age} years old\"\n",
    "\n",
    "print(f\"\\n{introduce('Charlie')}\")  # Uses default age\n",
    "print(f\"{introduce('Diana', 25)}\")  # Uses provided age"
   ]
  },
  {
   "cell_type": "code",
   "execution_count": 12,
   "id": "01c575fa",
   "metadata": {},
   "outputs": [
    {
     "name": "stdout",
     "output_type": "stream",
     "text": [
      "=== ADVANCED FUNCTIONS ===\n",
      "Name: John Smith\n",
      "First: John, Last: Smith\n",
      "\n",
      "Grades 1: [85, 90, 88, 92]\n",
      "Average: 88.8\n",
      "Grades 2: [78, 82, 85, 79, 88]\n",
      "Average: 82.4\n",
      "Empty grades average: 0\n",
      "\n",
      "Original scores: [85, 90, 88]\n",
      "After adding grade: [85, 90, 88, 95]\n",
      "\n",
      "Grade conversion:\n",
      "Score 95 → Grade A\n",
      "Score 87 → Grade B\n",
      "Score 76 → Grade C\n",
      "Score 65 → Grade D\n",
      "Score 54 → Grade F\n"
     ]
    }
   ],
   "source": [
    "# Advanced function concepts\n",
    "print(\"=== ADVANCED FUNCTIONS ===\")\n",
    "\n",
    "# Function returning multiple values\n",
    "def get_name_parts(full_name):\n",
    "    \"\"\"Split full name into first and last name\"\"\"\n",
    "    parts = full_name.split()\n",
    "    first_name = parts[0]\n",
    "    last_name = parts[-1] if len(parts) > 1 else \"\"\n",
    "    return first_name, last_name  # Returns a tuple\n",
    "\n",
    "# Function with list parameter\n",
    "def calculate_average(numbers):\n",
    "    \"\"\"Calculate average of a list of numbers\"\"\"\n",
    "    if not numbers:  # Check if list is empty\n",
    "        return 0\n",
    "    return sum(numbers) / len(numbers)\n",
    "\n",
    "# Function that modifies a list\n",
    "def add_grade(student_grades, new_grade):\n",
    "    \"\"\"Add a grade to student's grade list\"\"\"\n",
    "    student_grades.append(new_grade)\n",
    "    return student_grades\n",
    "\n",
    "# Using advanced functions\n",
    "full_name = \"John Smith\"\n",
    "first, last = get_name_parts(full_name)  # Unpack tuple\n",
    "print(f\"Name: {full_name}\")\n",
    "print(f\"First: {first}, Last: {last}\")\n",
    "\n",
    "# Calculate averages\n",
    "grades_1 = [85, 90, 88, 92]\n",
    "grades_2 = [78, 82, 85, 79, 88]\n",
    "empty_grades = []\n",
    "\n",
    "print(f\"\\nGrades 1: {grades_1}\")\n",
    "print(f\"Average: {calculate_average(grades_1):.1f}\")\n",
    "\n",
    "print(f\"Grades 2: {grades_2}\")\n",
    "print(f\"Average: {calculate_average(grades_2):.1f}\")\n",
    "\n",
    "print(f\"Empty grades average: {calculate_average(empty_grades)}\")\n",
    "\n",
    "# Using function that modifies list\n",
    "student_scores = [85, 90, 88]\n",
    "print(f\"\\nOriginal scores: {student_scores}\")\n",
    "add_grade(student_scores, 95)\n",
    "print(f\"After adding grade: {student_scores}\")\n",
    "\n",
    "# Practical example: Grade calculator function\n",
    "def letter_grade(score):\n",
    "    \"\"\"Convert numeric score to letter grade\"\"\"\n",
    "    if score >= 90:\n",
    "        return \"A\"\n",
    "    elif score >= 80:\n",
    "        return \"B\"\n",
    "    elif score >= 70:\n",
    "        return \"C\"\n",
    "    elif score >= 60:\n",
    "        return \"D\"\n",
    "    else:\n",
    "        return \"F\"\n",
    "\n",
    "# Test the grade function\n",
    "test_scores = [95, 87, 76, 65, 54]\n",
    "print(f\"\\nGrade conversion:\")\n",
    "for score in test_scores:\n",
    "    grade = letter_grade(score)\n",
    "    print(f\"Score {score} → Grade {grade}\")"
   ]
  }
 ],
 "metadata": {
  "colab": {
   "provenance": [],
   "toc_visible": true
  },
  "kernelspec": {
   "display_name": "Python 3",
   "language": "python",
   "name": "python3"
  },
  "language_info": {
   "codemirror_mode": {
    "name": "ipython",
    "version": 3
   },
   "file_extension": ".py",
   "mimetype": "text/x-python",
   "name": "python",
   "nbconvert_exporter": "python",
   "pygments_lexer": "ipython3",
   "version": "3.12.1"
  }
 },
 "nbformat": 4,
 "nbformat_minor": 5
}
