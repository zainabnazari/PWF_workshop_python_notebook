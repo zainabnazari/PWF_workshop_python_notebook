{
 "cells": [
  {
   "cell_type": "markdown",
   "id": "6d77ad36",
   "metadata": {},
   "source": [
    "**Sharif Hussainyar** \n",
    "\n",
    "@Sharif Carl and I made a bit of this session in the past  you can delete them or keep them ;) "
   ]
  },
  {
   "cell_type": "markdown",
   "id": "cfc2d094",
   "metadata": {},
   "source": [
    "# Session 1: Introduction to Python for Scientific Computing\n",
    "* Python basics: variables, data types, control flow (if, for, while)\n",
    "* Functions and basic input/output\n",
    "* Hands-on mini-exercises\n"
   ]
  },
  {
   "cell_type": "code",
   "execution_count": null,
   "id": "96483e86",
   "metadata": {},
   "outputs": [],
   "source": []
  },
  {
   "cell_type": "markdown",
   "id": "warfa-qoo9Lo",
   "metadata": {
    "id": "warfa-qoo9Lo"
   },
   "source": [
    "# **Variables and Data Types**\n",
    "\n",
    "## What are Variables?\n",
    "Variables are like **labeled boxes** that store data.\n",
    "\n",
    "## **Python Data Types**\n",
    "\n",
    "| Type | Example | Description |\n",
    "| ----------- | ------------------- | ----------------------- |\n",
    "| `int` | `42` | Whole numbers |\n",
    "| `float` | `3.14` | Decimal numbers |\n",
    "| `str` | `\"hello\"` | Text strings |\n",
    "| `bool` | `True`, `False` | Boolean values |\n",
    "| `list` | `[1, 2, 3]` | Ordered & changeable |\n",
    "| `tuple` | `(1, 2, 3)` | Ordered & unchangeable |\n",
    "| `dict` | `{\"a\": 1}` | Key-value pairs |\n",
    "| `set` | `{1, 2, 3}` | Unique values only |\n",
    "| `range` | `range(5)` | Number sequences |\n",
    "| `None` | `None` | No value |"
   ]
  },
  {
   "cell_type": "code",
   "execution_count": null,
   "id": "791e25cd",
   "metadata": {},
   "outputs": [
    {
     "name": "stdout",
     "output_type": "stream",
     "text": [
      "Student Information:\n",
      "Name: Alice\n",
      "Age: 21\n",
      "Height: 5.6 feet\n",
      "Is student: True\n"
     ]
    }
   ],
   "source": [
    "# different types of variables\n",
    "name = \"Alice\"           # String\n",
    "age = 21                 # Integer\n",
    "height = 5.6             # Float\n",
    "is_student = True        # Boolean\n",
    "\n",
    "# Display the variables\n",
    "print(\"Student Information:\")\n",
    "print(f\"Name: {name}\")\n",
    "print(f\"Age: {age}\")\n",
    "print(f\"Height: {height} feet\")\n",
    "print(f\"Is student: {is_student}\")"
   ]
  },
  {
   "cell_type": "markdown",
   "id": "4ecbabe2",
   "metadata": {},
   "source": [
    "# **Checking Variables Types**"
   ]
  },
  {
   "cell_type": "code",
   "execution_count": 3,
   "id": "7e9296f2",
   "metadata": {},
   "outputs": [
    {
     "name": "stdout",
     "output_type": "stream",
     "text": [
      "Variable Types:\n",
      "type(name) = <class 'str'>\n",
      "type(age) = <class 'int'>\n",
      "type(height) = <class 'float'>\n",
      "type(is_student) = <class 'bool'>\n"
     ]
    }
   ],
   "source": [
    "# Check the type of each variable\n",
    "print(\"Variable Types:\")\n",
    "print(f\"type(name) = {type(name)}\")\n",
    "print(f\"type(age) = {type(age)}\")\n",
    "print(f\"type(height) = {type(height)}\")\n",
    "print(f\"type(is_student) = {type(is_student)}\")"
   ]
  },
  {
   "cell_type": "markdown",
   "id": "07558888",
   "metadata": {},
   "source": [
    "# **Working with Numbers**\n",
    "\n",
    "## Arithmetic Operators:\n",
    "- `+` Addition\n",
    "- `-` Subtraction  \n",
    "- `*` Multiplication\n",
    "- `/` Division\n",
    "- `**` Power\n",
    "- `//` Floor division\n",
    "- `%` Remainder (modulo)\n",
    "\n",
    "## Comparison Operators:\n",
    "- `==` Equal to\n",
    "- `!=` Not equal to\n",
    "- `<` Less than\n",
    "- `>` Greater than\n",
    "- `<=` Less than or equal\n",
    "- `>=` Greater than or equal"
   ]
  },
  {
   "cell_type": "code",
   "execution_count": 4,
   "id": "1c9c8380",
   "metadata": {},
   "outputs": [
    {
     "name": "stdout",
     "output_type": "stream",
     "text": [
      "Math Operations:\n",
      "10 + 3 = 13\n",
      "10 - 3 = 7\n",
      "10 * 3 = 30\n",
      "10 / 3 = 3.3333333333333335\n",
      "10 ** 3 = 1000\n",
      "10 // 3 = 3\n",
      "10 % 3 = 1\n"
     ]
    }
   ],
   "source": [
    "# Basic math operations\n",
    "a = 10\n",
    "b = 3\n",
    "\n",
    "print(\"Math Operations:\")\n",
    "print(f\"{a} + {b} = {a + b}\")\n",
    "print(f\"{a} - {b} = {a - b}\")\n",
    "print(f\"{a} * {b} = {a * b}\")\n",
    "print(f\"{a} / {b} = {a / b}\")\n",
    "print(f\"{a} ** {b} = {a ** b}\")\n",
    "print(f\"{a} // {b} = {a // b}\")\n",
    "print(f\"{a} % {b} = {a % b}\")"
   ]
  },
  {
   "cell_type": "markdown",
   "id": "e5b6e763",
   "metadata": {},
   "source": [
    "# **Boolean Operations**"
   ]
  },
  {
   "cell_type": "code",
   "execution_count": 5,
   "id": "c72dca95",
   "metadata": {},
   "outputs": [
    {
     "name": "stdout",
     "output_type": "stream",
     "text": [
      "Comparison Operations:\n",
      "15 == 20 is False\n",
      "15 != 20 is True\n",
      "15 < 20 is True\n",
      "15 > 20 is False\n",
      "\n",
      "Logical Operations:\n",
      "sunny AND warm: True\n",
      "sunny OR warm: True\n",
      "NOT sunny: False\n"
     ]
    }
   ],
   "source": [
    "# Boolean and comparison operations\n",
    "x = 15\n",
    "y = 20\n",
    "\n",
    "print(\"Comparison Operations:\")\n",
    "print(f\"{x} == {y} is {x == y}\")\n",
    "print(f\"{x} != {y} is {x != y}\")\n",
    "print(f\"{x} < {y} is {x < y}\")\n",
    "print(f\"{x} > {y} is {x > y}\")\n",
    "\n",
    "# Logical operations\n",
    "sunny = True\n",
    "warm = True\n",
    "\n",
    "print(\"\\nLogical Operations:\")\n",
    "print(f\"sunny AND warm: {sunny and warm}\")\n",
    "print(f\"sunny OR warm: {sunny or warm}\")\n",
    "print(f\"NOT sunny: {not sunny}\")"
   ]
  },
  {
   "cell_type": "markdown",
   "id": "8993622f",
   "metadata": {},
   "source": [
    "# **Working with Strings**\n",
    "\n",
    "## What are Strings?\n",
    "Strings are sequences of characters (text).\n",
    "\n",
    "## String Operations:\n",
    "- **Concatenation:** Joining strings with `+`\n",
    "- **Slicing:** Getting parts of a string\n",
    "- **Methods:** Built-in functions like `.upper()`, `.lower()`\n",
    "\n",
    "## String Slicing:\n",
    "- `string[start:end]` - Get characters from start to end-1\n",
    "- `string[start:]` - From start to end\n",
    "- `string[:end]` - From beginning to end-1\n",
    "- `string[::-1]` - Reverse the string"
   ]
  },
  {
   "cell_type": "code",
   "execution_count": 6,
   "id": "efceee6e",
   "metadata": {},
   "outputs": [
    {
     "name": "stdout",
     "output_type": "stream",
     "text": [
      "Full name: John Smith\n",
      "Length of full name: 10\n",
      "Uppercase: JOHN SMITH\n",
      "Lowercase: john smith\n",
      "Title case: John Smith\n"
     ]
    }
   ],
   "source": [
    "# Creating and working with strings\n",
    "first_name = \"John\"\n",
    "last_name = \"Smith\"\n",
    "\n",
    "# String concatenation\n",
    "full_name = first_name + \" \" + last_name\n",
    "print(f\"Full name: {full_name}\")\n",
    "\n",
    "# String length\n",
    "print(f\"Length of full name: {len(full_name)}\")\n",
    "\n",
    "# String methods\n",
    "print(f\"Uppercase: {full_name.upper()}\")\n",
    "print(f\"Lowercase: {full_name.lower()}\")\n",
    "print(f\"Title case: {full_name.title()}\")"
   ]
  },
  {
   "cell_type": "code",
   "execution_count": 7,
   "id": "0e9ce62b",
   "metadata": {},
   "outputs": [
    {
     "name": "stdout",
     "output_type": "stream",
     "text": [
      "Original text: 'Python Programming'\n",
      "First 6 characters: 'Python'\n",
      "Last 11 characters: 'Programming'\n",
      "Middle part: 'Programming'\n",
      "Every 2nd character: 'Pto rgamn'\n",
      "Reverse string: 'gnimmargorP nohtyP'\n",
      "First character: 'P'\n",
      "Last character: 'g'\n"
     ]
    }
   ],
   "source": [
    "# String slicing examples\n",
    "text = \"Python Programming\"\n",
    "print(f\"Original text: '{text}'\")\n",
    "\n",
    "# Basic slicing\n",
    "print(f\"First 6 characters: '{text[0:6]}'\")\n",
    "print(f\"Last 11 characters: '{text[7:]}'\")\n",
    "print(f\"Middle part: '{text[7:18]}'\")\n",
    "\n",
    "# Advanced slicing\n",
    "print(f\"Every 2nd character: '{text[::2]}'\")\n",
    "print(f\"Reverse string: '{text[::-1]}'\")\n",
    "\n",
    "# Individual characters\n",
    "print(f\"First character: '{text[0]}'\")\n",
    "print(f\"Last character: '{text[-1]}'\")"
   ]
  },
  {
   "cell_type": "markdown",
   "id": "5789f9ab",
   "metadata": {},
   "source": [
    "# **Working with Lists**\n",
    "\n",
    "## What are Lists?\n",
    "Lists are **ordered collections** of items that can be changed.\n",
    "\n",
    "## List Characteristics:\n",
    "- **Ordered:** Items have a defined order\n",
    "- **Mutable:** Can be changed after creation\n",
    "- **Allow duplicates:** Same item can appear multiple times\n",
    "- **Mixed types:** Can contain different data types\n",
    "\n",
    "## Common List Operations:\n",
    "- `.append()` - Add item to end\n",
    "- `.insert()` - Add item at specific position\n",
    "- `.remove()` - Remove specific item\n",
    "- `.pop()` - Remove item by index\n",
    "- `len()` - Get list length"
   ]
  },
  {
   "cell_type": "code",
   "execution_count": 8,
   "id": "4a117007",
   "metadata": {},
   "outputs": [
    {
     "name": "stdout",
     "output_type": "stream",
     "text": [
      "Different types of lists:\n",
      "Fruits: ['apple', 'banana', 'orange']\n",
      "Numbers: [1, 2, 3, 4, 5]\n",
      "Mixed list: ['Python', 42, 3.14, True]\n",
      "Empty list: []\n",
      "\n",
      "Number of fruits: 3\n"
     ]
    }
   ],
   "source": [
    "# Creating different types of lists\n",
    "fruits = [\"apple\", \"banana\", \"orange\"]\n",
    "numbers = [1, 2, 3, 4, 5]\n",
    "mixed_list = [\"Python\", 42, 3.14, True]\n",
    "empty_list = []\n",
    "\n",
    "print(\"Different types of lists:\")\n",
    "print(f\"Fruits: {fruits}\")\n",
    "print(f\"Numbers: {numbers}\")\n",
    "print(f\"Mixed list: {mixed_list}\")\n",
    "print(f\"Empty list: {empty_list}\")\n",
    "\n",
    "# List length\n",
    "print(f\"\\nNumber of fruits: {len(fruits)}\")"
   ]
  },
  {
   "cell_type": "code",
   "execution_count": 9,
   "id": "75351401",
   "metadata": {},
   "outputs": [
    {
     "name": "stdout",
     "output_type": "stream",
     "text": [
      "Colors list: ['red', 'green', 'blue', 'yellow', 'purple']\n",
      "First color: red\n",
      "Second color: green\n",
      "Last color: purple\n",
      "Second to last: yellow\n",
      "First 3 colors: ['red', 'green', 'blue']\n",
      "Last 2 colors: ['yellow', 'purple']\n"
     ]
    }
   ],
   "source": [
    "# Accessing items in a list\n",
    "colors = [\"red\", \"green\", \"blue\", \"yellow\", \"purple\"]\n",
    "\n",
    "print(f\"Colors list: {colors}\")\n",
    "print(f\"First color: {colors[0]}\")\n",
    "print(f\"Second color: {colors[1]}\")\n",
    "print(f\"Last color: {colors[-1]}\")\n",
    "print(f\"Second to last: {colors[-2]}\")\n",
    "\n",
    "# List slicing\n",
    "print(f\"First 3 colors: {colors[0:3]}\")\n",
    "print(f\"Last 2 colors: {colors[-2:]}\")"
   ]
  },
  {
   "cell_type": "markdown",
   "id": "9619ad7f",
   "metadata": {},
   "source": [
    "# **Modifying Lists**"
   ]
  },
  {
   "cell_type": "code",
   "execution_count": 10,
   "id": "7ed15987",
   "metadata": {},
   "outputs": [
    {
     "name": "stdout",
     "output_type": "stream",
     "text": [
      "Original list: ['milk', 'bread']\n",
      "After adding eggs: ['milk', 'bread', 'eggs']\n",
      "After adding butter at start: ['butter', 'milk', 'bread', 'eggs']\n",
      "After removing bread: ['butter', 'milk', 'eggs']\n",
      "Removed item: eggs\n",
      "Final list: ['butter', 'milk']\n"
     ]
    }
   ],
   "source": [
    "# Adding and removing items from lists\n",
    "shopping_list = [\"milk\", \"bread\"]\n",
    "print(f\"Original list: {shopping_list}\")\n",
    "\n",
    "# Add items\n",
    "shopping_list.append(\"eggs\")\n",
    "print(f\"After adding eggs: {shopping_list}\")\n",
    "\n",
    "shopping_list.insert(0, \"butter\")\n",
    "print(f\"After adding butter at start: {shopping_list}\")\n",
    "\n",
    "# Remove items\n",
    "shopping_list.remove(\"bread\")\n",
    "print(f\"After removing bread: {shopping_list}\")\n",
    "\n",
    "# Pop (remove and return)\n",
    "last_item = shopping_list.pop()\n",
    "print(f\"Removed item: {last_item}\")\n",
    "print(f\"Final list: {shopping_list}\")"
   ]
  },
  {
   "cell_type": "markdown",
   "id": "e9cc641e",
   "metadata": {},
   "source": [
    "# **Console Input and Output**\n",
    "\n",
    "## Output with print():\n",
    "- `print(\"Hello\")` - Display text\n",
    "- `print(variable)` - Display variable value\n",
    "- `print(f\"Name: {name}\")` - Format strings\n",
    "\n",
    "## Input with input():\n",
    "- `input(\"Enter name: \")` - Get user input\n",
    "- **Always returns a string!**\n",
    "- Use `int()`, `float()` to convert\n",
    "\n",
    "## Important:\n",
    "- Always validate user input\n",
    "- Convert input to correct type\n",
    "- Use clear prompts for users"
   ]
  },
  {
   "cell_type": "code",
   "execution_count": 11,
   "id": "0e272863",
   "metadata": {},
   "outputs": [
    {
     "name": "stdout",
     "output_type": "stream",
     "text": [
      "Hello, World!\n",
      "Welcome to Python!\n",
      "Student name: Alice\n",
      "Student age: 22\n",
      "Hi! I'm Alice and I'm 22 years old.\n",
      "My grade is 85.5%\n",
      "Name: Alice Age: 22 Grade: 85.5\n"
     ]
    }
   ],
   "source": [
    "# Different ways to display output\n",
    "name = \"Alice\"\n",
    "age = 22\n",
    "grade = 85.5\n",
    "\n",
    "# Basic printing\n",
    "print(\"Hello, World!\")\n",
    "print(\"Welcome to Python!\")\n",
    "\n",
    "# Printing variables\n",
    "print(\"Student name:\", name)\n",
    "print(\"Student age:\", age)\n",
    "\n",
    "# F-string formatting (recommended)\n",
    "print(f\"Hi! I'm {name} and I'm {age} years old.\")\n",
    "print(f\"My grade is {grade}%\")\n",
    "\n",
    "# Multiple items\n",
    "print(\"Name:\", name, \"Age:\", age, \"Grade:\", grade)"
   ]
  },
  {
   "cell_type": "code",
   "execution_count": null,
   "id": "e7d9eda5",
   "metadata": {},
   "outputs": [],
   "source": [
    "# Getting input from user\n",
    "# Note: In Jupyter, this will create an input box\n",
    "\n",
    "print(\"=== Student Information Form ===\")\n",
    "\n",
    "# Get string input\n",
    "student_name = input(\"Enter your name: \")\n",
    "print(f\"Hello, {student_name}!\")\n",
    "\n",
    "# Get number input (remember to convert!)\n",
    "student_age = input(\"Enter your age: \")\n",
    "student_age = int(student_age)  # Convert to integer\n",
    "print(f\"You are {student_age} years old\")\n",
    "\n",
    "# Get decimal input\n",
    "height = input(\"Enter your height in feet: \")\n",
    "height = float(height)  # Convert to float\n",
    "print(f\"Your height is {height} feet\")\n",
    "\n",
    "print(f\"\\nSummary: {student_name}, {student_age} years old, {height} feet tall\")"
   ]
  },
  {
   "cell_type": "markdown",
   "id": "418526a4",
   "metadata": {},
   "source": [
    "# **Control Flow (Making Decisions)**\n",
    "\n",
    "## if Statements:\n",
    "Make decisions in your code based on conditions.\n",
    "\n",
    "## Structure:\n",
    "```python\n",
    "if condition:\n",
    "    # do something\n",
    "elif another_condition:\n",
    "    # do something else  \n",
    "else:\n",
    "    # do this if nothing else is true"
   ]
  },
  {
   "cell_type": "code",
   "execution_count": 13,
   "id": "0d09d683",
   "metadata": {},
   "outputs": [
    {
     "name": "stdout",
     "output_type": "stream",
     "text": [
      "It's a warm day!\n",
      "Good weather for outdoor activities\n",
      "You can vote!\n"
     ]
    }
   ],
   "source": [
    "\n",
    "# Basic if statement\n",
    "temperature = 25\n",
    "\n",
    "if temperature > 20:\n",
    "    print(\"It's a warm day!\")\n",
    "    print(\"Good weather for outdoor activities\")\n",
    "\n",
    "# if-else statement\n",
    "age = 18\n",
    "\n",
    "if age >= 18:\n",
    "    print(\"You can vote!\")\n",
    "else:\n",
    "    print(\"You're not old enough to vote yet\")\n",
    "    print(f\"Wait {18 - age} more years\")"
   ]
  },
  {
   "cell_type": "markdown",
   "id": "82bb932a",
   "metadata": {},
   "source": [
    "# **Multiple Conditions**"
   ]
  },
  {
   "cell_type": "code",
   "execution_count": 14,
   "id": "6da01594",
   "metadata": {},
   "outputs": [
    {
     "name": "stdout",
     "output_type": "stream",
     "text": [
      "Your score: 85\n",
      "Grade: B - Good job!\n"
     ]
    }
   ],
   "source": [
    "# if-elif-else chain\n",
    "score = 85\n",
    "\n",
    "print(f\"Your score: {score}\")\n",
    "\n",
    "if score >= 90:\n",
    "    print(\"Grade: A - Excellent!\")\n",
    "elif score >= 80:\n",
    "    print(\"Grade: B - Good job!\")\n",
    "elif score >= 70:\n",
    "    print(\"Grade: C - Not bad\")\n",
    "elif score >= 60:\n",
    "    print(\"Grade: D - You passed\")\n",
    "else:\n",
    "    print(\"Grade: F - Study harder next time\")"
   ]
  },
  {
   "cell_type": "markdown",
   "id": "d63c6f77",
   "metadata": {},
   "source": [
    "# **Logical Operators**"
   ]
  },
  {
   "cell_type": "code",
   "execution_count": 15,
   "id": "91bc25a1",
   "metadata": {},
   "outputs": [
    {
     "name": "stdout",
     "output_type": "stream",
     "text": [
      "Perfect day for a picnic! 🌞\n",
      "It's weekend! Time to relax 🎉\n",
      "No umbrella needed today!\n",
      "Great! We have banana in stock\n"
     ]
    }
   ],
   "source": [
    "# Using logical operators\n",
    "weather = \"sunny\"\n",
    "temperature = 22\n",
    "\n",
    "# AND operator - both conditions must be true\n",
    "if weather == \"sunny\" and temperature > 20:\n",
    "    print(\"Perfect day for a picnic! 🌞\")\n",
    "\n",
    "# OR operator - either condition can be true\n",
    "day = \"Saturday\"\n",
    "if day == \"Saturday\" or day == \"Sunday\":\n",
    "    print(\"It's weekend! Time to relax 🎉\")\n",
    "\n",
    "# NOT operator\n",
    "is_raining = False\n",
    "if not is_raining:\n",
    "    print(\"No umbrella needed today!\")\n",
    "\n",
    "# Membership operators\n",
    "fruits = [\"apple\", \"banana\", \"orange\"]\n",
    "favorite = \"banana\"\n",
    "\n",
    "if favorite in fruits:\n",
    "    print(f\"Great! We have {favorite} in stock\")\n",
    "else:\n",
    "    print(f\"Sorry, {favorite} is not available\")"
   ]
  },
  {
   "cell_type": "markdown",
   "id": "09214b26",
   "metadata": {},
   "source": [
    "# **Loops - Repeating Code**\n",
    "\n",
    "## for Loops:\n",
    "Repeat code for each item in a sequence.\n",
    "```python\n",
    "for item in sequence:\n",
    "    # do something with item"
   ]
  },
  {
   "cell_type": "markdown",
   "id": "472b1dc0",
   "metadata": {},
   "source": [
    "# **Loops - Repeating Code**\n",
    "\n",
    "## While Loops:\n",
    " do something\n",
    "make sure condition eventually becomes false!"
   ]
  },
  {
   "cell_type": "code",
   "execution_count": 16,
   "id": "b3c0027e",
   "metadata": {},
   "outputs": [
    {
     "name": "stdout",
     "output_type": "stream",
     "text": [
      "My favorite fruits:\n",
      "- apple\n",
      "- banana\n",
      "- orange\n",
      "- grape\n",
      "\n",
      "Letters in 'Python':\n",
      "'P'\n",
      "'y'\n",
      "'t'\n",
      "'h'\n",
      "'o'\n",
      "'n'\n"
     ]
    }
   ],
   "source": [
    "\n",
    "# Loop through a list\n",
    "fruits = [\"apple\", \"banana\", \"orange\", \"grape\"]\n",
    "\n",
    "print(\"My favorite fruits:\")\n",
    "for fruit in fruits:\n",
    "    print(f\"- {fruit}\")\n",
    "\n",
    "# Loop through a string\n",
    "word = \"Python\"\n",
    "print(f\"\\nLetters in '{word}':\")\n",
    "for letter in word:\n",
    "    print(f\"'{letter}'\")"
   ]
  },
  {
   "cell_type": "markdown",
   "id": "b0e77e52",
   "metadata": {},
   "source": [
    "# **for Loops**"
   ]
  },
  {
   "cell_type": "code",
   "execution_count": 17,
   "id": "915477e0",
   "metadata": {},
   "outputs": [
    {
     "name": "stdout",
     "output_type": "stream",
     "text": [
      "Numbers 0 to 4:\n",
      "0 1 2 3 4 \n",
      "\n",
      "Numbers 1 to 5:\n",
      "1 2 3 4 5 \n",
      "\n",
      "Even numbers 0 to 10:\n",
      "0 2 4 6 8 10 \n",
      "\n",
      "Countdown:\n",
      "5 4 3 2 1 Go! 🚀\n"
     ]
    }
   ],
   "source": [
    "# Different ways to use range()\n",
    "\n",
    "print(\"Numbers 0 to 4:\")\n",
    "for i in range(5):\n",
    "    print(i, end=\" \")\n",
    "\n",
    "print(\"\\n\\nNumbers 1 to 5:\")\n",
    "for i in range(1, 6):\n",
    "    print(i, end=\" \")\n",
    "\n",
    "print(\"\\n\\nEven numbers 0 to 10:\")\n",
    "for i in range(0, 11, 2):\n",
    "    print(i, end=\" \")\n",
    "\n",
    "print(\"\\n\\nCountdown:\")\n",
    "for i in range(5, 0, -1):\n",
    "    print(i, end=\" \")\n",
    "print(\"Go! 🚀\")"
   ]
  },
  {
   "cell_type": "markdown",
   "id": "a8194030",
   "metadata": {},
   "source": [
    "# **while Loops**"
   ]
  },
  {
   "cell_type": "code",
   "execution_count": 18,
   "id": "a23892bd",
   "metadata": {},
   "outputs": [
    {
     "name": "stdout",
     "output_type": "stream",
     "text": [
      "Counting to 5:\n",
      "Count: 1\n",
      "Count: 2\n",
      "Count: 3\n",
      "Count: 4\n",
      "Count: 5\n",
      "Done counting!\n",
      "\n",
      "Powers of 2 less than 100:\n",
      "1 2 4 8 16 32 64 "
     ]
    }
   ],
   "source": [
    "# Basic while loop\n",
    "count = 1\n",
    "\n",
    "print(\"Counting to 5:\")\n",
    "while count <= 5:\n",
    "    print(f\"Count: {count}\")\n",
    "    count += 1  # Same as: count = count + 1\n",
    "\n",
    "print(\"Done counting!\")\n",
    "\n",
    "# While loop with condition\n",
    "number = 1\n",
    "print(\"\\nPowers of 2 less than 100:\")\n",
    "while number < 100:\n",
    "    print(number, end=\" \")\n",
    "    number *= 2  # Same as: number = number * 2"
   ]
  },
  {
   "cell_type": "markdown",
   "id": "27c6b513",
   "metadata": {},
   "source": [
    "# **Practical Examples**"
   ]
  },
  {
   "cell_type": "code",
   "execution_count": 19,
   "id": "318d4b3d",
   "metadata": {},
   "outputs": [
    {
     "name": "stdout",
     "output_type": "stream",
     "text": [
      "Numbers: [10, 20, 30, 40, 50]\n",
      "Sum: 150\n",
      "\n",
      "Counting vowels in: 'Hello Python'\n",
      "Found vowel: 'e'\n",
      "Found vowel: 'o'\n",
      "Found vowel: 'o'\n",
      "Total vowels: 3\n"
     ]
    }
   ],
   "source": [
    "# Practical example: Find sum of numbers\n",
    "numbers = [10, 20, 30, 40, 50]\n",
    "total = 0\n",
    "\n",
    "for number in numbers:\n",
    "    total += number\n",
    "\n",
    "print(f\"Numbers: {numbers}\")\n",
    "print(f\"Sum: {total}\")\n",
    "\n",
    "# Count vowels in a string\n",
    "text = \"Hello Python\"\n",
    "vowels = \"aeiouAEIOU\"\n",
    "vowel_count = 0\n",
    "\n",
    "print(f\"\\nCounting vowels in: '{text}'\")\n",
    "for char in text:\n",
    "    if char in vowels:\n",
    "        vowel_count += 1\n",
    "        print(f\"Found vowel: '{char}'\")\n",
    "\n",
    "print(f\"Total vowels: {vowel_count}\")"
   ]
  },
  {
   "cell_type": "markdown",
   "id": "724c6846",
   "metadata": {},
   "source": [
    "# **Exercise**"
   ]
  },
  {
   "cell_type": "code",
   "execution_count": null,
   "id": "6d4e67bf",
   "metadata": {},
   "outputs": [],
   "source": [
    "# Final practice: Simple grade calculator\n",
    "print(\"=== Grade Calculator ===\")\n",
    "\n",
    "# Get student information\n",
    "student_name = input(\"Enter student name: \")\n",
    "subject = input(\"Enter subject: \")\n",
    "\n",
    "# Get grades\n",
    "grades = []\n",
    "for i in range(3):\n",
    "    grade = input(f\"Enter grade {i+1}: \")\n",
    "    grades.append(float(grade))\n",
    "\n",
    "# Calculate average\n",
    "average = sum(grades) / len(grades)\n",
    "\n",
    "# Determine letter grade\n",
    "if average >= 90:\n",
    "    letter_grade = \"A\"\n",
    "elif average >= 80:\n",
    "    letter_grade = \"B\"\n",
    "elif average >= 70:\n",
    "    letter_grade = \"C\"\n",
    "elif average >= 60:\n",
    "    letter_grade = \"D\"\n",
    "else:\n",
    "    letter_grade = \"F\"\n",
    "\n",
    "# Display results\n",
    "print(f\"\\n=== Grade Report ===\")\n",
    "print(f\"Student: {student_name}\")\n",
    "print(f\"Subject: {subject}\")\n",
    "print(f\"Grades: {grades}\")\n",
    "print(f\"Average: {average:.1f}\")\n",
    "print(f\"Letter Grade: {letter_grade}\")\n",
    "\n",
    "# Bonus: Display message based on grade\n",
    "if letter_grade in [\"A\", \"B\"]:\n",
    "    print(\"Excellent work! 🌟\")\n",
    "elif letter_grade == \"C\":\n",
    "    print(\"Good job! Keep it up! 👍\")\n",
    "else:\n",
    "    print(\"Keep studying! You can do better! 💪\")"
   ]
  }
 ],
 "metadata": {
  "colab": {
   "provenance": [],
   "toc_visible": true
  },
  "kernelspec": {
   "display_name": "Python 3",
   "language": "python",
   "name": "python3"
  },
  "language_info": {
   "codemirror_mode": {
    "name": "ipython",
    "version": 3
   },
   "file_extension": ".py",
   "mimetype": "text/x-python",
   "name": "python",
   "nbconvert_exporter": "python",
   "pygments_lexer": "ipython3",
   "version": "3.12.1"
  }
 },
 "nbformat": 4,
 "nbformat_minor": 5
}
