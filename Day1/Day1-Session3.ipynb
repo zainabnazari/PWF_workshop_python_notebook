{
 "cells": [
  {
   "cell_type": "markdown",
   "id": "9554bf00",
   "metadata": {},
   "source": [
    "**Mohammad Eqbal Balaghi**"
   ]
  },
  {
   "cell_type": "markdown",
   "id": "33fa7e83",
   "metadata": {},
   "source": [
    "# Session 3: Data Visualization with Matplotlib & Seaborn\n",
    "* Basic plotting: line, bar, histogram, scatter\n",
    "* Styling and customizations\n",
    "* Plotting from Pandas"
   ]
  },
  {
   "cell_type": "code",
   "execution_count": 1,
   "id": "1b6c93f2",
   "metadata": {},
   "outputs": [
    {
     "ename": "NameError",
     "evalue": "name 'vrrgrdg' is not defined",
     "output_type": "error",
     "traceback": [
      "\u001b[31m---------------------------------------------------------------------------\u001b[39m",
      "\u001b[31mNameError\u001b[39m                                 Traceback (most recent call last)",
      "\u001b[36mCell\u001b[39m\u001b[36m \u001b[39m\u001b[32mIn[1]\u001b[39m\u001b[32m, line 1\u001b[39m\n\u001b[32m----> \u001b[39m\u001b[32m1\u001b[39m \u001b[43mvrrgrdg\u001b[49m\n",
      "\u001b[31mNameError\u001b[39m: name 'vrrgrdg' is not defined"
     ]
    }
   ],
   "source": [
    "vrrgrdg"
   ]
  },
  {
   "cell_type": "code",
   "execution_count": null,
   "id": "a1ce941c-20f6-4d1f-8c84-a4cab28bb147",
   "metadata": {},
   "outputs": [],
   "source": []
  },
  {
   "cell_type": "code",
   "execution_count": 2,
   "id": "815db08f-eab2-421f-b68b-69f462ef4dfe",
   "metadata": {},
   "outputs": [
    {
     "ename": "NameError",
     "evalue": "name 'df' is not defined",
     "output_type": "error",
     "traceback": [
      "\u001b[31m---------------------------------------------------------------------------\u001b[39m",
      "\u001b[31mNameError\u001b[39m                                 Traceback (most recent call last)",
      "\u001b[36mCell\u001b[39m\u001b[36m \u001b[39m\u001b[32mIn[2]\u001b[39m\u001b[32m, line 1\u001b[39m\n\u001b[32m----> \u001b[39m\u001b[32m1\u001b[39m \u001b[43mdf\u001b[49m\n",
      "\u001b[31mNameError\u001b[39m: name 'df' is not defined"
     ]
    }
   ],
   "source": [
    "df"
   ]
  },
  {
   "cell_type": "code",
   "execution_count": null,
   "id": "6c2c2aa5-ab66-49da-a5e4-6b344c1b6e02",
   "metadata": {},
   "outputs": [],
   "source": []
  }
 ],
 "metadata": {
  "kernelspec": {
   "display_name": "Python 3 (ipykernel)",
   "language": "python",
   "name": "python3"
  },
  "language_info": {
   "codemirror_mode": {
    "name": "ipython",
    "version": 3
   },
   "file_extension": ".py",
   "mimetype": "text/x-python",
   "name": "python",
   "nbconvert_exporter": "python",
   "pygments_lexer": "ipython3",
   "version": "3.13.7"
  }
 },
 "nbformat": 4,
 "nbformat_minor": 5
}
