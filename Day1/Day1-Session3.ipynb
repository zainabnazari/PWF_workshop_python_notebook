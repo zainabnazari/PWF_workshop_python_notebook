{
 "cells": [
  {
   "cell_type": "markdown",
   "id": "9554bf00",
   "metadata": {},
   "source": [
    "**Mohammad Eqbal Balaghi**"
   ]
  },
  {
   "cell_type": "markdown",
   "id": "33fa7e83",
   "metadata": {},
   "source": [
    "# Session 3: Data Visualization with Matplotlib & Seaborn\n",
    "* Basic plotting: line, bar, histogram, scatter\n",
    "* Styling and customizations\n",
    "* Plotting from Pandas"
   ]
  },
  {
   "cell_type": "code",
   "execution_count": null,
   "id": "1b6c93f2",
   "metadata": {},
   "outputs": [],
   "source": []
  }
 ],
 "metadata": {
  "kernelspec": {
   "display_name": "Python 3 (ipykernel)",
   "language": "python",
   "name": "python3"
  },
  "language_info": {
   "codemirror_mode": {
    "name": "ipython",
    "version": 3
   },
   "file_extension": ".py",
   "mimetype": "text/x-python",
   "name": "python",
   "nbconvert_exporter": "python",
   "pygments_lexer": "ipython3",
   "version": "3.7.13"
  }
 },
 "nbformat": 4,
 "nbformat_minor": 5
}
