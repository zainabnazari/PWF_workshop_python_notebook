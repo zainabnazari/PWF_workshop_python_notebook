{
 "cells": [
  {
   "cell_type": "markdown",
   "id": "5e18b048",
   "metadata": {},
   "source": [
    "**Baktash Amini**"
   ]
  },
  {
   "cell_type": "markdown",
   "id": "98152af3",
   "metadata": {},
   "source": [
    "# Session 6: Regression Models and Performance Metrics\n",
    "* Linear regression: model building and interpretation\n",
    "* Error metrics (MSE, MAE, R²)\n",
    "* Use case: Predicting house prices or similar"
   ]
  },
  {
   "cell_type": "code",
   "execution_count": null,
   "id": "018bf918",
   "metadata": {},
   "outputs": [],
   "source": []
  }
 ],
 "metadata": {
  "kernelspec": {
   "display_name": "Python 3 (ipykernel)",
   "language": "python",
   "name": "python3"
  },
  "language_info": {
   "codemirror_mode": {
    "name": "ipython",
    "version": 3
   },
   "file_extension": ".py",
   "mimetype": "text/x-python",
   "name": "python",
   "nbconvert_exporter": "python",
   "pygments_lexer": "ipython3",
   "version": "3.7.13"
  }
 },
 "nbformat": 4,
 "nbformat_minor": 5
}
