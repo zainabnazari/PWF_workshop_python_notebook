{
 "cells": [
  {
   "cell_type": "markdown",
   "id": "50de2723",
   "metadata": {},
   "source": [
    "**Ramazan Ali Bahrami**"
   ]
  },
  {
   "cell_type": "markdown",
   "id": "ec912034",
   "metadata": {},
   "source": [
    "# Session 7: Introduction to Unsupervised Learning: Clustering with k-Means\n",
    "* k-Means algorithm\n",
    "* Visualizing clusters\n",
    "* Brief mention of dimensionality reduction (e.g., PCA)"
   ]
  },
  {
   "cell_type": "code",
   "execution_count": null,
   "id": "fa52e3c1",
   "metadata": {},
   "outputs": [],
   "source": []
  }
 ],
 "metadata": {
  "kernelspec": {
   "display_name": "Python 3 (ipykernel)",
   "language": "python",
   "name": "python3"
  },
  "language_info": {
   "codemirror_mode": {
    "name": "ipython",
    "version": 3
   },
   "file_extension": ".py",
   "mimetype": "text/x-python",
   "name": "python",
   "nbconvert_exporter": "python",
   "pygments_lexer": "ipython3",
   "version": "3.7.13"
  }
 },
 "nbformat": 4,
 "nbformat_minor": 5
}
