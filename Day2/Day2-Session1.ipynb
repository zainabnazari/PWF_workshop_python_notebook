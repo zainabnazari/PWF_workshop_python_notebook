{
 "cells": [
  {
   "cell_type": "markdown",
   "id": "8964eee8",
   "metadata": {},
   "source": [
    "**?**"
   ]
  },
  {
   "cell_type": "markdown",
   "id": "f168c9a2",
   "metadata": {},
   "source": [
    "# Session 5: Supervised Learning: Classification with k-NN and Decision Trees\n",
    "* Hands-on: Build and evaluate k-Nearest Neighbors & Decision Tree classifiers\n",
    "* Train-test split, accuracy, confusion matrix"
   ]
  },
  {
   "cell_type": "code",
   "execution_count": null,
   "id": "34795535",
   "metadata": {},
   "outputs": [],
   "source": []
  }
 ],
 "metadata": {
  "kernelspec": {
   "display_name": "Python 3 (ipykernel)",
   "language": "python",
   "name": "python3"
  },
  "language_info": {
   "codemirror_mode": {
    "name": "ipython",
    "version": 3
   },
   "file_extension": ".py",
   "mimetype": "text/x-python",
   "name": "python",
   "nbconvert_exporter": "python",
   "pygments_lexer": "ipython3",
   "version": "3.7.13"
  }
 },
 "nbformat": 4,
 "nbformat_minor": 5
}
