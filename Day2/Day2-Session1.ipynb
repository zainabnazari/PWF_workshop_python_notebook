{
 "cells": [
  {
   "cell_type": "markdown",
   "id": "8964eee8",
   "metadata": {},
   "source": [
    "# Session 5: Supervised Learning: \n",
    "\n",
    "# Classification with k-NN and Decision Trees a gentle introduction\n",
    "\n",
    "\n",
    "We will cover two popular and simple classification algorithms:\n",
    "- **k-Nearest Neighbors (k-NN)**\n",
    "- **Decision Trees**\n",
    "\n",
    "At the end, you will have hands-on practice with exercises."
   ]
  },
  {
   "cell_type": "markdown",
   "id": "7af89db1",
   "metadata": {},
   "source": [
    "*Machine learning* is less a single field and more a mindset, a way of thinking about data, patterns, and decision-making. It draws on ideas from **statistics**,**optimization** **physics**, **computer science**, which makes it both rich and challenging. When you first dive in, it can feel like difficult, but that diversity also means there’s something in it that will resonate uniquely with you. To get started, focus on the core tools that let you experiment confidently: **linear algebra** to understand structure, **probability** to reason under uncertainty, and **multivariable calculus** to grasp dynamics. Pair these with hands-on coding skills, especially in Python, so you can explore, visualize, and manipulate real-world data from day one."
   ]
  },
  {
   "cell_type": "markdown",
   "id": "efaf9e20",
   "metadata": {},
   "source": [
    "## Learning Goals\n",
    "By the end of this lesson, you should be able to:\n",
    "- Understand the intuition behind k-NN and Decision Trees\n",
    "- Writing code from scratch\n",
    "- Train and test these models using scikit-learn\n",
    "- Compare their performance\n",
    "- Solve small classification problems with Python"
   ]
  },
  {
   "cell_type": "markdown",
   "id": "7175525d",
   "metadata": {},
   "source": [
    "##  What is Supervised Learning?\n",
    "\n",
    "Supervised learning is a type of machine learning where the algorithm is trained on **labeled data**.  \n",
    "Each data point (or **instance**) comes with a known output (class or value).  \n",
    "The algorithm learns patterns in the input data (features) to predict the output for new, unseen data.\n"
   ]
  },
  {
   "cell_type": "markdown",
   "id": "85dea2f2",
   "metadata": {},
   "source": [
    "# Part 1:  KNN Classificaction"
   ]
  },
  {
   "cell_type": "markdown",
   "id": "a0886be8",
   "metadata": {},
   "source": [
    "## Simple Example: Weather Data\n",
    "\n",
    "Let’s imagine we are the machine and want to learn from a small dataset.  \n",
    "\n",
    "We have weather data for three days.  \n",
    "Each day, we record two **features**:  \n",
    "\n",
    "- **Temperature** (°C)  \n",
    "- **Wind Speed** (km/h)  \n",
    "\n",
    "Each day also belongs to a **class**: `Rain` or `No Rain`.  \n",
    "\n",
    "This is our dataset:\n"
   ]
  },
  {
   "cell_type": "code",
   "execution_count": 2,
   "id": "faa57bc5",
   "metadata": {},
   "outputs": [
    {
     "data": {
      "text/html": [
       "<div>\n",
       "<style scoped>\n",
       "    .dataframe tbody tr th:only-of-type {\n",
       "        vertical-align: middle;\n",
       "    }\n",
       "\n",
       "    .dataframe tbody tr th {\n",
       "        vertical-align: top;\n",
       "    }\n",
       "\n",
       "    .dataframe thead th {\n",
       "        text-align: right;\n",
       "    }\n",
       "</style>\n",
       "<table border=\"1\" class=\"dataframe\">\n",
       "  <thead>\n",
       "    <tr style=\"text-align: right;\">\n",
       "      <th></th>\n",
       "      <th>Day</th>\n",
       "      <th>Temperature (°C)</th>\n",
       "      <th>Wind Speed (km/h)</th>\n",
       "      <th>Class</th>\n",
       "    </tr>\n",
       "  </thead>\n",
       "  <tbody>\n",
       "    <tr>\n",
       "      <th>0</th>\n",
       "      <td>1</td>\n",
       "      <td>20</td>\n",
       "      <td>10</td>\n",
       "      <td>Rain</td>\n",
       "    </tr>\n",
       "    <tr>\n",
       "      <th>1</th>\n",
       "      <td>2</td>\n",
       "      <td>25</td>\n",
       "      <td>5</td>\n",
       "      <td>No Rain</td>\n",
       "    </tr>\n",
       "    <tr>\n",
       "      <th>2</th>\n",
       "      <td>3</td>\n",
       "      <td>22</td>\n",
       "      <td>8</td>\n",
       "      <td>Rain</td>\n",
       "    </tr>\n",
       "  </tbody>\n",
       "</table>\n",
       "</div>"
      ],
      "text/plain": [
       "   Day  Temperature (°C)  Wind Speed (km/h)    Class\n",
       "0    1                20                 10     Rain\n",
       "1    2                25                  5  No Rain\n",
       "2    3                22                  8     Rain"
      ]
     },
     "execution_count": 2,
     "metadata": {},
     "output_type": "execute_result"
    }
   ],
   "source": [
    "import pandas as pd\n",
    "\n",
    "# Simple dataset\n",
    "data = {\n",
    "    \"Day\": [1, 2, 3],\n",
    "    \"Temperature (°C)\": [20, 25, 22],\n",
    "    \"Wind Speed (km/h)\": [10, 5, 8],\n",
    "    \"Class\": [\"Rain\", \"No Rain\", \"Rain\"]\n",
    "}\n",
    "\n",
    "df = pd.DataFrame(data)\n",
    "df\n"
   ]
  },
  {
   "cell_type": "markdown",
   "id": "fb58bde7",
   "metadata": {},
   "source": [
    "We call each row a **data point** (or instance).  \n",
    "The combination of **temperature** and **wind speed** forms an **instance vector**.\n"
   ]
  },
  {
   "cell_type": "markdown",
   "id": "ae5e05dd",
   "metadata": {},
   "source": [
    "##  Visualizing the Data\n",
    "\n",
    "Let’s plot our data points in 2D space.  \n",
    "Each point represents a day, with temperature on the x-axis and wind speed on the y-axis.\n"
   ]
  },
  {
   "cell_type": "code",
   "execution_count": 3,
   "id": "cec6dce3",
   "metadata": {},
   "outputs": [
    {
     "data": {
      "image/png": "[encoded data removed]",
      "text/plain": [
       "<Figure size 432x288 with 1 Axes>"
      ]
     },
     "metadata": {
      "needs_background": "light"
     },
     "output_type": "display_data"
    }
   ],
   "source": [
    "import matplotlib.pyplot as plt\n",
    "\n",
    "temperature = df[\"Temperature (°C)\"]\n",
    "wind_speed = df[\"Wind Speed (km/h)\"]\n",
    "labels = df[\"Class\"]\n",
    "\n",
    "# Color points by class\n",
    "colors = [\"blue\" if label == \"Rain\" else \"orange\" for label in labels]\n",
    "\n",
    "plt.scatter(temperature, wind_speed, c=colors, s=100, edgecolor=\"k\")\n",
    "plt.xlabel(\"Temperature (°C)\")\n",
    "plt.ylabel(\"Wind Speed (km/h)\")\n",
    "plt.title(\"Weather Data Instances\")\n",
    "\n",
    "# Add labels to points\n",
    "for i, label in enumerate(labels):\n",
    "    plt.text(temperature.iloc[i] + 0.2, wind_speed.iloc[i] + 0.2, label)\n",
    "\n",
    "plt.show()\n"
   ]
  },
  {
   "cell_type": "markdown",
   "id": "aa1a645b",
   "metadata": {},
   "source": [
    "##  How KNN Works\n",
    "\n",
    "**K-Nearest Neighbors (KNN)** is a simple algorithm:\n",
    "\n",
    "1. Given a new instance, calculate the **distance** between it and all instances in the training dataset.  \n",
    "   - Common metrics: *Euclidean distance*, *Manhattan distance*.  \n",
    "2. Identify the **K nearest neighbors** (the closest data points).  \n",
    "3. For **classification**, the predicted class is the **majority vote** among the neighbors.  \n",
    "4. For **regression**, the prediction is the **average** of the neighbors’ values.  \n",
    "\n",
    "👉 KNN is called a **lazy learner** because it does not build a model during training—it just stores the dataset and makes predictions when needed.\n"
   ]
  },
  {
   "cell_type": "markdown",
   "id": "d6b3c72a",
   "metadata": {},
   "source": [
    "##  Important Considerations in KNN\n",
    "\n",
    "- **Choosing K**:  \n",
    "  - Small K (e.g., 1) → sensitive to noise.  \n",
    "  - Large K → smoother, but may ignore local patterns.  \n",
    "\n",
    "- **Distance Metrics**:  \n",
    "  - Euclidean, Manhattan, Minkowski, cosine similarity.  \n",
    "\n",
    "- **Feature Scaling**:  \n",
    "  - KNN is sensitive to feature scales. Normalize features so that one feature doesn’t dominate.  \n",
    "\n",
    "- **Efficiency**:  \n",
    "  - KNN stores all data → slow for very large datasets.\n"
   ]
  },
  {
   "cell_type": "markdown",
   "id": "75d69b3d",
   "metadata": {},
   "source": [
    "##  Key Takeaways\n",
    "\n",
    "- KNN is a **non-parametric, instance-based** learning algorithm.  \n",
    "- It makes predictions by **comparing distances** between data points.  \n",
    "- Despite its simplicity, it’s effective for small datasets and is widely used as a baseline method.  \n",
    "- Understanding KNN builds intuition for more advanced machine learning methods.  \n"
   ]
  },
  {
   "cell_type": "markdown",
   "id": "b740b9c9",
   "metadata": {},
   "source": [
    "#  Writing KNN from Scratch\n",
    "\n",
    "While libraries like `scikit-learn` make KNN easy to use, it’s important to understand how the algorithm works internally.  \n",
    "We’ll build KNN step by step.\n",
    "\n",
    "We will implement:\n",
    "\n",
    "1. A **distance function** (Euclidean distance).  \n",
    "2. A function to find the **k nearest neighbors**.  \n",
    "3. A **majority voting mechanism** for classification.  \n",
    "4. A **prediction function**.  \n"
   ]
  },
  {
   "cell_type": "markdown",
   "id": "d65f63ab",
   "metadata": {},
   "source": [
    "### Distance Example: Euclidean Distance\n",
    "\n",
    "For two points \\\\(x = (x_1, x_2)\\\\) and \\\\(y = (y_1, y_2)\\\\):\n",
    "\n",
    "\\\\[\n",
    "d(x, y) = \\sqrt{(x_1 - y_1)^2 + (x_2 - y_2)^2}\n",
    "\\\\]\n"
   ]
  },
  {
   "cell_type": "markdown",
   "id": "777f3f43",
   "metadata": {},
   "source": [
    "### Step 1: Distance Function\n",
    "\n",
    "The core of KNN is the distance calculation.  \n",
    "We’ll use **Euclidean distance**:\n",
    "\n",
    "\\\\[\n",
    "d(x, y) = \\sqrt{\\sum_{i=1}^n (x_i - y_i)^2}\n",
    "\\\\]\n"
   ]
  },
  {
   "cell_type": "code",
   "execution_count": 8,
   "id": "9876369b",
   "metadata": {},
   "outputs": [
    {
     "name": "stdout",
     "output_type": "stream",
     "text": [
      "x1: [20, 10]\n"
     ]
    }
   ],
   "source": [
    "x1 = np.array([20, 10])\n",
    "print('x1:',x1.tolist())\n"
   ]
  },
  {
   "cell_type": "code",
   "execution_count": 9,
   "id": "11a95326",
   "metadata": {},
   "outputs": [
    {
     "name": "stdout",
     "output_type": "stream",
     "text": [
      "x2: [23, 7]\n"
     ]
    }
   ],
   "source": [
    "x2 = np.array([23, 7])\n",
    "print('x2:',x2.tolist())\n"
   ]
  },
  {
   "cell_type": "code",
   "execution_count": 10,
   "id": "915b8469",
   "metadata": {},
   "outputs": [
    {
     "name": "stdout",
     "output_type": "stream",
     "text": [
      "4.242640687119285\n"
     ]
    }
   ],
   "source": [
    "import numpy as np\n",
    "\n",
    "def euclidean_distance(x, y):\n",
    "    return np.sqrt(np.sum((x - y) ** 2))\n",
    "\n",
    "# Test example\n",
    "print(euclidean_distance(np.array([20, 10]), np.array([23, 7])))\n"
   ]
  },
  {
   "cell_type": "markdown",
   "id": "c00b6538",
   "metadata": {},
   "source": [
    "### Step 2: Finding Nearest Neighbors\n",
    "\n",
    "For a new data point:\n",
    "- Compute distance to **all training instances**.  \n",
    "- Sort by distance.  \n",
    "- Pick the top **k neighbors**.\n"
   ]
  },
  {
   "cell_type": "code",
   "execution_count": 7,
   "id": "8bcf843e",
   "metadata": {},
   "outputs": [
    {
     "name": "stdout",
     "output_type": "stream",
     "text": [
      "['Rain', 'No Rain']\n"
     ]
    }
   ],
   "source": [
    "def get_neighbors(X_train, y_train, new_point, k=3):\n",
    "    distances = []\n",
    "    for i, x in enumerate(X_train):\n",
    "        dist = euclidean_distance(new_point, x)\n",
    "        distances.append((dist, y_train[i]))\n",
    "    \n",
    "    # Sort by distance\n",
    "    distances.sort(key=lambda x: x[0])\n",
    "    \n",
    "    # Select k nearest neighbors\n",
    "    neighbors = [label for (_, label) in distances[:k]]\n",
    "    return neighbors\n",
    "\n",
    "# Test with our dataset\n",
    "X_train = df[[\"Temperature (°C)\", \"Wind Speed (km/h)\"]].values\n",
    "y_train = df[\"Class\"].values\n",
    "\n",
    "print(get_neighbors(X_train, y_train, np.array([23, 7]), k=2))\n"
   ]
  },
  {
   "cell_type": "markdown",
   "id": "fbfaf8aa",
   "metadata": {},
   "source": [
    "### Step 3: Majority Vote\n",
    "\n",
    "For classification, we choose the **most frequent class** among neighbors.\n"
   ]
  },
  {
   "cell_type": "code",
   "execution_count": 8,
   "id": "298eae14",
   "metadata": {},
   "outputs": [
    {
     "name": "stdout",
     "output_type": "stream",
     "text": [
      "Rain\n"
     ]
    }
   ],
   "source": [
    "from collections import Counter\n",
    "\n",
    "def majority_vote(neighbors):\n",
    "    counter = Counter(neighbors)\n",
    "    return counter.most_common(1)[0][0]\n",
    "\n",
    "# Example\n",
    "print(majority_vote([\"Rain\", \"No Rain\", \"Rain\"]))\n"
   ]
  },
  {
   "cell_type": "markdown",
   "id": "8756c200",
   "metadata": {},
   "source": [
    "### Step 4: Full KNN Classifier\n",
    "\n",
    "Now we combine everything into a class `KNNClassifier`.\n"
   ]
  },
  {
   "cell_type": "code",
   "execution_count": 9,
   "id": "8cb75358",
   "metadata": {},
   "outputs": [
    {
     "name": "stdout",
     "output_type": "stream",
     "text": [
      "Prediction for new point [23, 7]: ['Rain']\n"
     ]
    }
   ],
   "source": [
    "class KNNClassifier:\n",
    "    def __init__(self, k=3):\n",
    "        self.k = k\n",
    "\n",
    "    def fit(self, X, y):\n",
    "        self.X_train = X\n",
    "        self.y_train = y\n",
    "\n",
    "    def predict_one(self, x):\n",
    "        neighbors = get_neighbors(self.X_train, self.y_train, x, self.k)\n",
    "        return majority_vote(neighbors)\n",
    "\n",
    "    def predict(self, X):\n",
    "        return [self.predict_one(x) for x in X]\n",
    "\n",
    "# Test the scratch KNN\n",
    "knn_scratch = KNNClassifier(k=1)\n",
    "knn_scratch.fit(X_train, y_train)\n",
    "\n",
    "print(\"Prediction for new point [23, 7]:\", knn_scratch.predict([np.array([23, 7])]))\n"
   ]
  },
  {
   "cell_type": "markdown",
   "id": "327e980c",
   "metadata": {},
   "source": [
    "## Comparing with scikit-learn\n",
    "\n",
    "Let’s compare our scratch implementation with scikit-learn’s KNN.\n",
    "Source code for scikit-learn: https://github.com/scikit-learn/scikit-learn/blob/main/sklearn/neighbors/_classification.py\n"
   ]
  },
  {
   "cell_type": "code",
   "execution_count": 5,
   "id": "814f03f7",
   "metadata": {},
   "outputs": [
    {
     "name": "stdout",
     "output_type": "stream",
     "text": [
      "Prediction for Temperature=23, Wind Speed=7: Rain\n"
     ]
    },
    {
     "name": "stderr",
     "output_type": "stream",
     "text": [
      "/Users/zainabnazari/opt/miniconda3/lib/python3.7/site-packages/sklearn/base.py:451: UserWarning: X does not have valid feature names, but KNeighborsClassifier was fitted with feature names\n",
      "  \"X does not have valid feature names, but\"\n"
     ]
    }
   ],
   "source": [
    "from sklearn.neighbors import KNeighborsClassifier\n",
    "\n",
    "# Features and labels\n",
    "X = df[[\"Temperature (°C)\", \"Wind Speed (km/h)\"]]\n",
    "y = df[\"Class\"]\n",
    "\n",
    "# Build a KNN model with k=1\n",
    "knn = KNeighborsClassifier(n_neighbors=1)\n",
    "knn.fit(X, y)\n",
    "\n",
    "# Predict for a new day\n",
    "new_day = [[23, 7]]\n",
    "prediction = knn.predict(new_day)\n",
    "print(\"Prediction for Temperature=23, Wind Speed=7:\", prediction[0])\n"
   ]
  },
  {
   "cell_type": "code",
   "execution_count": 10,
   "id": "90933d2c",
   "metadata": {},
   "outputs": [
    {
     "name": "stdout",
     "output_type": "stream",
     "text": [
      "Scratch KNN: Rain\n",
      "scikit-learn KNN: Rain\n"
     ]
    },
    {
     "name": "stderr",
     "output_type": "stream",
     "text": [
      "/Users/zainabnazari/opt/miniconda3/lib/python3.7/site-packages/sklearn/base.py:451: UserWarning: X does not have valid feature names, but KNeighborsClassifier was fitted with feature names\n",
      "  \"X does not have valid feature names, but\"\n"
     ]
    }
   ],
   "source": [
    "# Scratch prediction\n",
    "print(\"Scratch KNN:\", knn_scratch.predict([np.array([23, 7])])[0])\n",
    "\n",
    "# sklearn prediction\n",
    "print(\"scikit-learn KNN:\", knn.predict([[23, 7]])[0])\n"
   ]
  },
  {
   "cell_type": "markdown",
   "id": "81da69fe",
   "metadata": {},
   "source": [
    "##  Summary\n",
    "\n",
    "- We built KNN **step by step**: distance → neighbors → majority vote → prediction.  \n",
    "- Our scratch implementation matches scikit-learn’s KNN.  \n",
    "- Writing algorithms from scratch deepens intuition and helps understand what libraries do behind the scenes.\n"
   ]
  },
  {
   "cell_type": "code",
   "execution_count": 11,
   "id": "5cfd1613",
   "metadata": {},
   "outputs": [],
   "source": [
    "import numpy as np\n",
    "import matplotlib.pyplot as plt\n",
    "from sklearn.datasets import load_iris, make_classification\n",
    "from sklearn.model_selection import train_test_split\n",
    "from sklearn.neighbors import KNeighborsClassifier\n",
    "from sklearn.tree import DecisionTreeClassifier, plot_tree\n",
    "from sklearn.metrics import accuracy_score, classification_report"
   ]
  },
  {
   "cell_type": "markdown",
   "id": "32910fd5",
   "metadata": {},
   "source": [
    "# Example with Iris dataset "
   ]
  },
  {
   "cell_type": "code",
   "execution_count": 12,
   "id": "343ee937",
   "metadata": {},
   "outputs": [
    {
     "name": "stdout",
     "output_type": "stream",
     "text": [
      "Accuracy: 0.7777777777777778\n"
     ]
    }
   ],
   "source": [
    "# Example with Iris dataset\n",
    "iris = load_iris()\n",
    "X = iris.data[:, :2]  # first two features for visualization\n",
    "y = iris.target\n",
    "\n",
    "X_train, X_test, y_train, y_test = train_test_split(X, y, test_size=0.3, random_state=42)\n",
    "\n",
    "knn = KNeighborsClassifier(n_neighbors=5)\n",
    "knn.fit(X_train, y_train)\n",
    "\n",
    "y_pred = knn.predict(X_test)\n",
    "print('Accuracy:', accuracy_score(y_test, y_pred))"
   ]
  },
  {
   "cell_type": "markdown",
   "id": "1e03ca9e",
   "metadata": {},
   "source": [
    "Let's visualize the decision boundaries for k-NN."
   ]
  },
  {
   "cell_type": "code",
   "execution_count": 4,
   "id": "558a5a1a",
   "metadata": {},
   "outputs": [
    {
     "data": {
      "image/png": "[encoded data removed]",
      "text/plain": [
       "<Figure size 432x288 with 1 Axes>"
      ]
     },
     "metadata": {
      "needs_background": "light"
     },
     "output_type": "display_data"
    }
   ],
   "source": [
    "# Decision boundary visualization\n",
    "h = 0.02\n",
    "x_min, x_max = X[:, 0].min() - 1, X[:, 0].max() + 1\n",
    "y_min, y_max = X[:, 1].min() - 1, X[:, 1].max() + 1\n",
    "xx, yy = np.meshgrid(np.arange(x_min, x_max, h),\n",
    "                     np.arange(y_min, y_max, h))\n",
    "\n",
    "Z = knn.predict(np.c_[xx.ravel(), yy.ravel()])\n",
    "Z = Z.reshape(xx.shape)\n",
    "\n",
    "plt.contourf(xx, yy, Z, alpha=0.3)\n",
    "plt.scatter(X[:, 0], X[:, 1], c=y, edgecolor='k')\n",
    "plt.xlabel('Sepal length')\n",
    "plt.ylabel('Sepal width')\n",
    "plt.title('k-NN Decision Boundary')\n",
    "plt.show()"
   ]
  },
  {
   "cell_type": "markdown",
   "id": "c2914675",
   "metadata": {},
   "source": [
    "# Part 2: Decision Trees\n",
    "\n",
    "# 🌳 Decision Trees\n",
    "\n",
    "Decision Trees are a type of **supervised learning algorithm**.  \n",
    "They try to achieve the same goal as algorithms like *k-Nearest Neighbors (kNN)*:  \n",
    "to classify instances based on their attributes.\n",
    "\n",
    "---\n",
    "\n",
    "## 🔹 How Decision Trees Work\n",
    "\n",
    "- A decision tree is built as a hierarchy of **questions about attributes**.  \n",
    "- At each **node**:\n",
    "  - We split the data into subsets depending on the value of a chosen attribute.\n",
    "  - The attribute is chosen to **minimize uncertainty (entropy)** and maximize information gain.\n",
    "- This process repeats:\n",
    "  - Each subset is split again based on another attribute.\n",
    "  - The result is a tree structure, where following the questions eventually leads to a classification.\n",
    "\n",
    "---\n",
    "\n",
    "## 🔹 Example: Predicting Rain ☔\n",
    "\n",
    "Suppose our decision tree has learned the following rule:\n",
    "\n",
    "> It **rains** if:  \n",
    "> - Temperature < 5°C  \n",
    "> **OR**  \n",
    "> - (Temperature > 30°C **and** Wind speed > 50 km/h)\n",
    "\n",
    "---\n",
    "\n",
    "### 🌡️ Step-by-step classification\n",
    "\n",
    "1. **First question:** Is the temperature > 30°C?  \n",
    "   - If **yes** → Check wind speed.  \n",
    "   - If **no** → Check if temperature < 5°C.\n",
    "\n",
    "2. **Case A: Temperature = 35°C**  \n",
    "   - Since 35°C > 30°C, the tree asks: *Is wind speed > 50 km/h?*  \n",
    "     - If **yes** → Predict **Rain**.  \n",
    "     - If **no** → Predict **No Rain**.\n",
    "\n",
    "3. **Case B: Temperature = 2°C**  \n",
    "   - Since 2°C ≤ 30°C, the tree asks: *Is temperature < 5°C?*  \n",
    "     - If **yes** → Predict **Rain**.  \n",
    "     - If **no** → Predict **No Rain**.\n",
    "\n",
    "---\n",
    "\n",
    "## 🔹 Summary\n",
    "\n",
    "- A **Decision Tree** is a sequence of yes/no questions.  \n",
    "- Each question splits the dataset into smaller, more homogeneous groups.  \n",
    "- Eventually, these questions lead to a **final decision (class label)**.  \n",
    "- Trees are powerful because they are:\n",
    "  - **Intuitive** (easy to interpret)  \n",
    "  - **Flexible** (handle both categorical & numerical data)  \n",
    "  - But they can also **overfit** without pruning or depth limits.\n",
    "\n",
    "\n",
    "## Advantages:\n",
    "- Easy to interpret\n",
    "- Can handle numerical and categorical data\n",
    "\n",
    "## Disadvantages:\n",
    "- Can overfit if not pruned"
   ]
  },
  {
   "cell_type": "code",
   "execution_count": 1,
   "id": "7b06d1f4",
   "metadata": {},
   "outputs": [],
   "source": [
    "# 📦 Import libraries\n",
    "import numpy as np\n",
    "import pandas as pd\n",
    "from sklearn.tree import DecisionTreeClassifier, export_text, plot_tree\n",
    "import matplotlib.pyplot as plt\n",
    "from sklearn import tree\n"
   ]
  },
  {
   "cell_type": "markdown",
   "id": "85f4e0f2",
   "metadata": {},
   "source": [
    "## Step 1: Build our dataset\n",
    "\n",
    "We will create synthetic data (temperature, wind) and label it according to the rule:\n",
    "- Rain = 1 if temp < 5 OR (temp > 30 AND wind > 50)\n",
    "- Otherwise Rain = 0\n"
   ]
  },
  {
   "cell_type": "code",
   "execution_count": 2,
   "id": "7edd1d40",
   "metadata": {},
   "outputs": [
    {
     "data": {
      "text/html": [
       "<div>\n",
       "<style scoped>\n",
       "    .dataframe tbody tr th:only-of-type {\n",
       "        vertical-align: middle;\n",
       "    }\n",
       "\n",
       "    .dataframe tbody tr th {\n",
       "        vertical-align: top;\n",
       "    }\n",
       "\n",
       "    .dataframe thead th {\n",
       "        text-align: right;\n",
       "    }\n",
       "</style>\n",
       "<table border=\"1\" class=\"dataframe\">\n",
       "  <thead>\n",
       "    <tr style=\"text-align: right;\">\n",
       "      <th></th>\n",
       "      <th>temperature</th>\n",
       "      <th>wind</th>\n",
       "      <th>rain</th>\n",
       "    </tr>\n",
       "  </thead>\n",
       "  <tbody>\n",
       "    <tr>\n",
       "      <th>0</th>\n",
       "      <td>33</td>\n",
       "      <td>58</td>\n",
       "      <td>1</td>\n",
       "    </tr>\n",
       "    <tr>\n",
       "      <th>1</th>\n",
       "      <td>23</td>\n",
       "      <td>1</td>\n",
       "      <td>0</td>\n",
       "    </tr>\n",
       "    <tr>\n",
       "      <th>2</th>\n",
       "      <td>9</td>\n",
       "      <td>1</td>\n",
       "      <td>0</td>\n",
       "    </tr>\n",
       "    <tr>\n",
       "      <th>3</th>\n",
       "      <td>37</td>\n",
       "      <td>91</td>\n",
       "      <td>1</td>\n",
       "    </tr>\n",
       "    <tr>\n",
       "      <th>4</th>\n",
       "      <td>2</td>\n",
       "      <td>53</td>\n",
       "      <td>1</td>\n",
       "    </tr>\n",
       "    <tr>\n",
       "      <th>5</th>\n",
       "      <td>15</td>\n",
       "      <td>86</td>\n",
       "      <td>0</td>\n",
       "    </tr>\n",
       "    <tr>\n",
       "      <th>6</th>\n",
       "      <td>33</td>\n",
       "      <td>95</td>\n",
       "      <td>1</td>\n",
       "    </tr>\n",
       "    <tr>\n",
       "      <th>7</th>\n",
       "      <td>13</td>\n",
       "      <td>96</td>\n",
       "      <td>0</td>\n",
       "    </tr>\n",
       "    <tr>\n",
       "      <th>8</th>\n",
       "      <td>17</td>\n",
       "      <td>0</td>\n",
       "      <td>0</td>\n",
       "    </tr>\n",
       "    <tr>\n",
       "      <th>9</th>\n",
       "      <td>5</td>\n",
       "      <td>18</td>\n",
       "      <td>0</td>\n",
       "    </tr>\n",
       "  </tbody>\n",
       "</table>\n",
       "</div>"
      ],
      "text/plain": [
       "   temperature  wind  rain\n",
       "0           33    58     1\n",
       "1           23     1     0\n",
       "2            9     1     0\n",
       "3           37    91     1\n",
       "4            2    53     1\n",
       "5           15    86     0\n",
       "6           33    95     1\n",
       "7           13    96     0\n",
       "8           17     0     0\n",
       "9            5    18     0"
      ]
     },
     "execution_count": 2,
     "metadata": {},
     "output_type": "execute_result"
    }
   ],
   "source": [
    "# Generate toy dataset\n",
    "np.random.seed(42)\n",
    "temperature = np.random.randint(-5, 40, 200)   # between -5 and 40°C\n",
    "wind = np.random.randint(0, 100, 200)          # between 0 and 100 km/h\n",
    "\n",
    "# Apply rule\n",
    "rain = ((temperature < 5) | ((temperature > 30) & (wind > 50))).astype(int)\n",
    "\n",
    "# Put into DataFrame\n",
    "df = pd.DataFrame({\"temperature\": temperature, \"wind\": wind, \"rain\": rain})\n",
    "df.head(10)\n"
   ]
  },
  {
   "cell_type": "markdown",
   "id": "25620b55",
   "metadata": {},
   "source": [
    "## Step 2: Train a Decision Tree Classifier\n",
    "We’ll train with **entropy** criterion, which uses Information Gain.\n"
   ]
  },
  {
   "cell_type": "code",
   "execution_count": 3,
   "id": "f5b04093",
   "metadata": {},
   "outputs": [
    {
     "data": {
      "text/plain": [
       "DecisionTreeClassifier(criterion='entropy', max_depth=3, random_state=42)"
      ]
     },
     "execution_count": 3,
     "metadata": {},
     "output_type": "execute_result"
    }
   ],
   "source": [
    "X = df[[\"temperature\", \"wind\"]]\n",
    "y = df[\"rain\"]\n",
    "\n",
    "clf = DecisionTreeClassifier(criterion=\"entropy\", max_depth=3, random_state=42)\n",
    "clf.fit(X, y)\n"
   ]
  },
  {
   "cell_type": "markdown",
   "id": "3d430a1e",
   "metadata": {},
   "source": [
    "## Step 3: Visualize the Decision Tree\n"
   ]
  },
  {
   "cell_type": "code",
   "execution_count": 4,
   "id": "a6ce2268",
   "metadata": {},
   "outputs": [
    {
     "data": {
      "image/png": "[encoded data removed]",
      "text/plain": [
       "<Figure size 720x432 with 1 Axes>"
      ]
     },
     "metadata": {
      "needs_background": "light"
     },
     "output_type": "display_data"
    }
   ],
   "source": [
    "plt.figure(figsize=(10,6))\n",
    "plot_tree(clf, feature_names=[\"temperature\", \"wind\"], class_names=[\"No Rain\", \"Rain\"], filled=True)\n",
    "plt.show()\n"
   ]
  },
  {
   "cell_type": "markdown",
   "id": "b82b2c43",
   "metadata": {},
   "source": [
    "## Step 4: Show the Rules Learned\n"
   ]
  },
  {
   "cell_type": "code",
   "execution_count": 5,
   "id": "43cd9227",
   "metadata": {},
   "outputs": [
    {
     "name": "stdout",
     "output_type": "stream",
     "text": [
      "|--- temperature <= 4.50\n",
      "|   |--- class: 1\n",
      "|--- temperature >  4.50\n",
      "|   |--- temperature <= 30.50\n",
      "|   |   |--- class: 0\n",
      "|   |--- temperature >  30.50\n",
      "|   |   |--- wind <= 52.50\n",
      "|   |   |   |--- class: 0\n",
      "|   |   |--- wind >  52.50\n",
      "|   |   |   |--- class: 1\n",
      "\n"
     ]
    }
   ],
   "source": [
    "print(export_text(clf, feature_names=[\"temperature\", \"wind\"]))\n"
   ]
  },
  {
   "cell_type": "markdown",
   "id": "1328b512",
   "metadata": {},
   "source": [
    "## Step 5: Classify Example Days\n",
    "\n",
    "Let’s test:\n",
    "- Day A: 35°C, 60 km/h → should be Rain  \n",
    "- Day B: 35°C, 30 km/h → should be No Rain  \n",
    "- Day C: 2°C, 10 km/h → should be Rain  \n",
    "- Day D: 15°C, 20 km/h → should be No Rain\n"
   ]
  },
  {
   "cell_type": "code",
   "execution_count": 7,
   "id": "733a637e",
   "metadata": {},
   "outputs": [
    {
     "data": {
      "text/html": [
       "<div>\n",
       "<style scoped>\n",
       "    .dataframe tbody tr th:only-of-type {\n",
       "        vertical-align: middle;\n",
       "    }\n",
       "\n",
       "    .dataframe tbody tr th {\n",
       "        vertical-align: top;\n",
       "    }\n",
       "\n",
       "    .dataframe thead th {\n",
       "        text-align: right;\n",
       "    }\n",
       "</style>\n",
       "<table border=\"1\" class=\"dataframe\">\n",
       "  <thead>\n",
       "    <tr style=\"text-align: right;\">\n",
       "      <th></th>\n",
       "      <th>temperature</th>\n",
       "      <th>wind</th>\n",
       "      <th>predicted_rain</th>\n",
       "      <th>probability_rain</th>\n",
       "    </tr>\n",
       "  </thead>\n",
       "  <tbody>\n",
       "    <tr>\n",
       "      <th>Day A</th>\n",
       "      <td>35</td>\n",
       "      <td>60</td>\n",
       "      <td>1</td>\n",
       "      <td>1.0</td>\n",
       "    </tr>\n",
       "    <tr>\n",
       "      <th>Day B</th>\n",
       "      <td>35</td>\n",
       "      <td>30</td>\n",
       "      <td>0</td>\n",
       "      <td>0.0</td>\n",
       "    </tr>\n",
       "    <tr>\n",
       "      <th>Day C</th>\n",
       "      <td>2</td>\n",
       "      <td>10</td>\n",
       "      <td>1</td>\n",
       "      <td>1.0</td>\n",
       "    </tr>\n",
       "    <tr>\n",
       "      <th>Day D</th>\n",
       "      <td>15</td>\n",
       "      <td>20</td>\n",
       "      <td>0</td>\n",
       "      <td>0.0</td>\n",
       "    </tr>\n",
       "  </tbody>\n",
       "</table>\n",
       "</div>"
      ],
      "text/plain": [
       "       temperature  wind  predicted_rain  probability_rain\n",
       "Day A           35    60               1               1.0\n",
       "Day B           35    30               0               0.0\n",
       "Day C            2    10               1               1.0\n",
       "Day D           15    20               0               0.0"
      ]
     },
     "execution_count": 7,
     "metadata": {},
     "output_type": "execute_result"
    }
   ],
   "source": [
    "examples = pd.DataFrame({\n",
    "    \"temperature\": [35, 35, 2, 15],\n",
    "    \"wind\": [60, 30, 10, 20]\n",
    "}, index=[\"Day A\", \"Day B\", \"Day C\", \"Day D\"])\n",
    "\n",
    "preds = clf.predict(examples)\n",
    "probs = clf.predict_proba(examples)\n",
    "\n",
    "results = examples.copy()\n",
    "results[\"predicted_rain\"] = preds\n",
    "results[\"probability_rain\"] = probs[:,1]\n",
    "results\n"
   ]
  },
  {
   "cell_type": "markdown",
   "id": "dc0c125e",
   "metadata": {},
   "source": [
    "## Step 6: Decision Paths\n",
    "We can trace how the tree makes decisions for each day.\n"
   ]
  },
  {
   "cell_type": "code",
   "execution_count": 8,
   "id": "8e1a99eb",
   "metadata": {},
   "outputs": [
    {
     "name": "stdout",
     "output_type": "stream",
     "text": [
      "\n",
      "🌦 Day A: temperature=35, wind=60\n",
      "   Node 0: (feature 0) temperature = 35 > 4.50\n",
      "   Node 2: (feature 0) temperature = 35 > 30.50\n",
      "   Node 4: (feature 1) wind = 60 > 52.50\n",
      "\n",
      "🌦 Day B: temperature=35, wind=30\n",
      "   Node 0: (feature 0) temperature = 35 > 4.50\n",
      "   Node 2: (feature 0) temperature = 35 > 30.50\n",
      "   Node 4: (feature 1) wind = 30 <= 52.50\n",
      "\n",
      "🌦 Day C: temperature=2, wind=10\n",
      "   Node 0: (feature 0) temperature = 2 <= 4.50\n",
      "\n",
      "🌦 Day D: temperature=15, wind=20\n",
      "   Node 0: (feature 0) temperature = 15 > 4.50\n",
      "   Node 2: (feature 0) temperature = 15 <= 30.50\n"
     ]
    }
   ],
   "source": [
    "node_indicator = clf.decision_path(examples)\n",
    "feature = clf.tree_.feature\n",
    "threshold = clf.tree_.threshold\n",
    "\n",
    "for i, day in enumerate(examples.index):\n",
    "    print(f\"\\n🌦 {day}: temperature={examples.iloc[i,0]}, wind={examples.iloc[i,1]}\")\n",
    "    node_index = node_indicator.indices[node_indicator.indptr[i]:node_indicator.indptr[i+1]]\n",
    "    for node_id in node_index:\n",
    "        if feature[node_id] != -2:\n",
    "            if examples.iloc[i, feature[node_id]] <= threshold[node_id]:\n",
    "                threshold_sign = \"<=\"\n",
    "            else:\n",
    "                threshold_sign = \">\"\n",
    "            print(f\"   Node {node_id}: (feature {feature[node_id]}) \"\n",
    "                  f\"{examples.columns[feature[node_id]]} = {examples.iloc[i, feature[node_id]]} \"\n",
    "                  f\"{threshold_sign} {threshold[node_id]:.2f}\")\n"
   ]
  },
  {
   "cell_type": "markdown",
   "id": "69d12385",
   "metadata": {},
   "source": [
    "## Example with Iris Data"
   ]
  },
  {
   "cell_type": "code",
   "execution_count": 13,
   "id": "5c220826",
   "metadata": {},
   "outputs": [
    {
     "name": "stdout",
     "output_type": "stream",
     "text": [
      "Accuracy: 0.7555555555555555\n"
     ]
    },
    {
     "data": {
      "image/png": "[encoded data removed]",
      "text/plain": [
       "<Figure size 720x432 with 1 Axes>"
      ]
     },
     "metadata": {
      "needs_background": "light"
     },
     "output_type": "display_data"
    }
   ],
   "source": [
    "dt = DecisionTreeClassifier(max_depth=3, random_state=42)\n",
    "dt.fit(X_train, y_train)\n",
    "y_pred_dt = dt.predict(X_test)\n",
    "print('Accuracy:', accuracy_score(y_test, y_pred_dt))\n",
    "\n",
    "plt.figure(figsize=(10,6))\n",
    "plot_tree(dt, feature_names=iris.feature_names[:2], class_names=iris.target_names, filled=True)\n",
    "plt.show()"
   ]
  },
  {
   "cell_type": "markdown",
   "id": "b5a125eb",
   "metadata": {},
   "source": [
    "## Exercises (30 minutes)\n",
    "\n",
    "1. **Play with k in k-NN:** Try different values of `k` (1, 3, 7, 15). How does accuracy change?\n",
    "2. **Use all 4 features:** Train both k-NN and Decision Tree on the full Iris dataset (not just 2 features). Compare results.\n",
    "3. **New dataset:** Generate a synthetic dataset using `make_classification` with 2 classes and 2 features. Train both classifiers and compare performance.\n",
    "4. **Decision Tree depth:** Try different values of `max_depth` (None, 2, 5, 10). What happens?\n",
    "5. **Challenge:** Use `classification_report` to compare precision, recall, and F1-score between k-NN and Decision Tree.\n",
    "\n",
    "Discuss results with a partner or write down your conclusions."
   ]
  },
  {
   "cell_type": "code",
   "execution_count": null,
   "id": "40bacda9",
   "metadata": {},
   "outputs": [],
   "source": []
  }
 ],
 "metadata": {
  "kernelspec": {
   "display_name": "Python 3 (ipykernel)",
   "language": "python",
   "name": "python3"
  },
  "language_info": {
   "codemirror_mode": {
    "name": "ipython",
    "version": 3
   },
   "file_extension": ".py",
   "mimetype": "text/x-python",
   "name": "python",
   "nbconvert_exporter": "python",
   "pygments_lexer": "ipython3",
   "version": "3.7.13"
  }
 },
 "nbformat": 4,
 "nbformat_minor": 5
}
