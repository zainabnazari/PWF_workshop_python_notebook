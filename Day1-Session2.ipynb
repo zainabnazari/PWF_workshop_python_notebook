{
 "cells": [
  {
   "cell_type": "markdown",
   "id": "9d23be47",
   "metadata": {},
   "source": [
    "**Carl Stermann-Lücke**"
   ]
  },
  {
   "cell_type": "markdown",
   "id": "57c5364f",
   "metadata": {},
   "source": [
    "## Session 2: Working with Data using NumPy & Pandas\n",
    "* NumPy arrays: creation, indexing, operations\n",
    "* Pandas DataFrames: loading, filtering, describing data\n",
    "* Real dataset mini-example (e.g., Iris or simple CSV)"
   ]
  },
  {
   "cell_type": "code",
   "execution_count": null,
   "id": "d73892b7",
   "metadata": {},
   "outputs": [],
   "source": []
  }
 ],
 "metadata": {
  "kernelspec": {
   "display_name": "Python 3 (ipykernel)",
   "language": "python",
   "name": "python3"
  },
  "language_info": {
   "codemirror_mode": {
    "name": "ipython",
    "version": 3
   },
   "file_extension": ".py",
   "mimetype": "text/x-python",
   "name": "python",
   "nbconvert_exporter": "python",
   "pygments_lexer": "ipython3",
   "version": "3.7.13"
  }
 },
 "nbformat": 4,
 "nbformat_minor": 5
}
