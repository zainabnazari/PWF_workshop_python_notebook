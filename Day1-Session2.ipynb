{
 "cells": [
  {
   "cell_type": "markdown",
   "id": "9d23be47",
   "metadata": {},
   "source": [
    "**Carl Stermann-Lücke**"
   ]
  },
  {
   "cell_type": "markdown",
   "id": "57c5364f",
   "metadata": {},
   "source": [
    "## Session 2: Working with Data using NumPy & Pandas\n",
    "* NumPy arrays: creation, indexing, operations\n",
    "* Pandas DataFrames: loading, filtering, describing data\n",
    "* Real dataset mini-example (e.g., Iris or simple CSV)"
   ]
  },
  {
   "metadata": {},
   "cell_type": "markdown",
   "source": "# Numpy",
   "id": "dba535d4967cd2d0"
  },
  {
   "metadata": {},
   "cell_type": "markdown",
   "source": [
    "Numpy is a library that provides data structures for vectors, matrices and tensors, and functions for performing computations on these data structures. These data structures are collectively called \"Numpy Arrays\".\n",
    "In machine learning, we often deal with many numbers that are structured with indices, that means, as a tensor.\n",
    "As you have learned before, python also provides lists. You could think that you could build arrays out of lists. But numpy arrays are optimized to allow easy access to specific elements and parts of the array, to perform operations on every element, and to do so much faster than we could do with lists."
   ],
   "id": "e71bad2551a30ad5"
  },
  {
   "metadata": {},
   "cell_type": "markdown",
   "source": "The official website of numpy: https://numpy.org",
   "id": "d028a315fa7f7367"
  },
  {
   "metadata": {},
   "cell_type": "markdown",
   "source": [
    "Since numpy is a library, you need to import it. Every python installation includes numpy, so you don't need to install it separately.\n",
    "The convention is to import numpy as np, like so:"
   ],
   "id": "cd9de60c9e2855a9"
  },
  {
   "metadata": {
    "ExecuteTime": {
     "end_time": "2025-09-05T21:15:55.081353Z",
     "start_time": "2025-09-05T21:15:53.050759Z"
    }
   },
   "cell_type": "code",
   "source": [
    "import numpy as np\n",
    "# Run this cell before anything else"
   ],
   "id": "9ff84ce26f0e6db6",
   "outputs": [],
   "execution_count": 2
  },
  {
   "metadata": {},
   "cell_type": "markdown",
   "source": "## Numpy Arrays",
   "id": "c914765e89c9be8"
  },
  {
   "metadata": {},
   "cell_type": "markdown",
   "source": "We can make a numpy array of arbitrary numbers:",
   "id": "e035aeac33999c06"
  },
  {
   "cell_type": "code",
   "id": "d73892b7",
   "metadata": {
    "ExecuteTime": {
     "end_time": "2025-08-27T20:50:03.396184Z",
     "start_time": "2025-08-27T20:50:03.382957Z"
    }
   },
   "source": "np.array([3,2,1,0])",
   "outputs": [
    {
     "data": {
      "text/plain": [
       "array([3, 2, 1, 0])"
      ]
     },
     "execution_count": 2,
     "metadata": {},
     "output_type": "execute_result"
    }
   ],
   "execution_count": 2
  },
  {
   "metadata": {},
   "cell_type": "markdown",
   "source": "The above Numpy Array has one dimension. That means, every number in the array has a position in the array that can be identified with exactly one number. For example, the first number in the array has the index 0.",
   "id": "8215254014aab1dc"
  },
  {
   "metadata": {
    "ExecuteTime": {
     "end_time": "2025-08-27T20:50:04.345307Z",
     "start_time": "2025-08-27T20:50:04.336409Z"
    }
   },
   "cell_type": "code",
   "source": [
    "myArray = np.array([3,2,1,0])\n",
    "myArray[0]"
   ],
   "id": "fe52a37ab6cb3b7e",
   "outputs": [
    {
     "data": {
      "text/plain": [
       "3"
      ]
     },
     "execution_count": 3,
     "metadata": {},
     "output_type": "execute_result"
    }
   ],
   "execution_count": 3
  },
  {
   "metadata": {},
   "cell_type": "markdown",
   "source": "Numpy Arrays can have more than one dimension. Think of it as a matrix or a tensor.",
   "id": "8d5b80d562c5d08a"
  },
  {
   "metadata": {
    "ExecuteTime": {
     "end_time": "2025-08-27T20:50:04.414216Z",
     "start_time": "2025-08-27T20:50:04.403501Z"
    }
   },
   "cell_type": "code",
   "source": [
    "# 2 dimensional numpy array\n",
    "my2dArray = np.array([[3,2],[1,0]])\n",
    "\n",
    "my2dArray"
   ],
   "id": "d9c420aa2a30b115",
   "outputs": [
    {
     "data": {
      "text/plain": [
       "array([[3, 2],\n",
       "       [1, 0]])"
      ]
     },
     "execution_count": 4,
     "metadata": {},
     "output_type": "execute_result"
    }
   ],
   "execution_count": 4
  },
  {
   "metadata": {
    "ExecuteTime": {
     "end_time": "2025-08-27T20:50:07.681014Z",
     "start_time": "2025-08-27T20:50:07.671821Z"
    }
   },
   "cell_type": "code",
   "source": [
    "# 3 dimensional numpy array\n",
    "my3dArray = np.array([[[7,6],[5,4]],[[3,2],[1,0]]])\n",
    "\n",
    "my3dArray"
   ],
   "id": "f4f7630c43a1d0e2",
   "outputs": [
    {
     "data": {
      "text/plain": [
       "array([[[7, 6],\n",
       "        [5, 4]],\n",
       "\n",
       "       [[3, 2],\n",
       "        [1, 0]]])"
      ]
     },
     "execution_count": 5,
     "metadata": {},
     "output_type": "execute_result"
    }
   ],
   "execution_count": 5
  },
  {
   "metadata": {},
   "cell_type": "markdown",
   "source": "Not that this is nothing but a list (of lists) passed into the np.array function. So you can also make a list first and then pass it:",
   "id": "ece609ba6ab296c4"
  },
  {
   "metadata": {
    "ExecuteTime": {
     "end_time": "2025-09-05T22:31:07.859971Z",
     "start_time": "2025-09-05T22:31:07.844431Z"
    }
   },
   "cell_type": "code",
   "source": [
    "myList = [[[7,6],[5,4]],[[3,2],[1,0]]]\n",
    "my3dArray = np.array(myList)\n",
    "my3dArray"
   ],
   "id": "b3ec3f4db8030c44",
   "outputs": [
    {
     "data": {
      "text/plain": [
       "array([[[7, 6],\n",
       "        [5, 4]],\n",
       "\n",
       "       [[3, 2],\n",
       "        [1, 0]]])"
      ]
     },
     "execution_count": 41,
     "metadata": {},
     "output_type": "execute_result"
    }
   ],
   "execution_count": 41
  },
  {
   "metadata": {},
   "cell_type": "markdown",
   "source": "You can access the individual elements by providing more than one index:",
   "id": "6310beacad1d3903"
  },
  {
   "metadata": {
    "ExecuteTime": {
     "end_time": "2025-08-27T20:50:08.485114Z",
     "start_time": "2025-08-27T20:50:08.477573Z"
    }
   },
   "cell_type": "code",
   "source": [
    "print(my2dArray[0,1])\n",
    "print(my3dArray[0,1,1])"
   ],
   "id": "4c43373fa62b0872",
   "outputs": [
    {
     "name": "stdout",
     "output_type": "stream",
     "text": [
      "2\n",
      "4\n"
     ]
    }
   ],
   "execution_count": 6
  },
  {
   "metadata": {},
   "cell_type": "markdown",
   "source": "Now let's compare operations on lists vs numpy arrays:",
   "id": "3dae9c390dfbd5d"
  },
  {
   "metadata": {
    "ExecuteTime": {
     "end_time": "2025-08-27T20:50:09.772921Z",
     "start_time": "2025-08-27T20:50:09.767396Z"
    }
   },
   "cell_type": "code",
   "source": [
    "list1 = [1,2,3,4]\n",
    "list2 = [1,2,3,4]\n",
    "list3 = [[1,2,3,4],[1,2,3,4]]"
   ],
   "id": "95e10473f130946e",
   "outputs": [],
   "execution_count": 7
  },
  {
   "metadata": {
    "ExecuteTime": {
     "end_time": "2025-08-27T20:50:09.856235Z",
     "start_time": "2025-08-27T20:50:09.848718Z"
    }
   },
   "cell_type": "code",
   "source": "list1 + list2",
   "id": "57d475dae4af02c0",
   "outputs": [
    {
     "data": {
      "text/plain": [
       "[1, 2, 3, 4, 1, 2, 3, 4]"
      ]
     },
     "execution_count": 8,
     "metadata": {},
     "output_type": "execute_result"
    }
   ],
   "execution_count": 8
  },
  {
   "metadata": {
    "ExecuteTime": {
     "end_time": "2025-08-27T20:50:10.017596Z",
     "start_time": "2025-08-27T20:50:10.007074Z"
    }
   },
   "cell_type": "code",
   "source": "list3 + list1",
   "id": "dfe61b789e1771f2",
   "outputs": [
    {
     "data": {
      "text/plain": [
       "[[1, 2, 3, 4], [1, 2, 3, 4], 1, 2, 3, 4]"
      ]
     },
     "execution_count": 9,
     "metadata": {},
     "output_type": "execute_result"
    }
   ],
   "execution_count": 9
  },
  {
   "metadata": {
    "ExecuteTime": {
     "end_time": "2025-08-27T20:50:11.428918Z",
     "start_time": "2025-08-27T20:50:10.201908Z"
    }
   },
   "cell_type": "code",
   "source": "list1 * list2",
   "id": "d0955b6fd87395f3",
   "outputs": [
    {
     "ename": "TypeError",
     "evalue": "can't multiply sequence by non-int of type 'list'",
     "output_type": "error",
     "traceback": [
      "\u001B[1;31m---------------------------------------------------------------------------\u001B[0m",
      "\u001B[1;31mTypeError\u001B[0m                                 Traceback (most recent call last)",
      "Cell \u001B[1;32mIn[10], line 1\u001B[0m\n\u001B[1;32m----> 1\u001B[0m \u001B[43mlist1\u001B[49m\u001B[43m \u001B[49m\u001B[38;5;241;43m*\u001B[39;49m\u001B[43m \u001B[49m\u001B[43mlist2\u001B[49m\n",
      "\u001B[1;31mTypeError\u001B[0m: can't multiply sequence by non-int of type 'list'"
     ]
    }
   ],
   "execution_count": 10
  },
  {
   "metadata": {},
   "cell_type": "markdown",
   "source": "Since multiplication is not defined on lists, you see an error here. Not so with numpy arrays...",
   "id": "bceb47192fd8c29c"
  },
  {
   "metadata": {
    "ExecuteTime": {
     "end_time": "2025-08-27T20:50:36.155149Z",
     "start_time": "2025-08-27T20:50:36.148241Z"
    }
   },
   "cell_type": "code",
   "source": [
    "numpyarray1 = np.array([1,2,3,4])\n",
    "numpyarray2 = np.array([1,2,3,4])\n",
    "numpyarray3 = np.array([[1,2,3,4],[1,2,3,4]])"
   ],
   "id": "2d22b84a94154280",
   "outputs": [],
   "execution_count": 11
  },
  {
   "metadata": {
    "ExecuteTime": {
     "end_time": "2025-08-27T20:50:43.582568Z",
     "start_time": "2025-08-27T20:50:43.574884Z"
    }
   },
   "cell_type": "code",
   "source": "numpyarray1 + numpyarray2",
   "id": "cdd55929c8dcccc9",
   "outputs": [
    {
     "data": {
      "text/plain": [
       "array([2, 4, 6, 8])"
      ]
     },
     "execution_count": 12,
     "metadata": {},
     "output_type": "execute_result"
    }
   ],
   "execution_count": 12
  },
  {
   "metadata": {
    "ExecuteTime": {
     "end_time": "2025-08-27T20:50:46.439406Z",
     "start_time": "2025-08-27T20:50:46.430884Z"
    }
   },
   "cell_type": "code",
   "source": "numpyarray3 + numpyarray1",
   "id": "9eef4dd8dc06913a",
   "outputs": [
    {
     "data": {
      "text/plain": [
       "array([[2, 4, 6, 8],\n",
       "       [2, 4, 6, 8]])"
      ]
     },
     "execution_count": 13,
     "metadata": {},
     "output_type": "execute_result"
    }
   ],
   "execution_count": 13
  },
  {
   "metadata": {
    "ExecuteTime": {
     "end_time": "2025-08-27T20:50:48.118893Z",
     "start_time": "2025-08-27T20:50:48.109898Z"
    }
   },
   "cell_type": "code",
   "source": "numpyarray1 * numpyarray2",
   "id": "fb7e3bcba006953d",
   "outputs": [
    {
     "data": {
      "text/plain": [
       "array([ 1,  4,  9, 16])"
      ]
     },
     "execution_count": 14,
     "metadata": {},
     "output_type": "execute_result"
    }
   ],
   "execution_count": 14
  },
  {
   "metadata": {
    "ExecuteTime": {
     "end_time": "2025-08-27T20:50:49.263713Z",
     "start_time": "2025-08-27T20:50:49.256281Z"
    }
   },
   "cell_type": "code",
   "source": "numpyarray3 * numpyarray1",
   "id": "74812a2871fd0cea",
   "outputs": [
    {
     "data": {
      "text/plain": [
       "array([[ 1,  4,  9, 16],\n",
       "       [ 1,  4,  9, 16]])"
      ]
     },
     "execution_count": 15,
     "metadata": {},
     "output_type": "execute_result"
    }
   ],
   "execution_count": 15
  },
  {
   "metadata": {},
   "cell_type": "markdown",
   "source": "Elements in the numpy array can be any types. However, if the types are different from one another, then one type would be the type of the array we set; that means all the elements are converted to the same type. Python decides which type that will be. For instance, if you use a mix of integers and strings, the string would be the final type of all elements. Also note that when you initially decide on which type you want to create your array, and later you if you insert an element within the array with different type, the type of the new element would be converted to the original type of the array, if possible. Look at the following examples.",
   "id": "d7b3060e8064b414"
  },
  {
   "metadata": {
    "ExecuteTime": {
     "end_time": "2025-08-27T20:50:52.029786Z",
     "start_time": "2025-08-27T20:50:52.022279Z"
    }
   },
   "cell_type": "code",
   "source": [
    "x1 = np.array([1,2,3,4])\n",
    "x2 = np.array([1,2,3,\"C\"])\n",
    "print(type(x1[0]), type(x2[0]))"
   ],
   "id": "5d97f7827beb3998",
   "outputs": [
    {
     "name": "stdout",
     "output_type": "stream",
     "text": [
      "<class 'numpy.int32'> <class 'numpy.str_'>\n"
     ]
    }
   ],
   "execution_count": 16
  },
  {
   "metadata": {},
   "cell_type": "markdown",
   "source": [
    "x1 is an array of integers.\n",
    "x2 is an array of strings.\n",
    "Now what happens if we replace the only \"actual\" string in x2 by an integer?"
   ],
   "id": "f238b2de3f6eff79"
  },
  {
   "metadata": {
    "ExecuteTime": {
     "end_time": "2025-08-27T20:50:55.290477Z",
     "start_time": "2025-08-27T20:50:55.284512Z"
    }
   },
   "cell_type": "code",
   "source": [
    "x2[3] = 4\n",
    "print(x2)\n",
    "print(type(x2[3]))"
   ],
   "id": "1da7507dbcedcabb",
   "outputs": [
    {
     "name": "stdout",
     "output_type": "stream",
     "text": [
      "['1' '2' '3' '4']\n",
      "<class 'numpy.str_'>\n"
     ]
    }
   ],
   "execution_count": 17
  },
  {
   "metadata": {},
   "cell_type": "markdown",
   "source": "You see that, even though we have changed the last element of x2 to an integer, the type still remains string.",
   "id": "411a613793b07b0b"
  },
  {
   "metadata": {},
   "cell_type": "markdown",
   "source": "Any what happens if we include a non-integer (float) in the integer array x1?",
   "id": "18ca39297dcacd9c"
  },
  {
   "metadata": {
    "ExecuteTime": {
     "end_time": "2025-08-27T20:50:58.997076Z",
     "start_time": "2025-08-27T20:50:58.990004Z"
    }
   },
   "cell_type": "code",
   "source": [
    "x1[3] = 7.7\n",
    "print(x1)\n",
    "print(type(x1[3]))"
   ],
   "id": "36608f03fbf3a9a8",
   "outputs": [
    {
     "name": "stdout",
     "output_type": "stream",
     "text": [
      "[1 2 3 7]\n",
      "<class 'numpy.int32'>\n"
     ]
    }
   ],
   "execution_count": 18
  },
  {
   "metadata": {},
   "cell_type": "markdown",
   "source": "You see that the type of the element at position 3 of x1 is still integer, even though we have put a float number there.",
   "id": "5c83e335d84635d0"
  },
  {
   "metadata": {},
   "cell_type": "markdown",
   "source": "Does that also work with strings?",
   "id": "d0fbe6761a390220"
  },
  {
   "metadata": {
    "ExecuteTime": {
     "end_time": "2025-08-27T20:51:01.588877Z",
     "start_time": "2025-08-27T20:51:01.563850Z"
    }
   },
   "cell_type": "code",
   "source": [
    "x1[3] = \"C\"\n",
    "print(x1)\n",
    "print(type(x1[3]))"
   ],
   "id": "1873a6c8d75534e3",
   "outputs": [
    {
     "ename": "ValueError",
     "evalue": "invalid literal for int() with base 10: 'C'",
     "output_type": "error",
     "traceback": [
      "\u001B[1;31m---------------------------------------------------------------------------\u001B[0m",
      "\u001B[1;31mValueError\u001B[0m                                Traceback (most recent call last)",
      "Cell \u001B[1;32mIn[19], line 1\u001B[0m\n\u001B[1;32m----> 1\u001B[0m \u001B[43mx1\u001B[49m\u001B[43m[\u001B[49m\u001B[38;5;241;43m3\u001B[39;49m\u001B[43m]\u001B[49m \u001B[38;5;241m=\u001B[39m \u001B[38;5;124m\"\u001B[39m\u001B[38;5;124mC\u001B[39m\u001B[38;5;124m\"\u001B[39m\n\u001B[0;32m      2\u001B[0m \u001B[38;5;28mprint\u001B[39m(x1)\n\u001B[0;32m      3\u001B[0m \u001B[38;5;28mprint\u001B[39m(\u001B[38;5;28mtype\u001B[39m(x1[\u001B[38;5;241m3\u001B[39m]))\n",
      "\u001B[1;31mValueError\u001B[0m: invalid literal for int() with base 10: 'C'"
     ]
    }
   ],
   "execution_count": 19
  },
  {
   "metadata": {},
   "cell_type": "markdown",
   "source": "Strings cannot be converted to integer, so we cannot put a string into an integer array.",
   "id": "ec8244ad31433f55"
  },
  {
   "metadata": {},
   "cell_type": "markdown",
   "source": [
    "A side note: If you insert integers, strings, and booleans in a numpy array, you get to have a single type of string.\n",
    "Note that the property of the NumPy array which requires it to hold elements of a single type makes the NumPy faster in calculation compared with list. Also note that if you have a numpy array with booleans and number types (float, integer), numpy will convert the boolean `True` to 1 and `False` to 0."
   ],
   "id": "6c1782e29806e2c9"
  },
  {
   "metadata": {},
   "cell_type": "markdown",
   "source": "For our purposes, it only makes sense to have numpy arrays of integers, floats or booleans.",
   "id": "f879810ce8dfeafc"
  },
  {
   "metadata": {},
   "cell_type": "markdown",
   "source": "## Slicing: Accessing specific elements from a numpy array",
   "id": "4858ee932035779"
  },
  {
   "metadata": {},
   "cell_type": "markdown",
   "source": [
    "Slicing means accessing a subsection of a numpy array.\n",
    "The following examples can represent how it works."
   ],
   "id": "84001ea4c076f636"
  },
  {
   "metadata": {},
   "cell_type": "markdown",
   "source": "Let's experiment with a simple one-dimensional numpy array",
   "id": "1420e4e1da131a95"
  },
  {
   "metadata": {
    "ExecuteTime": {
     "end_time": "2025-08-27T20:51:20.561001Z",
     "start_time": "2025-08-27T20:51:20.555201Z"
    }
   },
   "cell_type": "code",
   "source": "simpleArray = np.array([19,8,7,1,5,4])",
   "id": "9fc6fb75757807d0",
   "outputs": [],
   "execution_count": 21
  },
  {
   "metadata": {
    "ExecuteTime": {
     "end_time": "2025-08-27T20:51:21.317812Z",
     "start_time": "2025-08-27T20:51:21.312576Z"
    }
   },
   "cell_type": "code",
   "source": [
    "firstElement = simpleArray[0]\n",
    "firstElement\n",
    "# Numpy arrays start indexing with 0, just like lists."
   ],
   "id": "2048edd6b7c33a1b",
   "outputs": [],
   "execution_count": 22
  },
  {
   "metadata": {
    "ExecuteTime": {
     "end_time": "2025-08-27T20:51:22.057946Z",
     "start_time": "2025-08-27T20:51:22.051945Z"
    }
   },
   "cell_type": "code",
   "source": [
    "lastElement = simpleArray[-1]\n",
    "lastElement\n",
    "# The second-to-last element would be simpleArray[-2]."
   ],
   "id": "b57f8c0650d20375",
   "outputs": [],
   "execution_count": 23
  },
  {
   "metadata": {
    "ExecuteTime": {
     "end_time": "2025-08-27T20:51:22.751031Z",
     "start_time": "2025-08-27T20:51:22.745255Z"
    }
   },
   "cell_type": "code",
   "source": [
    "withoutFirstAndLastElement = simpleArray[1:-1]\n",
    "withoutFirstAndLastElement\n",
    "# x:y means every element from position x (including) to position y (excluding). If x is not given, it takes elements from the start. If y is not given, it takes elements to the end."
   ],
   "id": "96e847ef2b2e617e",
   "outputs": [],
   "execution_count": 24
  },
  {
   "metadata": {},
   "cell_type": "markdown",
   "source": "How does that work with a two-dimensional numpy array?",
   "id": "ee8b194aa8e0ea80"
  },
  {
   "metadata": {
    "ExecuteTime": {
     "end_time": "2025-08-27T20:51:24.818280Z",
     "start_time": "2025-08-27T20:51:24.811279Z"
    }
   },
   "cell_type": "code",
   "source": "myArray = np.array([[1,2,3],[4,5,6],[7,8,9]])",
   "id": "2dc945c623a56c40",
   "outputs": [],
   "execution_count": 25
  },
  {
   "metadata": {
    "ExecuteTime": {
     "end_time": "2025-08-27T20:51:25.694657Z",
     "start_time": "2025-08-27T20:51:25.688655Z"
    }
   },
   "cell_type": "code",
   "source": [
    "firstRow = myArray[0,:]\n",
    "firstRow"
   ],
   "id": "115796127e8c62bb",
   "outputs": [],
   "execution_count": 26
  },
  {
   "metadata": {
    "ExecuteTime": {
     "end_time": "2025-08-27T20:51:26.737662Z",
     "start_time": "2025-08-27T20:51:26.731665Z"
    }
   },
   "cell_type": "code",
   "source": [
    "firstColumn=myArray[:,0]\n",
    "firstColumn"
   ],
   "id": "692784a7310e1b33",
   "outputs": [],
   "execution_count": 27
  },
  {
   "metadata": {
    "ExecuteTime": {
     "end_time": "2025-08-27T20:51:27.353980Z",
     "start_time": "2025-08-27T20:51:27.348168Z"
    }
   },
   "cell_type": "code",
   "source": [
    "secondColumn = myArray[:,1]\n",
    "secondColumn"
   ],
   "id": "1c6d02d2a849f167",
   "outputs": [],
   "execution_count": 28
  },
  {
   "metadata": {
    "ExecuteTime": {
     "end_time": "2025-08-27T20:51:28.317622Z",
     "start_time": "2025-08-27T20:51:28.311623Z"
    }
   },
   "cell_type": "code",
   "source": [
    "oddRowsEvenColumns = myArray[1::2,0::2]\n",
    "oddRowsEvenColumns\n",
    "# x:y:z means every element from x (including) to y (excluding) in steps of z. Like before, if x is not given, it takes elements from the start. If y is not given, it takes elements to the end."
   ],
   "id": "1efdfd2cacbe4f84",
   "outputs": [],
   "execution_count": 29
  },
  {
   "metadata": {},
   "cell_type": "markdown",
   "source": "## Shape and Reshape",
   "id": "98979f23387dcec8"
  },
  {
   "metadata": {},
   "cell_type": "markdown",
   "source": "You might want to change the dimensions of a numpy array. For this, you can use the shape and reshape functions.",
   "id": "f221baaf5e541dc5"
  },
  {
   "metadata": {
    "ExecuteTime": {
     "end_time": "2025-08-27T20:53:02.604827Z",
     "start_time": "2025-08-27T20:53:02.597938Z"
    }
   },
   "cell_type": "code",
   "source": "myarray = np.array([[2,5,6],[3,4,7]])",
   "id": "8af257ad791602f3",
   "outputs": [],
   "execution_count": 30
  },
  {
   "metadata": {
    "ExecuteTime": {
     "end_time": "2025-08-27T20:53:03.238498Z",
     "start_time": "2025-08-27T20:53:03.230498Z"
    }
   },
   "cell_type": "code",
   "source": [
    "myarray.shape\n",
    "# this shows: (gives the number of rows and columns of myarray) the dimensionality and the size of each dimension."
   ],
   "id": "5b6e17487120f59b",
   "outputs": [
    {
     "data": {
      "text/plain": [
       "(2, 3)"
      ]
     },
     "execution_count": 31,
     "metadata": {},
     "output_type": "execute_result"
    }
   ],
   "execution_count": 31
  },
  {
   "metadata": {
    "ExecuteTime": {
     "end_time": "2025-08-27T20:53:05.655164Z",
     "start_time": "2025-08-27T20:53:05.647084Z"
    }
   },
   "cell_type": "code",
   "source": [
    "myarray.reshape(-1,1)\n",
    "# The size of the new array in each dimension is given. If you type -1, that dimension is going to be computed based on the number of elements in the original array."
   ],
   "id": "3499dba594a84125",
   "outputs": [
    {
     "data": {
      "text/plain": [
       "array([[2],\n",
       "       [5],\n",
       "       [6],\n",
       "       [3],\n",
       "       [4],\n",
       "       [7]])"
      ]
     },
     "execution_count": 32,
     "metadata": {},
     "output_type": "execute_result"
    }
   ],
   "execution_count": 32
  },
  {
   "metadata": {
    "ExecuteTime": {
     "end_time": "2025-08-27T20:53:21.078976Z",
     "start_time": "2025-08-27T20:53:21.071447Z"
    }
   },
   "cell_type": "code",
   "source": [
    "myarray.reshape(-1)\n",
    "# It's also possible to change the dimensionality. This now is a one-dimensional array,"
   ],
   "id": "bfc057c7061809a0",
   "outputs": [
    {
     "data": {
      "text/plain": [
       "array([2, 5, 6, 3, 4, 7])"
      ]
     },
     "execution_count": 33,
     "metadata": {},
     "output_type": "execute_result"
    }
   ],
   "execution_count": 33
  },
  {
   "metadata": {
    "ExecuteTime": {
     "end_time": "2025-08-27T20:53:25.687929Z",
     "start_time": "2025-08-27T20:53:25.679406Z"
    }
   },
   "cell_type": "code",
   "source": [
    "myarray.reshape(2,1,-1)\n",
    "# The dimensionality can also be increased. Only one parameter can be -1, because otherwise it could not be inferred.\n",
    "# the number of numbers inside parentheses determines the dimensionality of the array, the -1 will automatically provide the adequate number,\n",
    "# and the multiplication of the numbers (excluding -1, means including any proper multiplication) should match to the numbers of the elements of the array."
   ],
   "id": "c46d1117406a7441",
   "outputs": [
    {
     "data": {
      "text/plain": [
       "array([[[2, 5, 6]],\n",
       "\n",
       "       [[3, 4, 7]]])"
      ]
     },
     "execution_count": 34,
     "metadata": {},
     "output_type": "execute_result"
    }
   ],
   "execution_count": 34
  },
  {
   "metadata": {},
   "cell_type": "markdown",
   "source": "## linspace",
   "id": "939877a67907c2de"
  },
  {
   "metadata": {},
   "cell_type": "markdown",
   "source": "Linspace function is being used to create a line with the amount of discretization that we would like to have. For instance, if we want to have a 20 meters stick and we want to chop it 100 times, each piece would have 0.2 meter length, this can be useful in some problem. This example can be seen in the following code",
   "id": "883db8be65df3d90"
  },
  {
   "metadata": {
    "ExecuteTime": {
     "end_time": "2025-08-27T20:53:30.302856Z",
     "start_time": "2025-08-27T20:53:30.291587Z"
    }
   },
   "cell_type": "code",
   "source": "np.linspace(0,20,100)",
   "id": "83c270e30e531303",
   "outputs": [
    {
     "data": {
      "text/plain": [
       "array([ 0.        ,  0.2020202 ,  0.4040404 ,  0.60606061,  0.80808081,\n",
       "        1.01010101,  1.21212121,  1.41414141,  1.61616162,  1.81818182,\n",
       "        2.02020202,  2.22222222,  2.42424242,  2.62626263,  2.82828283,\n",
       "        3.03030303,  3.23232323,  3.43434343,  3.63636364,  3.83838384,\n",
       "        4.04040404,  4.24242424,  4.44444444,  4.64646465,  4.84848485,\n",
       "        5.05050505,  5.25252525,  5.45454545,  5.65656566,  5.85858586,\n",
       "        6.06060606,  6.26262626,  6.46464646,  6.66666667,  6.86868687,\n",
       "        7.07070707,  7.27272727,  7.47474747,  7.67676768,  7.87878788,\n",
       "        8.08080808,  8.28282828,  8.48484848,  8.68686869,  8.88888889,\n",
       "        9.09090909,  9.29292929,  9.49494949,  9.6969697 ,  9.8989899 ,\n",
       "       10.1010101 , 10.3030303 , 10.50505051, 10.70707071, 10.90909091,\n",
       "       11.11111111, 11.31313131, 11.51515152, 11.71717172, 11.91919192,\n",
       "       12.12121212, 12.32323232, 12.52525253, 12.72727273, 12.92929293,\n",
       "       13.13131313, 13.33333333, 13.53535354, 13.73737374, 13.93939394,\n",
       "       14.14141414, 14.34343434, 14.54545455, 14.74747475, 14.94949495,\n",
       "       15.15151515, 15.35353535, 15.55555556, 15.75757576, 15.95959596,\n",
       "       16.16161616, 16.36363636, 16.56565657, 16.76767677, 16.96969697,\n",
       "       17.17171717, 17.37373737, 17.57575758, 17.77777778, 17.97979798,\n",
       "       18.18181818, 18.38383838, 18.58585859, 18.78787879, 18.98989899,\n",
       "       19.19191919, 19.39393939, 19.5959596 , 19.7979798 , 20.        ])"
      ]
     },
     "execution_count": 35,
     "metadata": {},
     "output_type": "execute_result"
    }
   ],
   "execution_count": 35
  },
  {
   "metadata": {},
   "cell_type": "markdown",
   "source": "## arange",
   "id": "56eaccdb0d49e67d"
  },
  {
   "metadata": {},
   "cell_type": "markdown",
   "source": "Arange is a function that generate arrays with desired space between the elements. It is similar to linspace with the difference that the last number would indicate the size of the steps rather than the number of the steps. It works exactly like range, except that it makes numpy array. Look at the section about `range` The following examples would elaborate on it better.",
   "id": "a0224875dbb4ca05"
  },
  {
   "metadata": {
    "ExecuteTime": {
     "end_time": "2025-08-27T20:54:18.296301Z",
     "start_time": "2025-08-27T20:54:18.288301Z"
    }
   },
   "cell_type": "code",
   "source": "np.arange(10)",
   "id": "d2a1a1563b25acb7",
   "outputs": [
    {
     "data": {
      "text/plain": [
       "array([0, 1, 2, 3, 4, 5, 6, 7, 8, 9])"
      ]
     },
     "execution_count": 39,
     "metadata": {},
     "output_type": "execute_result"
    }
   ],
   "execution_count": 39
  },
  {
   "metadata": {
    "ExecuteTime": {
     "end_time": "2025-08-27T20:54:19.152182Z",
     "start_time": "2025-08-27T20:54:19.145180Z"
    }
   },
   "cell_type": "code",
   "source": "np.arange(1,10)",
   "id": "4cd97681e039db6c",
   "outputs": [
    {
     "data": {
      "text/plain": [
       "array([1, 2, 3, 4, 5, 6, 7, 8, 9])"
      ]
     },
     "execution_count": 40,
     "metadata": {},
     "output_type": "execute_result"
    }
   ],
   "execution_count": 40
  },
  {
   "metadata": {
    "ExecuteTime": {
     "end_time": "2025-08-27T20:54:19.954585Z",
     "start_time": "2025-08-27T20:54:19.945586Z"
    }
   },
   "cell_type": "code",
   "source": "np.arange(1,10,2)",
   "id": "3e1aa2baf531274e",
   "outputs": [
    {
     "data": {
      "text/plain": [
       "array([1, 3, 5, 7, 9])"
      ]
     },
     "execution_count": 41,
     "metadata": {},
     "output_type": "execute_result"
    }
   ],
   "execution_count": 41
  },
  {
   "metadata": {},
   "cell_type": "markdown",
   "source": "### comparing arange and linspace",
   "id": "3d8d932b60c4bf1f"
  },
  {
   "metadata": {},
   "cell_type": "markdown",
   "source": "These two commands are often mixed up.",
   "id": "6069d90012835690"
  },
  {
   "metadata": {},
   "cell_type": "code",
   "outputs": [],
   "execution_count": null,
   "source": "np.linspace(4,20,3)",
   "id": "7d7ca84da746a61b"
  },
  {
   "metadata": {},
   "cell_type": "code",
   "outputs": [],
   "execution_count": null,
   "source": "np.arange(4,20,3)",
   "id": "36445ee7dc9c0817"
  },
  {
   "metadata": {},
   "cell_type": "markdown",
   "source": [
    "The difference is that the last parameter (the 3 in the examples above) has different meaning.\n",
    "For linspace, it indicates the number of substeps.\n",
    "For arange, it indicates the step size between substeps."
   ],
   "id": "2ad1fc2fff88329e"
  },
  {
   "metadata": {},
   "cell_type": "markdown",
   "source": "## meshgrid",
   "id": "a5cbcbaedf0378ed"
  },
  {
   "metadata": {},
   "cell_type": "markdown",
   "source": "Meshgrid can help us find the coordinates of a certain point in a multi-dimensional space. It takes input arrays that can be seen as coordinate axes. Let’s assume we give two arrays. These form the coordinate axes of a two-dimensional space. Meshgrid tells us the coordinates for each position in the resulting two-dimensional array. Each position has (in the two-dimensional case) two coordinates. So meshgrid retuns two two-dimensional arrays, one with all the coordinates in the first and the other in the second dimension.",
   "id": "3b59b7ba012bb3ac"
  },
  {
   "metadata": {
    "ExecuteTime": {
     "end_time": "2025-09-05T21:16:05.817422Z",
     "start_time": "2025-09-05T21:16:05.805118Z"
    }
   },
   "cell_type": "code",
   "source": [
    "x =[1, 2, 3, 4]\n",
    "y =[5, 6, 7]\n",
    "np.meshgrid (x, y)"
   ],
   "id": "d600e84f056d0a30",
   "outputs": [
    {
     "data": {
      "text/plain": [
       "[array([[1, 2, 3, 4],\n",
       "        [1, 2, 3, 4],\n",
       "        [1, 2, 3, 4]]),\n",
       " array([[5, 5, 5, 5],\n",
       "        [6, 6, 6, 6],\n",
       "        [7, 7, 7, 7]])]"
      ]
     },
     "execution_count": 3,
     "metadata": {},
     "output_type": "execute_result"
    }
   ],
   "execution_count": 3
  },
  {
   "metadata": {},
   "cell_type": "markdown",
   "source": "## random",
   "id": "18c6c4cda1e6ed8b"
  },
  {
   "metadata": {},
   "cell_type": "markdown",
   "source": [
    "Numpy can fill arrays with random numbers of different ranges and distributions. It is a good practice to use a random number generator object to generate random numbers. Such a random number generator can be provided with a fixed seed. That means, it will produce the same random numbers every time you run the program. This is useful for statistical comparisons between runs. For example, in machine learning, you might want to test your model by feeding it data in random order. If you want to compare your model with a baseline model, you want to feed the same data in and also in the same order. You will need fewer runs to tell with statistical significance which model performs better.\n",
    "\n",
    "Let's first create two instances of random number generators to demonstrate this effect."
   ],
   "id": "82883c637ad88707"
  },
  {
   "metadata": {
    "ExecuteTime": {
     "end_time": "2025-09-05T21:36:21.871642Z",
     "start_time": "2025-09-05T21:36:21.861457Z"
    }
   },
   "cell_type": "code",
   "source": [
    "# This random number generator has no seed. Run this cell multiple times.\n",
    "generator = np.random.default_rng()\n",
    "generator.integers(low=0, high=10, size=3)"
   ],
   "id": "c1e93f73c36634b5",
   "outputs": [
    {
     "data": {
      "text/plain": [
       "array([1, 0, 8], dtype=int64)"
      ]
     },
     "execution_count": 15,
     "metadata": {},
     "output_type": "execute_result"
    }
   ],
   "execution_count": 15
  },
  {
   "metadata": {},
   "cell_type": "markdown",
   "source": "Now compare the output to this one:",
   "id": "57b9ffa946aa98f5"
  },
  {
   "metadata": {
    "ExecuteTime": {
     "end_time": "2025-09-05T21:37:47.600653Z",
     "start_time": "2025-09-05T21:37:47.590551Z"
    }
   },
   "cell_type": "code",
   "source": [
    "# This random number generator has a seed number. Run this cell multiple times.\n",
    "generator = np.random.default_rng(42)\n",
    "generator.integers(low=0, high=10, size=3)"
   ],
   "id": "b38bd72558bb9205",
   "outputs": [
    {
     "data": {
      "text/plain": [
       "array([0, 7, 6], dtype=int64)"
      ]
     },
     "execution_count": 20,
     "metadata": {},
     "output_type": "execute_result"
    }
   ],
   "execution_count": 20
  },
  {
   "metadata": {},
   "cell_type": "markdown",
   "source": "The seed determines the random numbers, but in a way that is intentionally hard for humans to understand and reverse-engineer. Check out what happens when we use a different seed:",
   "id": "1480238ddc87a754"
  },
  {
   "metadata": {
    "ExecuteTime": {
     "end_time": "2025-09-05T21:39:12.170608Z",
     "start_time": "2025-09-05T21:39:12.157608Z"
    }
   },
   "cell_type": "code",
   "source": [
    "# This random number generator has a different seed number than the one above. Run this cell multiple times.\n",
    "generator = np.random.default_rng(12345)\n",
    "generator.integers(low=0, high=10, size=3)"
   ],
   "id": "1901fd4e3933a763",
   "outputs": [
    {
     "data": {
      "text/plain": [
       "array([6, 2, 7], dtype=int64)"
      ]
     },
     "execution_count": 24,
     "metadata": {},
     "output_type": "execute_result"
    }
   ],
   "execution_count": 24
  },
  {
   "metadata": {},
   "cell_type": "markdown",
   "source": "It's not actually true that the random number generator without the seed has no seed. It has a seed, but that is determined automatically and it's not always the same. Often, the seeds are determined by user input, the system clock, or other things that are hard to control exactly.",
   "id": "5f30bb4796fcc22"
  },
  {
   "metadata": {},
   "cell_type": "markdown",
   "source": [
    "Another thing that is important to know about random number generators is that, once they are initialized with a seed, they will continue producing new (pseudo) random numbers. So they don't get used up. When you have a random number generator and you don't know how many numbers it has generated, the next number will appear random to you.\n",
    "For example, when you run the following cell, it will very likely not output the same result as any of the previous three cells:"
   ],
   "id": "f5b5fe8e222c08ce"
  },
  {
   "metadata": {
    "ExecuteTime": {
     "end_time": "2025-09-05T21:44:33.948514Z",
     "start_time": "2025-09-05T21:44:33.938160Z"
    }
   },
   "cell_type": "code",
   "source": "generator.integers(low=0, high=10, size=3)",
   "id": "93748b91f3e73cc6",
   "outputs": [
    {
     "data": {
      "text/plain": [
       "array([3, 2, 7], dtype=int64)"
      ]
     },
     "execution_count": 25,
     "metadata": {},
     "output_type": "execute_result"
    }
   ],
   "execution_count": 25
  },
  {
   "metadata": {},
   "cell_type": "markdown",
   "source": [
    "Try to run it again multiple times. You will always get new numbers, as long as you keep using the same random number generator.\n",
    "So it is best practice to set up the random number generator once at the beginning of each of your experiments, and then use it throughout the experiment.\n",
    "\n",
    "Now that we have a random number generator (no matter which of the three you use), let's explore more options to fill numpy arrays with random numbers."
   ],
   "id": "ea658bb5bb752c5d"
  },
  {
   "metadata": {
    "ExecuteTime": {
     "end_time": "2025-09-05T22:12:25.632752Z",
     "start_time": "2025-09-05T22:12:25.613760Z"
    }
   },
   "cell_type": "code",
   "source": [
    "# A two-dimensional array with 2 x 3 random integers between 0 (inclusive) and 10 (exclusive)\n",
    "generator.integers(low=0, high=10, size=(2,3))"
   ],
   "id": "6af9e43f53686669",
   "outputs": [
    {
     "data": {
      "text/plain": [
       "array([[1, 7, 7],\n",
       "       [2, 7, 0]], dtype=int64)"
      ]
     },
     "execution_count": 31,
     "metadata": {},
     "output_type": "execute_result"
    }
   ],
   "execution_count": 31
  },
  {
   "metadata": {
    "ExecuteTime": {
     "end_time": "2025-09-05T21:57:31.485186Z",
     "start_time": "2025-09-05T21:57:31.465976Z"
    }
   },
   "cell_type": "code",
   "source": [
    "# A one-dimensional array with three random numbers between 0 and 1\n",
    "generator.random(3)"
   ],
   "id": "77395d0caae302ba",
   "outputs": [
    {
     "data": {
      "text/plain": [
       "array([0.67625467, 0.39110955, 0.33281393])"
      ]
     },
     "execution_count": 27,
     "metadata": {},
     "output_type": "execute_result"
    }
   ],
   "execution_count": 27
  },
  {
   "metadata": {
    "ExecuteTime": {
     "end_time": "2025-09-05T21:59:07.333369Z",
     "start_time": "2025-09-05T21:59:07.319907Z"
    }
   },
   "cell_type": "code",
   "source": [
    "# A two-dimensional array with 2 x 3 random numbers between 0 and 1\n",
    "generator.random((2,3))"
   ],
   "id": "f0a7ae60e6cee52a",
   "outputs": [
    {
     "data": {
      "text/plain": [
       "array([[0.59830875, 0.18673419, 0.67275604],\n",
       "       [0.94180287, 0.24824571, 0.94888115]])"
      ]
     },
     "execution_count": 29,
     "metadata": {},
     "output_type": "execute_result"
    }
   ],
   "execution_count": 29
  },
  {
   "metadata": {},
   "cell_type": "markdown",
   "source": "In real life, not every random number is equally likely. Or, well, actually it is, but not every range of numbers is equally likely to have a random number generated in. So, let's create random numbers with normal distribution:",
   "id": "16d0346c98d2ea57"
  },
  {
   "metadata": {
    "ExecuteTime": {
     "end_time": "2025-09-05T22:09:39.106484Z",
     "start_time": "2025-09-05T22:09:39.091161Z"
    }
   },
   "cell_type": "code",
   "source": [
    "# A two-dimensional array with 2 x 3 random numbers that are normally (gaussian) distributed with mean of 0 and standard deviation of 1. The parameters for mean and standard deviation are called 'loc' and 'scale' in this function.\n",
    "generator.normal(loc=0.0, scale=1.0, size=(2,3))"
   ],
   "id": "412afe032726958f",
   "outputs": [
    {
     "data": {
      "text/plain": [
       "array([[-0.75938718,  0.90219827, -0.46695317],\n",
       "       [-0.06068952,  0.78884434, -1.25666813]])"
      ]
     },
     "execution_count": 30,
     "metadata": {},
     "output_type": "execute_result"
    }
   ],
   "execution_count": 30
  },
  {
   "metadata": {},
   "cell_type": "markdown",
   "source": "As you have certainly observed, the 'size' parameter can be a whole positive number. Then you get a one-dimensional array of the specified size. Or it can be a tuple of an arbitrary number of whole positive numbers. Then you get a multi-dimensional array where the sizes of each dimension is the number you specified in the tuple.",
   "id": "4eb7055a67281b5a"
  },
  {
   "metadata": {},
   "cell_type": "markdown",
   "source": "It can also be useful to randomly reorder the elements of a numpy array:",
   "id": "c95bfbd60adc73c0"
  },
  {
   "metadata": {
    "ExecuteTime": {
     "end_time": "2025-09-05T22:42:15.625811Z",
     "start_time": "2025-09-05T22:42:15.612810Z"
    }
   },
   "cell_type": "code",
   "source": [
    "x = np.array([1,2,3,4,5])\n",
    "generator.shuffle(x) # shuffle shuffles inplace, that means it does not create a new numpy array.\n",
    "x"
   ],
   "id": "a1e69fc435ee74f1",
   "outputs": [
    {
     "data": {
      "text/plain": [
       "array([3, 1, 2, 5, 4])"
      ]
     },
     "execution_count": 44,
     "metadata": {},
     "output_type": "execute_result"
    }
   ],
   "execution_count": 44
  },
  {
   "metadata": {
    "ExecuteTime": {
     "end_time": "2025-09-05T22:44:19.847643Z",
     "start_time": "2025-09-05T22:44:19.834115Z"
    }
   },
   "cell_type": "code",
   "source": [
    "xy = np.array([[1,2,3,4,5],[6,7,8,9,10]])\n",
    "generator.shuffle(xy)\n",
    "xy"
   ],
   "id": "ae02c94e9cefd0d0",
   "outputs": [
    {
     "data": {
      "text/plain": [
       "array([[ 6,  7,  8,  9, 10],\n",
       "       [ 1,  2,  3,  4,  5]])"
      ]
     },
     "execution_count": 45,
     "metadata": {},
     "output_type": "execute_result"
    }
   ],
   "execution_count": 45
  },
  {
   "metadata": {},
   "cell_type": "markdown",
   "source": "You can also shuffle each row or column independently, or in bulk. Compare:",
   "id": "91c056f42ac80aae"
  },
  {
   "metadata": {
    "ExecuteTime": {
     "end_time": "2025-09-05T22:45:58.350323Z",
     "start_time": "2025-09-05T22:45:58.334662Z"
    }
   },
   "cell_type": "code",
   "source": [
    "xy = np.array([[1,2,3,4,5],[6,7,8,9,10]])\n",
    "generator.permuted(xy, axis=0) # permuted creates a new array and does not change the original one"
   ],
   "id": "82a22534d021570e",
   "outputs": [
    {
     "data": {
      "text/plain": [
       "array([[ 6,  7,  3,  9,  5],\n",
       "       [ 1,  2,  8,  4, 10]])"
      ]
     },
     "execution_count": 46,
     "metadata": {},
     "output_type": "execute_result"
    }
   ],
   "execution_count": 46
  },
  {
   "metadata": {
    "ExecuteTime": {
     "end_time": "2025-09-05T22:46:41.200525Z",
     "start_time": "2025-09-05T22:46:41.191526Z"
    }
   },
   "cell_type": "code",
   "source": "generator.permuted(xy, axis=1)",
   "id": "b12eaf9a82262e4c",
   "outputs": [
    {
     "data": {
      "text/plain": [
       "array([[ 3,  1,  2,  5,  4],\n",
       "       [ 8, 10,  7,  9,  6]])"
      ]
     },
     "execution_count": 47,
     "metadata": {},
     "output_type": "execute_result"
    }
   ],
   "execution_count": 47
  },
  {
   "metadata": {
    "ExecuteTime": {
     "end_time": "2025-09-05T22:47:47.528774Z",
     "start_time": "2025-09-05T22:47:47.517750Z"
    }
   },
   "cell_type": "code",
   "source": [
    "# now in bulk\n",
    "generator.permutation(xy, axis=0) # permutation creates a new array and does not change the original one\n",
    "# you might need to try this several times to see what happens"
   ],
   "id": "22269bf4a3cd5c97",
   "outputs": [
    {
     "data": {
      "text/plain": [
       "array([[ 1,  2,  3,  4,  5],\n",
       "       [ 6,  7,  8,  9, 10]])"
      ]
     },
     "execution_count": 52,
     "metadata": {},
     "output_type": "execute_result"
    }
   ],
   "execution_count": 52
  },
  {
   "metadata": {
    "ExecuteTime": {
     "end_time": "2025-09-05T22:48:19.412879Z",
     "start_time": "2025-09-05T22:48:19.398957Z"
    }
   },
   "cell_type": "code",
   "source": [
    "generator.permutation(xy, axis=1)\n",
    "# you see that here, the entire columns get reordered, not just individual numbers."
   ],
   "id": "dcc96d09efa0b80b",
   "outputs": [
    {
     "data": {
      "text/plain": [
       "array([[ 1,  2,  4,  3,  5],\n",
       "       [ 6,  7,  9,  8, 10]])"
      ]
     },
     "execution_count": 53,
     "metadata": {},
     "output_type": "execute_result"
    }
   ],
   "execution_count": 53
  },
  {
   "metadata": {},
   "cell_type": "markdown",
   "source": "### Axis",
   "id": "98fc713d383c7c88"
  },
  {
   "metadata": {},
   "cell_type": "markdown",
   "source": [
    "You have seen the parameter 'axis' in the previous examples (permuted and permutation).\n",
    "This parameter is used to tell which dimension of a numpy array you want to apply a function to.\n",
    "Above you have seen that you can initialize a numpy array using a list, or a list of lists. axis = 0 refers to the outermost list. axis = 1 means the next level of lists. And so on."
   ],
   "id": "1886da129059ba0f"
  },
  {
   "metadata": {},
   "cell_type": "markdown",
   "source": "## stacking",
   "id": "74e62f81ad5980d8"
  },
  {
   "metadata": {},
   "cell_type": "markdown",
   "source": "You have two arrays and want to append one to the other? hstack and vstack might be what you are searching for.",
   "id": "562ab13a7eb32131"
  },
  {
   "metadata": {
    "ExecuteTime": {
     "end_time": "2025-09-05T22:21:04.584621Z",
     "start_time": "2025-09-05T22:21:04.566198Z"
    }
   },
   "cell_type": "code",
   "source": [
    "x = np.array([1,2,3])\n",
    "y = np.array([4,5,6])\n",
    "np.hstack((x,y))"
   ],
   "id": "c15a3cc56805b64b",
   "outputs": [
    {
     "data": {
      "text/plain": [
       "array([1, 2, 3, 4, 5, 6])"
      ]
     },
     "execution_count": 32,
     "metadata": {},
     "output_type": "execute_result"
    }
   ],
   "execution_count": 32
  },
  {
   "metadata": {},
   "cell_type": "markdown",
   "source": "hstack stacks horizontally, vstack stacks vertically",
   "id": "1b7b17101e05db00"
  },
  {
   "metadata": {
    "ExecuteTime": {
     "end_time": "2025-09-05T22:21:25.443150Z",
     "start_time": "2025-09-05T22:21:25.433719Z"
    }
   },
   "cell_type": "code",
   "source": "np.vstack((x,y))",
   "id": "498500ae746f6556",
   "outputs": [
    {
     "data": {
      "text/plain": [
       "array([[1, 2, 3],\n",
       "       [4, 5, 6]])"
      ]
     },
     "execution_count": 35,
     "metadata": {},
     "output_type": "execute_result"
    }
   ],
   "execution_count": 35
  },
  {
   "metadata": {},
   "cell_type": "markdown",
   "source": "Be careful, because dimensions need to match. Take the following two examples where they don't match:",
   "id": "756776075307df4"
  },
  {
   "metadata": {
    "ExecuteTime": {
     "end_time": "2025-09-05T22:22:37.793234Z",
     "start_time": "2025-09-05T22:22:37.492281Z"
    }
   },
   "cell_type": "code",
   "source": [
    "z = np.array([[7],[8]])\n",
    "np.hstack((x,z))"
   ],
   "id": "9416c755ac321070",
   "outputs": [
    {
     "ename": "ValueError",
     "evalue": "all the input arrays must have same number of dimensions, but the array at index 0 has 1 dimension(s) and the array at index 1 has 2 dimension(s)",
     "output_type": "error",
     "traceback": [
      "\u001B[1;31m---------------------------------------------------------------------------\u001B[0m",
      "\u001B[1;31mValueError\u001B[0m                                Traceback (most recent call last)",
      "Cell \u001B[1;32mIn[36], line 2\u001B[0m\n\u001B[0;32m      1\u001B[0m z \u001B[38;5;241m=\u001B[39m np\u001B[38;5;241m.\u001B[39marray([[\u001B[38;5;241m7\u001B[39m],[\u001B[38;5;241m8\u001B[39m]])\n\u001B[1;32m----> 2\u001B[0m \u001B[43mnp\u001B[49m\u001B[38;5;241;43m.\u001B[39;49m\u001B[43mhstack\u001B[49m\u001B[43m(\u001B[49m\u001B[43m(\u001B[49m\u001B[43mx\u001B[49m\u001B[43m,\u001B[49m\u001B[43mz\u001B[49m\u001B[43m)\u001B[49m\u001B[43m)\u001B[49m\n",
      "File \u001B[1;32m~\\AppData\\Local\\Programs\\Python\\Python311\\Lib\\site-packages\\numpy\\core\\shape_base.py:357\u001B[0m, in \u001B[0;36mhstack\u001B[1;34m(tup, dtype, casting)\u001B[0m\n\u001B[0;32m    355\u001B[0m \u001B[38;5;66;03m# As a special case, dimension 0 of 1-dimensional arrays is \"horizontal\"\u001B[39;00m\n\u001B[0;32m    356\u001B[0m \u001B[38;5;28;01mif\u001B[39;00m arrs \u001B[38;5;129;01mand\u001B[39;00m arrs[\u001B[38;5;241m0\u001B[39m]\u001B[38;5;241m.\u001B[39mndim \u001B[38;5;241m==\u001B[39m \u001B[38;5;241m1\u001B[39m:\n\u001B[1;32m--> 357\u001B[0m     \u001B[38;5;28;01mreturn\u001B[39;00m \u001B[43m_nx\u001B[49m\u001B[38;5;241;43m.\u001B[39;49m\u001B[43mconcatenate\u001B[49m\u001B[43m(\u001B[49m\u001B[43marrs\u001B[49m\u001B[43m,\u001B[49m\u001B[43m \u001B[49m\u001B[38;5;241;43m0\u001B[39;49m\u001B[43m,\u001B[49m\u001B[43m \u001B[49m\u001B[43mdtype\u001B[49m\u001B[38;5;241;43m=\u001B[39;49m\u001B[43mdtype\u001B[49m\u001B[43m,\u001B[49m\u001B[43m \u001B[49m\u001B[43mcasting\u001B[49m\u001B[38;5;241;43m=\u001B[39;49m\u001B[43mcasting\u001B[49m\u001B[43m)\u001B[49m\n\u001B[0;32m    358\u001B[0m \u001B[38;5;28;01melse\u001B[39;00m:\n\u001B[0;32m    359\u001B[0m     \u001B[38;5;28;01mreturn\u001B[39;00m _nx\u001B[38;5;241m.\u001B[39mconcatenate(arrs, \u001B[38;5;241m1\u001B[39m, dtype\u001B[38;5;241m=\u001B[39mdtype, casting\u001B[38;5;241m=\u001B[39mcasting)\n",
      "\u001B[1;31mValueError\u001B[0m: all the input arrays must have same number of dimensions, but the array at index 0 has 1 dimension(s) and the array at index 1 has 2 dimension(s)"
     ]
    }
   ],
   "execution_count": 36
  },
  {
   "metadata": {
    "ExecuteTime": {
     "end_time": "2025-09-05T22:23:34.804058Z",
     "start_time": "2025-09-05T22:23:34.760210Z"
    }
   },
   "cell_type": "code",
   "source": [
    "z1 = np.array([11,12])\n",
    "np.vstack((x,z1))"
   ],
   "id": "6bceb1ae848558ff",
   "outputs": [
    {
     "ename": "ValueError",
     "evalue": "all the input array dimensions except for the concatenation axis must match exactly, but along dimension 1, the array at index 0 has size 3 and the array at index 1 has size 2",
     "output_type": "error",
     "traceback": [
      "\u001B[1;31m---------------------------------------------------------------------------\u001B[0m",
      "\u001B[1;31mValueError\u001B[0m                                Traceback (most recent call last)",
      "Cell \u001B[1;32mIn[37], line 2\u001B[0m\n\u001B[0;32m      1\u001B[0m z1 \u001B[38;5;241m=\u001B[39m np\u001B[38;5;241m.\u001B[39marray([\u001B[38;5;241m11\u001B[39m,\u001B[38;5;241m12\u001B[39m])\n\u001B[1;32m----> 2\u001B[0m \u001B[43mnp\u001B[49m\u001B[38;5;241;43m.\u001B[39;49m\u001B[43mvstack\u001B[49m\u001B[43m(\u001B[49m\u001B[43m(\u001B[49m\u001B[43mx\u001B[49m\u001B[43m,\u001B[49m\u001B[43mz1\u001B[49m\u001B[43m)\u001B[49m\u001B[43m)\u001B[49m\n",
      "File \u001B[1;32m~\\AppData\\Local\\Programs\\Python\\Python311\\Lib\\site-packages\\numpy\\core\\shape_base.py:289\u001B[0m, in \u001B[0;36mvstack\u001B[1;34m(tup, dtype, casting)\u001B[0m\n\u001B[0;32m    287\u001B[0m \u001B[38;5;28;01mif\u001B[39;00m \u001B[38;5;129;01mnot\u001B[39;00m \u001B[38;5;28misinstance\u001B[39m(arrs, \u001B[38;5;28mlist\u001B[39m):\n\u001B[0;32m    288\u001B[0m     arrs \u001B[38;5;241m=\u001B[39m [arrs]\n\u001B[1;32m--> 289\u001B[0m \u001B[38;5;28;01mreturn\u001B[39;00m \u001B[43m_nx\u001B[49m\u001B[38;5;241;43m.\u001B[39;49m\u001B[43mconcatenate\u001B[49m\u001B[43m(\u001B[49m\u001B[43marrs\u001B[49m\u001B[43m,\u001B[49m\u001B[43m \u001B[49m\u001B[38;5;241;43m0\u001B[39;49m\u001B[43m,\u001B[49m\u001B[43m \u001B[49m\u001B[43mdtype\u001B[49m\u001B[38;5;241;43m=\u001B[39;49m\u001B[43mdtype\u001B[49m\u001B[43m,\u001B[49m\u001B[43m \u001B[49m\u001B[43mcasting\u001B[49m\u001B[38;5;241;43m=\u001B[39;49m\u001B[43mcasting\u001B[49m\u001B[43m)\u001B[49m\n",
      "\u001B[1;31mValueError\u001B[0m: all the input array dimensions except for the concatenation axis must match exactly, but along dimension 1, the array at index 0 has size 3 and the array at index 1 has size 2"
     ]
    }
   ],
   "execution_count": 37
  },
  {
   "metadata": {},
   "cell_type": "markdown",
   "source": "## Conditional Selection",
   "id": "fa0cc530fe8af99e"
  },
  {
   "metadata": {},
   "cell_type": "markdown",
   "source": "The following example will illustrate how we can select elements of a numpy array that meet a certain condition.",
   "id": "43a1d060545e57ff"
  },
  {
   "metadata": {
    "ExecuteTime": {
     "end_time": "2025-09-05T22:26:26.933443Z",
     "start_time": "2025-09-05T22:26:26.924230Z"
    }
   },
   "cell_type": "code",
   "source": "x = np.array([1, 7, 4, 90, 12.4, 56, 10, 2, 0, -5, 22, 34, 65, 10, -4, 17, 2])",
   "id": "5930bb705ec17408",
   "outputs": [],
   "execution_count": 38
  },
  {
   "metadata": {
    "ExecuteTime": {
     "end_time": "2025-09-05T22:26:27.946226Z",
     "start_time": "2025-09-05T22:26:27.933078Z"
    }
   },
   "cell_type": "code",
   "source": "x < 12",
   "id": "b98732a379573ecc",
   "outputs": [
    {
     "data": {
      "text/plain": [
       "array([ True,  True,  True, False, False, False,  True,  True,  True,\n",
       "        True, False, False, False,  True,  True, False,  True])"
      ]
     },
     "execution_count": 39,
     "metadata": {},
     "output_type": "execute_result"
    }
   ],
   "execution_count": 39
  },
  {
   "metadata": {},
   "cell_type": "markdown",
   "source": "You now have an array of booleans. This you can use to filter an array (for example the original array, like here):",
   "id": "f36b1a36f8b7fd17"
  },
  {
   "metadata": {
    "ExecuteTime": {
     "end_time": "2025-09-05T22:26:30.116324Z",
     "start_time": "2025-09-05T22:26:30.100041Z"
    }
   },
   "cell_type": "code",
   "source": "x[x<12]",
   "id": "1f28acbd5b29bf56",
   "outputs": [
    {
     "data": {
      "text/plain": [
       "array([ 1.,  7.,  4., 10.,  2.,  0., -5., 10., -4.,  2.])"
      ]
     },
     "execution_count": 40,
     "metadata": {},
     "output_type": "execute_result"
    }
   ],
   "execution_count": 40
  },
  {
   "metadata": {},
   "cell_type": "markdown",
   "source": "Or from a different array:",
   "id": "34179405f2d23d14"
  },
  {
   "metadata": {
    "ExecuteTime": {
     "end_time": "2025-09-05T22:32:19.693841Z",
     "start_time": "2025-09-05T22:32:19.675440Z"
    }
   },
   "cell_type": "code",
   "source": [
    "list1 = [\"Carl\", \"Hanna\", \"Piter\", \"Ali\", \"Hassan\", \"Paul\", \"Zainab\", \"Zahra\", \"Catalina\", \"Anna\", \"Julia\", \"Dina\", \"Sara\", \"Lina\", \"Albert\"]\n",
    "list2 = [1.80, 1.67, 1.87, 1.55, 1.77, 1.56, 1.78, 1.69, 1.80, 1.58, 1.87, 1.59, 1.65, 1.90, 1.79]\n",
    "name_np = np.array(list1)\n",
    "height_np = np.array(list2)\n",
    "print (\"Zahra height = \", height_np [ name_np ==\"Zahra\"], \"Julia height = \", height_np [ name_np ==\"Julia\"])"
   ],
   "id": "20e614c9823f753a",
   "outputs": [
    {
     "name": "stdout",
     "output_type": "stream",
     "text": [
      " Zahra height =  [1.69] Julia height =  [1.87]\n"
     ]
    }
   ],
   "execution_count": 42
  },
  {
   "metadata": {},
   "cell_type": "markdown",
   "source": "## np.where",
   "id": "a20d8e83559ac28"
  },
  {
   "metadata": {},
   "cell_type": "markdown",
   "source": "This function can be used to apply an operation on particular elements of a numpy array. Here you find an example where it returns the absolute value of a list of numbers.",
   "id": "366d5d4a7f569ce1"
  },
  {
   "metadata": {
    "ExecuteTime": {
     "end_time": "2025-09-05T22:59:21.423595Z",
     "start_time": "2025-09-05T22:59:21.409705Z"
    }
   },
   "cell_type": "code",
   "source": [
    "myArray = np.array([9, 1, 4, 2, -4, 1, -6, -1, 4])\n",
    "np.where(myArray < 0, -myArray, myArray)"
   ],
   "id": "71917e4248968e54",
   "outputs": [
    {
     "data": {
      "text/plain": [
       "array([9, 1, 4, 2, 4, 1, 6, 1, 4])"
      ]
     },
     "execution_count": 54,
     "metadata": {},
     "output_type": "execute_result"
    }
   ],
   "execution_count": 54
  },
  {
   "metadata": {},
   "cell_type": "markdown",
   "source": "## Statistical Methods",
   "id": "acd8f556f340b35a"
  },
  {
   "metadata": {},
   "cell_type": "markdown",
   "source": "Here are some numpy functions that can be useful dealing with data. Functions like: mean, median, min, max, std.",
   "id": "dc59d927efb545d8"
  },
  {
   "metadata": {
    "ExecuteTime": {
     "end_time": "2025-09-05T23:01:36.820874Z",
     "start_time": "2025-09-05T23:01:36.803370Z"
    }
   },
   "cell_type": "code",
   "source": [
    "student_heights = [1.80, 1.67, 1.87, 1.55, 1.77, 1.56, 1.78, 1.69, 1.80, 1.58, 1.87, 1.59, 1.65, 1.90, 1.79]\n",
    "np_student_heights = np.array(student_heights)\n",
    "np.mean(np_student_heights)"
   ],
   "id": "9f49d5908935b31",
   "outputs": [
    {
     "data": {
      "text/plain": [
       "1.7246666666666666"
      ]
     },
     "execution_count": 55,
     "metadata": {},
     "output_type": "execute_result"
    }
   ],
   "execution_count": 55
  },
  {
   "metadata": {
    "ExecuteTime": {
     "end_time": "2025-09-05T23:01:38.693637Z",
     "start_time": "2025-09-05T23:01:38.672361Z"
    }
   },
   "cell_type": "code",
   "source": "np.median(np_student_heights)",
   "id": "db9928b15d52f56c",
   "outputs": [
    {
     "data": {
      "text/plain": [
       "1.77"
      ]
     },
     "execution_count": 56,
     "metadata": {},
     "output_type": "execute_result"
    }
   ],
   "execution_count": 56
  },
  {
   "metadata": {
    "ExecuteTime": {
     "end_time": "2025-09-05T23:01:39.979045Z",
     "start_time": "2025-09-05T23:01:39.971096Z"
    }
   },
   "cell_type": "code",
   "source": "np.max(np_student_heights)",
   "id": "260d20dfd87b3211",
   "outputs": [
    {
     "data": {
      "text/plain": [
       "1.9"
      ]
     },
     "execution_count": 57,
     "metadata": {},
     "output_type": "execute_result"
    }
   ],
   "execution_count": 57
  },
  {
   "metadata": {
    "ExecuteTime": {
     "end_time": "2025-09-05T23:01:41.157267Z",
     "start_time": "2025-09-05T23:01:41.147216Z"
    }
   },
   "cell_type": "code",
   "source": "np.min(np_student_heights)",
   "id": "4c47b60ff48efe22",
   "outputs": [
    {
     "data": {
      "text/plain": [
       "1.55"
      ]
     },
     "execution_count": 58,
     "metadata": {},
     "output_type": "execute_result"
    }
   ],
   "execution_count": 58
  },
  {
   "metadata": {
    "ExecuteTime": {
     "end_time": "2025-09-05T23:01:52.579935Z",
     "start_time": "2025-09-05T23:01:52.566871Z"
    }
   },
   "cell_type": "code",
   "source": "np.std(np_student_heights)",
   "id": "2b4cd328c5935957",
   "outputs": [
    {
     "data": {
      "text/plain": [
       "0.11552008002459524"
      ]
     },
     "execution_count": 59,
     "metadata": {},
     "output_type": "execute_result"
    }
   ],
   "execution_count": 59
  },
  {
   "metadata": {},
   "cell_type": "markdown",
   "source": "## Error with math versus numpy",
   "id": "2078916a032354c6"
  },
  {
   "metadata": {},
   "cell_type": "markdown",
   "source": "We have seen that basic arithmetic operations, such as addition or multiplication, can be performed on numpy arrays and apply to every element. Some mathematical operations are implemented as functions in the math package, such as sqrt, sin, cos, etc. These do not work on numpy arrays, as you can try here:",
   "id": "499a821d9d6a80ed"
  },
  {
   "metadata": {
    "ExecuteTime": {
     "end_time": "2025-09-05T23:05:21.286156Z",
     "start_time": "2025-09-05T23:05:21.194313Z"
    }
   },
   "cell_type": "code",
   "source": [
    "import math\n",
    "myarray = np.array([1,2,3])\n",
    "# Trying to calculate the square root of every element in the array.\n",
    "math.sqrt(myarray)"
   ],
   "id": "e94700b2c80f0be6",
   "outputs": [
    {
     "ename": "TypeError",
     "evalue": "only length-1 arrays can be converted to Python scalars",
     "output_type": "error",
     "traceback": [
      "\u001B[1;31m---------------------------------------------------------------------------\u001B[0m",
      "\u001B[1;31mTypeError\u001B[0m                                 Traceback (most recent call last)",
      "Cell \u001B[1;32mIn[60], line 4\u001B[0m\n\u001B[0;32m      2\u001B[0m myarray \u001B[38;5;241m=\u001B[39m np\u001B[38;5;241m.\u001B[39marray([\u001B[38;5;241m1\u001B[39m,\u001B[38;5;241m2\u001B[39m,\u001B[38;5;241m3\u001B[39m])\n\u001B[0;32m      3\u001B[0m \u001B[38;5;66;03m# Trying to calculate the square root of every element in the array.\u001B[39;00m\n\u001B[1;32m----> 4\u001B[0m \u001B[43mmath\u001B[49m\u001B[38;5;241;43m.\u001B[39;49m\u001B[43msqrt\u001B[49m\u001B[43m(\u001B[49m\u001B[43mmyarray\u001B[49m\u001B[43m)\u001B[49m\n",
      "\u001B[1;31mTypeError\u001B[0m: only length-1 arrays can be converted to Python scalars"
     ]
    }
   ],
   "execution_count": 60
  },
  {
   "metadata": {},
   "cell_type": "markdown",
   "source": "The solution is to use the functions from the numpy package, not from the math package:",
   "id": "5102f629f3500409"
  },
  {
   "metadata": {
    "ExecuteTime": {
     "end_time": "2025-09-05T23:06:46.677560Z",
     "start_time": "2025-09-05T23:06:46.663057Z"
    }
   },
   "cell_type": "code",
   "source": [
    "import math\n",
    "myarray = np.array([1,2,3])\n",
    "# Trying to calculate the square root of every element in the array, but this time using the numpy function.\n",
    "np.sqrt(myarray)"
   ],
   "id": "720ed3459052473e",
   "outputs": [
    {
     "data": {
      "text/plain": [
       "array([1.        , 1.41421356, 1.73205081])"
      ]
     },
     "execution_count": 61,
     "metadata": {},
     "output_type": "execute_result"
    }
   ],
   "execution_count": 61
  },
  {
   "metadata": {},
   "cell_type": "markdown",
   "source": "## Efficiency of array operations",
   "id": "97ce69363eee6751"
  },
  {
   "metadata": {},
   "cell_type": "markdown",
   "source": "Numpy can apply operations to every element of an array, and it can do so a lot faster than we could do that with a simple loop. In the following example, we compute the first 1000000 Fibonacci-numbers (with a very nice formula) and measure the time to do this, both with a numpy array and with a for-loop.",
   "id": "dca2fd2cc28ce9dc"
  },
  {
   "metadata": {
    "ExecuteTime": {
     "end_time": "2025-09-05T23:12:30.796265Z",
     "start_time": "2025-09-05T23:12:21.681573Z"
    }
   },
   "cell_type": "code",
   "source": [
    "import numpy as np\n",
    "import time\n",
    "\n",
    "array = np.arange (0 ,1000000 ,1) # every number from 0 to 999999\n",
    "\n",
    "a = (1 + np.sqrt (5) ) / 2\n",
    "b = (1 - np.sqrt (5) ) / 2\n",
    "numpy_start = time.process_time()\n",
    "fibonacciNumpy = (1 / np.sqrt (5)) * ((a ** array) - (b ** array))\n",
    "numpy_stop = time.process_time()\n",
    "fibonacciByHand = np.zeros (1000000)\n",
    "hand_start = time.process_time()\n",
    "for n in range (0, 1000000):\n",
    "    fibonacciByHand [n] = (1/ np.sqrt (5)) * ((a ** n) - (b ** n))\n",
    "hand_stop = time.process_time()\n",
    "numpy_time = numpy_stop - numpy_start\n",
    "hand_time = hand_stop - hand_start\n",
    "print (\"numpy_time\", numpy_time )\n",
    "print (\"hand_time\", hand_time )\n",
    "# don't print the actual fibonacci numbers, they are too many"
   ],
   "id": "61b6e460e332e5a3",
   "outputs": [
    {
     "name": "stderr",
     "output_type": "stream",
     "text": [
      "C:\\Users\\carl.stermann-luecke\\AppData\\Local\\Temp\\ipykernel_31796\\628953967.py:9: RuntimeWarning: overflow encountered in power\n",
      "  fibonacciNumpy = (1 / np.sqrt (5)) * ((a ** array) - (b ** array))\n",
      "C:\\Users\\carl.stermann-luecke\\AppData\\Local\\Temp\\ipykernel_31796\\628953967.py:14: RuntimeWarning: overflow encountered in scalar power\n",
      "  fibonacciByHand [n] = (1/ np.sqrt (5)) * ((a ** n) - (b ** n))\n"
     ]
    },
    {
     "name": "stdout",
     "output_type": "stream",
     "text": [
      "numpy_time 0.421875\n",
      "hand_time 7.265625\n"
     ]
    }
   ],
   "execution_count": 64
  },
  {
   "metadata": {},
   "cell_type": "markdown",
   "source": "This is also a good example for how to measure time in python.",
   "id": "a80153886fada4e9"
  }
 ],
 "metadata": {
  "kernelspec": {
   "display_name": "Python 3 (ipykernel)",
   "language": "python",
   "name": "python3"
  },
  "language_info": {
   "codemirror_mode": {
    "name": "ipython",
    "version": 3
   },
   "file_extension": ".py",
   "mimetype": "text/x-python",
   "name": "python",
   "nbconvert_exporter": "python",
   "pygments_lexer": "ipython3",
   "version": "3.7.13"
  }
 },
 "nbformat": 4,
 "nbformat_minor": 5
}
