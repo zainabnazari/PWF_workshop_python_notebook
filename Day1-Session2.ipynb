{
 "cells": [
  {
   "cell_type": "markdown",
   "id": "9d23be47",
   "metadata": {},
   "source": [
    "**Carl Stermann-Lücke**"
   ]
  },
  {
   "cell_type": "markdown",
   "id": "57c5364f",
   "metadata": {},
   "source": [
    "## Session 2: Working with Data using NumPy & Pandas\n",
    "* NumPy arrays: creation, indexing, operations\n",
    "* Pandas DataFrames: loading, filtering, describing data\n",
    "* Real dataset mini-example (e.g., Iris or simple CSV)"
   ]
  },
  {
   "metadata": {},
   "cell_type": "markdown",
   "source": "# Numpy",
   "id": "dba535d4967cd2d0"
  },
  {
   "metadata": {},
   "cell_type": "markdown",
   "source": [
    "Numpy is a library that provides data structures for vectors, matrices and tensors, and functions for performing computations on these data structures. These data structures are collectively called \"Numpy Arrays\".\n",
    "In machine learning, we often deal with many numbers that are structured with indices, that means, as a tensor.\n",
    "As you have learned before, python also provides lists. You could think that you could build arrays out of lists. But numpy arrays are optimized to allow easy access to specific elements and parts of the array, to perform operations on every element, and to do so much faster than we could do with lists."
   ],
   "id": "e71bad2551a30ad5"
  },
  {
   "metadata": {},
   "cell_type": "markdown",
   "source": "The official website of numpy: https://numpy.org",
   "id": "d028a315fa7f7367"
  },
  {
   "metadata": {},
   "cell_type": "markdown",
   "source": [
    "Since numpy is a library, you need to import it. Every python installation includes numpy, so you don't need to install it separately.\n",
    "The convention is to import numpy as np, like so:"
   ],
   "id": "cd9de60c9e2855a9"
  },
  {
   "metadata": {
    "ExecuteTime": {
     "end_time": "2025-08-27T20:50:03.337353Z",
     "start_time": "2025-08-27T20:50:02.054752Z"
    }
   },
   "cell_type": "code",
   "source": [
    "import numpy as np\n",
    "# Run this cell before anything else"
   ],
   "id": "9ff84ce26f0e6db6",
   "outputs": [],
   "execution_count": 1
  },
  {
   "metadata": {},
   "cell_type": "markdown",
   "source": "## Numpy Arrays",
   "id": "c914765e89c9be8"
  },
  {
   "metadata": {},
   "cell_type": "markdown",
   "source": "We can make a numpy array of arbitrary numbers:",
   "id": "e035aeac33999c06"
  },
  {
   "cell_type": "code",
   "id": "d73892b7",
   "metadata": {
    "ExecuteTime": {
     "end_time": "2025-08-27T20:50:03.396184Z",
     "start_time": "2025-08-27T20:50:03.382957Z"
    }
   },
   "source": "np.array([3,2,1,0])",
   "outputs": [
    {
     "data": {
      "text/plain": [
       "array([3, 2, 1, 0])"
      ]
     },
     "execution_count": 2,
     "metadata": {},
     "output_type": "execute_result"
    }
   ],
   "execution_count": 2
  },
  {
   "metadata": {},
   "cell_type": "markdown",
   "source": "The above Numpy Array has one dimension. That means, every number in the array has a position in the array that can be identified with exactly one number. For example, the first number in the array has the index 0.",
   "id": "8215254014aab1dc"
  },
  {
   "metadata": {
    "ExecuteTime": {
     "end_time": "2025-08-27T20:50:04.345307Z",
     "start_time": "2025-08-27T20:50:04.336409Z"
    }
   },
   "cell_type": "code",
   "source": [
    "myArray = np.array([3,2,1,0])\n",
    "myArray[0]"
   ],
   "id": "fe52a37ab6cb3b7e",
   "outputs": [
    {
     "data": {
      "text/plain": [
       "3"
      ]
     },
     "execution_count": 3,
     "metadata": {},
     "output_type": "execute_result"
    }
   ],
   "execution_count": 3
  },
  {
   "metadata": {},
   "cell_type": "markdown",
   "source": "Numpy Arrays can have more than one dimension. Think of it as a matrix or a tensor.",
   "id": "8d5b80d562c5d08a"
  },
  {
   "metadata": {
    "ExecuteTime": {
     "end_time": "2025-08-27T20:50:04.414216Z",
     "start_time": "2025-08-27T20:50:04.403501Z"
    }
   },
   "cell_type": "code",
   "source": [
    "# 2 dimensional numpy array\n",
    "my2dArray = np.array([[3,2],[1,0]])\n",
    "\n",
    "my2dArray"
   ],
   "id": "d9c420aa2a30b115",
   "outputs": [
    {
     "data": {
      "text/plain": [
       "array([[3, 2],\n",
       "       [1, 0]])"
      ]
     },
     "execution_count": 4,
     "metadata": {},
     "output_type": "execute_result"
    }
   ],
   "execution_count": 4
  },
  {
   "metadata": {
    "ExecuteTime": {
     "end_time": "2025-08-27T20:50:07.681014Z",
     "start_time": "2025-08-27T20:50:07.671821Z"
    }
   },
   "cell_type": "code",
   "source": [
    "# 3 dimensional numpy array\n",
    "my3dArray = np.array([[[7,6],[5,4]],[[3,2],[1,0]]])\n",
    "\n",
    "my3dArray"
   ],
   "id": "f4f7630c43a1d0e2",
   "outputs": [
    {
     "data": {
      "text/plain": [
       "array([[[7, 6],\n",
       "        [5, 4]],\n",
       "\n",
       "       [[3, 2],\n",
       "        [1, 0]]])"
      ]
     },
     "execution_count": 5,
     "metadata": {},
     "output_type": "execute_result"
    }
   ],
   "execution_count": 5
  },
  {
   "metadata": {},
   "cell_type": "markdown",
   "source": "You can access the individual elements by providing more than one index:",
   "id": "6310beacad1d3903"
  },
  {
   "metadata": {
    "ExecuteTime": {
     "end_time": "2025-08-27T20:50:08.485114Z",
     "start_time": "2025-08-27T20:50:08.477573Z"
    }
   },
   "cell_type": "code",
   "source": [
    "print(my2dArray[0,1])\n",
    "print(my3dArray[0,1,1])"
   ],
   "id": "4c43373fa62b0872",
   "outputs": [
    {
     "name": "stdout",
     "output_type": "stream",
     "text": [
      "2\n",
      "4\n"
     ]
    }
   ],
   "execution_count": 6
  },
  {
   "metadata": {},
   "cell_type": "markdown",
   "source": "Now let's compare operations on lists vs numpy arrays:",
   "id": "3dae9c390dfbd5d"
  },
  {
   "metadata": {
    "ExecuteTime": {
     "end_time": "2025-08-27T20:50:09.772921Z",
     "start_time": "2025-08-27T20:50:09.767396Z"
    }
   },
   "cell_type": "code",
   "source": [
    "list1 = [1,2,3,4]\n",
    "list2 = [1,2,3,4]\n",
    "list3 = [[1,2,3,4],[1,2,3,4]]"
   ],
   "id": "95e10473f130946e",
   "outputs": [],
   "execution_count": 7
  },
  {
   "metadata": {
    "ExecuteTime": {
     "end_time": "2025-08-27T20:50:09.856235Z",
     "start_time": "2025-08-27T20:50:09.848718Z"
    }
   },
   "cell_type": "code",
   "source": "list1 + list2",
   "id": "57d475dae4af02c0",
   "outputs": [
    {
     "data": {
      "text/plain": [
       "[1, 2, 3, 4, 1, 2, 3, 4]"
      ]
     },
     "execution_count": 8,
     "metadata": {},
     "output_type": "execute_result"
    }
   ],
   "execution_count": 8
  },
  {
   "metadata": {
    "ExecuteTime": {
     "end_time": "2025-08-27T20:50:10.017596Z",
     "start_time": "2025-08-27T20:50:10.007074Z"
    }
   },
   "cell_type": "code",
   "source": "list3 + list1",
   "id": "dfe61b789e1771f2",
   "outputs": [
    {
     "data": {
      "text/plain": [
       "[[1, 2, 3, 4], [1, 2, 3, 4], 1, 2, 3, 4]"
      ]
     },
     "execution_count": 9,
     "metadata": {},
     "output_type": "execute_result"
    }
   ],
   "execution_count": 9
  },
  {
   "metadata": {
    "ExecuteTime": {
     "end_time": "2025-08-27T20:50:11.428918Z",
     "start_time": "2025-08-27T20:50:10.201908Z"
    }
   },
   "cell_type": "code",
   "source": "list1 * list2",
   "id": "d0955b6fd87395f3",
   "outputs": [
    {
     "ename": "TypeError",
     "evalue": "can't multiply sequence by non-int of type 'list'",
     "output_type": "error",
     "traceback": [
      "\u001B[1;31m---------------------------------------------------------------------------\u001B[0m",
      "\u001B[1;31mTypeError\u001B[0m                                 Traceback (most recent call last)",
      "Cell \u001B[1;32mIn[10], line 1\u001B[0m\n\u001B[1;32m----> 1\u001B[0m \u001B[43mlist1\u001B[49m\u001B[43m \u001B[49m\u001B[38;5;241;43m*\u001B[39;49m\u001B[43m \u001B[49m\u001B[43mlist2\u001B[49m\n",
      "\u001B[1;31mTypeError\u001B[0m: can't multiply sequence by non-int of type 'list'"
     ]
    }
   ],
   "execution_count": 10
  },
  {
   "metadata": {},
   "cell_type": "markdown",
   "source": "Since multiplication is not defined on lists, you see an error here. Not so with numpy arrays...",
   "id": "bceb47192fd8c29c"
  },
  {
   "metadata": {
    "ExecuteTime": {
     "end_time": "2025-08-27T20:50:36.155149Z",
     "start_time": "2025-08-27T20:50:36.148241Z"
    }
   },
   "cell_type": "code",
   "source": [
    "numpyarray1 = np.array([1,2,3,4])\n",
    "numpyarray2 = np.array([1,2,3,4])\n",
    "numpyarray3 = np.array([[1,2,3,4],[1,2,3,4]])"
   ],
   "id": "2d22b84a94154280",
   "outputs": [],
   "execution_count": 11
  },
  {
   "metadata": {
    "ExecuteTime": {
     "end_time": "2025-08-27T20:50:43.582568Z",
     "start_time": "2025-08-27T20:50:43.574884Z"
    }
   },
   "cell_type": "code",
   "source": "numpyarray1 + numpyarray2",
   "id": "cdd55929c8dcccc9",
   "outputs": [
    {
     "data": {
      "text/plain": [
       "array([2, 4, 6, 8])"
      ]
     },
     "execution_count": 12,
     "metadata": {},
     "output_type": "execute_result"
    }
   ],
   "execution_count": 12
  },
  {
   "metadata": {
    "ExecuteTime": {
     "end_time": "2025-08-27T20:50:46.439406Z",
     "start_time": "2025-08-27T20:50:46.430884Z"
    }
   },
   "cell_type": "code",
   "source": "numpyarray3 + numpyarray1",
   "id": "9eef4dd8dc06913a",
   "outputs": [
    {
     "data": {
      "text/plain": [
       "array([[2, 4, 6, 8],\n",
       "       [2, 4, 6, 8]])"
      ]
     },
     "execution_count": 13,
     "metadata": {},
     "output_type": "execute_result"
    }
   ],
   "execution_count": 13
  },
  {
   "metadata": {
    "ExecuteTime": {
     "end_time": "2025-08-27T20:50:48.118893Z",
     "start_time": "2025-08-27T20:50:48.109898Z"
    }
   },
   "cell_type": "code",
   "source": "numpyarray1 * numpyarray2",
   "id": "fb7e3bcba006953d",
   "outputs": [
    {
     "data": {
      "text/plain": [
       "array([ 1,  4,  9, 16])"
      ]
     },
     "execution_count": 14,
     "metadata": {},
     "output_type": "execute_result"
    }
   ],
   "execution_count": 14
  },
  {
   "metadata": {
    "ExecuteTime": {
     "end_time": "2025-08-27T20:50:49.263713Z",
     "start_time": "2025-08-27T20:50:49.256281Z"
    }
   },
   "cell_type": "code",
   "source": "numpyarray3 * numpyarray1",
   "id": "74812a2871fd0cea",
   "outputs": [
    {
     "data": {
      "text/plain": [
       "array([[ 1,  4,  9, 16],\n",
       "       [ 1,  4,  9, 16]])"
      ]
     },
     "execution_count": 15,
     "metadata": {},
     "output_type": "execute_result"
    }
   ],
   "execution_count": 15
  },
  {
   "metadata": {},
   "cell_type": "markdown",
   "source": "Elements in the numpy array can be any types. However, if the types are different from one another, then one type would be the type of the array we set; that means all the elements are converted to the same type. Python decides which type that will be. For instance, if you use a mix of integers and strings, the string would be the final type of all elements. Also note that when you initially decide on which type you want to create your array, and later you if you insert an element within the array with different type, the type of the new element would be converted to the original type of the array, if possible. Look at the following examples.",
   "id": "d7b3060e8064b414"
  },
  {
   "metadata": {
    "ExecuteTime": {
     "end_time": "2025-08-27T20:50:52.029786Z",
     "start_time": "2025-08-27T20:50:52.022279Z"
    }
   },
   "cell_type": "code",
   "source": [
    "x1 = np.array([1,2,3,4])\n",
    "x2 = np.array([1,2,3,\"C\"])\n",
    "print(type(x1[0]), type(x2[0]))"
   ],
   "id": "5d97f7827beb3998",
   "outputs": [
    {
     "name": "stdout",
     "output_type": "stream",
     "text": [
      "<class 'numpy.int32'> <class 'numpy.str_'>\n"
     ]
    }
   ],
   "execution_count": 16
  },
  {
   "metadata": {},
   "cell_type": "markdown",
   "source": [
    "x1 is an array of integers.\n",
    "x2 is an array of strings.\n",
    "Now what happens if we replace the only \"actual\" string in x2 by an integer?"
   ],
   "id": "f238b2de3f6eff79"
  },
  {
   "metadata": {
    "ExecuteTime": {
     "end_time": "2025-08-27T20:50:55.290477Z",
     "start_time": "2025-08-27T20:50:55.284512Z"
    }
   },
   "cell_type": "code",
   "source": [
    "x2[3] = 4\n",
    "print(x2)\n",
    "print(type(x2[3]))"
   ],
   "id": "1da7507dbcedcabb",
   "outputs": [
    {
     "name": "stdout",
     "output_type": "stream",
     "text": [
      "['1' '2' '3' '4']\n",
      "<class 'numpy.str_'>\n"
     ]
    }
   ],
   "execution_count": 17
  },
  {
   "metadata": {},
   "cell_type": "markdown",
   "source": "You see that, even though we have changed the last element of x2 to an integer, the type still remains string.",
   "id": "411a613793b07b0b"
  },
  {
   "metadata": {},
   "cell_type": "markdown",
   "source": "Any what happens if we include a non-integer (float) in the integer array x1?",
   "id": "18ca39297dcacd9c"
  },
  {
   "metadata": {
    "ExecuteTime": {
     "end_time": "2025-08-27T20:50:58.997076Z",
     "start_time": "2025-08-27T20:50:58.990004Z"
    }
   },
   "cell_type": "code",
   "source": [
    "x1[3] = 7.7\n",
    "print(x1)\n",
    "print(type(x1[3]))"
   ],
   "id": "36608f03fbf3a9a8",
   "outputs": [
    {
     "name": "stdout",
     "output_type": "stream",
     "text": [
      "[1 2 3 7]\n",
      "<class 'numpy.int32'>\n"
     ]
    }
   ],
   "execution_count": 18
  },
  {
   "metadata": {},
   "cell_type": "markdown",
   "source": "You see that the type of the element at position 3 of x1 is still integer, even though we have put a float number there.",
   "id": "5c83e335d84635d0"
  },
  {
   "metadata": {},
   "cell_type": "markdown",
   "source": "Does that also work with strings?",
   "id": "d0fbe6761a390220"
  },
  {
   "metadata": {
    "ExecuteTime": {
     "end_time": "2025-08-27T20:51:01.588877Z",
     "start_time": "2025-08-27T20:51:01.563850Z"
    }
   },
   "cell_type": "code",
   "source": [
    "x1[3] = \"C\"\n",
    "print(x1)\n",
    "print(type(x1[3]))"
   ],
   "id": "1873a6c8d75534e3",
   "outputs": [
    {
     "ename": "ValueError",
     "evalue": "invalid literal for int() with base 10: 'C'",
     "output_type": "error",
     "traceback": [
      "\u001B[1;31m---------------------------------------------------------------------------\u001B[0m",
      "\u001B[1;31mValueError\u001B[0m                                Traceback (most recent call last)",
      "Cell \u001B[1;32mIn[19], line 1\u001B[0m\n\u001B[1;32m----> 1\u001B[0m \u001B[43mx1\u001B[49m\u001B[43m[\u001B[49m\u001B[38;5;241;43m3\u001B[39;49m\u001B[43m]\u001B[49m \u001B[38;5;241m=\u001B[39m \u001B[38;5;124m\"\u001B[39m\u001B[38;5;124mC\u001B[39m\u001B[38;5;124m\"\u001B[39m\n\u001B[0;32m      2\u001B[0m \u001B[38;5;28mprint\u001B[39m(x1)\n\u001B[0;32m      3\u001B[0m \u001B[38;5;28mprint\u001B[39m(\u001B[38;5;28mtype\u001B[39m(x1[\u001B[38;5;241m3\u001B[39m]))\n",
      "\u001B[1;31mValueError\u001B[0m: invalid literal for int() with base 10: 'C'"
     ]
    }
   ],
   "execution_count": 19
  },
  {
   "metadata": {},
   "cell_type": "markdown",
   "source": "Strings cannot be converted to integer, so we cannot put a string into an integer array.",
   "id": "ec8244ad31433f55"
  },
  {
   "metadata": {},
   "cell_type": "markdown",
   "source": [
    "A side note: If you insert integers, strings, and booleans in a numpy array, you get to have a single type of string.\n",
    "Note that the property of the NumPy array which requires it to hold elements of a single type makes the NumPy faster in calculation compared with list. Also note that if you have a numpy array with booleans and number types (float, integer), numpy will convert the boolean `True` to 1 and `False` to 0."
   ],
   "id": "6c1782e29806e2c9"
  },
  {
   "metadata": {},
   "cell_type": "markdown",
   "source": "For our purposes, it only makes sense to have numpy arrays of integers, floats or booleans.",
   "id": "f879810ce8dfeafc"
  },
  {
   "metadata": {},
   "cell_type": "markdown",
   "source": "## Slicing: Accessing specific elements from a numpy array",
   "id": "4858ee932035779"
  },
  {
   "metadata": {},
   "cell_type": "markdown",
   "source": [
    "Slicing means accessing a subsection of a numpy array.\n",
    "The following examples can represent how it works."
   ],
   "id": "84001ea4c076f636"
  },
  {
   "metadata": {},
   "cell_type": "markdown",
   "source": "Let's experiment with a simple one-dimensional numpy array",
   "id": "1420e4e1da131a95"
  },
  {
   "metadata": {
    "ExecuteTime": {
     "end_time": "2025-08-27T20:51:20.561001Z",
     "start_time": "2025-08-27T20:51:20.555201Z"
    }
   },
   "cell_type": "code",
   "source": "simpleArray = np.array([19,8,7,1,5,4])",
   "id": "9fc6fb75757807d0",
   "outputs": [],
   "execution_count": 21
  },
  {
   "metadata": {
    "ExecuteTime": {
     "end_time": "2025-08-27T20:51:21.317812Z",
     "start_time": "2025-08-27T20:51:21.312576Z"
    }
   },
   "cell_type": "code",
   "source": [
    "firstElement = simpleArray[0]\n",
    "firstElement\n",
    "# Numpy arrays start indexing with 0, just like lists."
   ],
   "id": "2048edd6b7c33a1b",
   "outputs": [],
   "execution_count": 22
  },
  {
   "metadata": {
    "ExecuteTime": {
     "end_time": "2025-08-27T20:51:22.057946Z",
     "start_time": "2025-08-27T20:51:22.051945Z"
    }
   },
   "cell_type": "code",
   "source": [
    "lastElement = simpleArray[-1]\n",
    "lastElement\n",
    "# The second-to-last element would be simpleArray[-2]."
   ],
   "id": "b57f8c0650d20375",
   "outputs": [],
   "execution_count": 23
  },
  {
   "metadata": {
    "ExecuteTime": {
     "end_time": "2025-08-27T20:51:22.751031Z",
     "start_time": "2025-08-27T20:51:22.745255Z"
    }
   },
   "cell_type": "code",
   "source": [
    "withoutFirstAndLastElement = simpleArray[1:-1]\n",
    "withoutFirstAndLastElement\n",
    "# x:y means every element from position x (including) to position y (excluding). If x is not given, it takes elements from the start. If y is not given, it takes elements to the end."
   ],
   "id": "96e847ef2b2e617e",
   "outputs": [],
   "execution_count": 24
  },
  {
   "metadata": {},
   "cell_type": "markdown",
   "source": "How does that work with a two-dimensional numpy array?",
   "id": "ee8b194aa8e0ea80"
  },
  {
   "metadata": {
    "ExecuteTime": {
     "end_time": "2025-08-27T20:51:24.818280Z",
     "start_time": "2025-08-27T20:51:24.811279Z"
    }
   },
   "cell_type": "code",
   "source": "myArray = np.array([[1,2,3],[4,5,6],[7,8,9]])",
   "id": "2dc945c623a56c40",
   "outputs": [],
   "execution_count": 25
  },
  {
   "metadata": {
    "ExecuteTime": {
     "end_time": "2025-08-27T20:51:25.694657Z",
     "start_time": "2025-08-27T20:51:25.688655Z"
    }
   },
   "cell_type": "code",
   "source": [
    "firstRow = myArray[0,:]\n",
    "firstRow"
   ],
   "id": "115796127e8c62bb",
   "outputs": [],
   "execution_count": 26
  },
  {
   "metadata": {
    "ExecuteTime": {
     "end_time": "2025-08-27T20:51:26.737662Z",
     "start_time": "2025-08-27T20:51:26.731665Z"
    }
   },
   "cell_type": "code",
   "source": [
    "firstColumn=myArray[:,0]\n",
    "firstColumn"
   ],
   "id": "692784a7310e1b33",
   "outputs": [],
   "execution_count": 27
  },
  {
   "metadata": {
    "ExecuteTime": {
     "end_time": "2025-08-27T20:51:27.353980Z",
     "start_time": "2025-08-27T20:51:27.348168Z"
    }
   },
   "cell_type": "code",
   "source": [
    "secondColumn = myArray[:,1]\n",
    "secondColumn"
   ],
   "id": "1c6d02d2a849f167",
   "outputs": [],
   "execution_count": 28
  },
  {
   "metadata": {
    "ExecuteTime": {
     "end_time": "2025-08-27T20:51:28.317622Z",
     "start_time": "2025-08-27T20:51:28.311623Z"
    }
   },
   "cell_type": "code",
   "source": [
    "oddRowsEvenColumns = myArray[1::2,0::2]\n",
    "oddRowsEvenColumns\n",
    "# x:y:z means every element from x (including) to y (excluding) in steps of z. Like before, if x is not given, it takes elements from the start. If y is not given, it takes elements to the end."
   ],
   "id": "1efdfd2cacbe4f84",
   "outputs": [],
   "execution_count": 29
  },
  {
   "metadata": {},
   "cell_type": "markdown",
   "source": "## Shape and Reshape",
   "id": "98979f23387dcec8"
  },
  {
   "metadata": {},
   "cell_type": "markdown",
   "source": "You might want to change the dimensions of a numpy array. For this, you can use the shape and reshape functions.",
   "id": "f221baaf5e541dc5"
  },
  {
   "metadata": {
    "ExecuteTime": {
     "end_time": "2025-08-27T20:53:02.604827Z",
     "start_time": "2025-08-27T20:53:02.597938Z"
    }
   },
   "cell_type": "code",
   "source": "myarray = np.array([[2,5,6],[3,4,7]])",
   "id": "8af257ad791602f3",
   "outputs": [],
   "execution_count": 30
  },
  {
   "metadata": {
    "ExecuteTime": {
     "end_time": "2025-08-27T20:53:03.238498Z",
     "start_time": "2025-08-27T20:53:03.230498Z"
    }
   },
   "cell_type": "code",
   "source": [
    "myarray.shape\n",
    "# this shows: (gives the number of rows and columns of myarray) the dimensionality and the size of each dimension."
   ],
   "id": "5b6e17487120f59b",
   "outputs": [
    {
     "data": {
      "text/plain": [
       "(2, 3)"
      ]
     },
     "execution_count": 31,
     "metadata": {},
     "output_type": "execute_result"
    }
   ],
   "execution_count": 31
  },
  {
   "metadata": {
    "ExecuteTime": {
     "end_time": "2025-08-27T20:53:05.655164Z",
     "start_time": "2025-08-27T20:53:05.647084Z"
    }
   },
   "cell_type": "code",
   "source": [
    "myarray.reshape(-1,1)\n",
    "# The size of the new array in each dimension is given. If you type -1, that dimension is going to be computed based on the number of elements in the original array."
   ],
   "id": "3499dba594a84125",
   "outputs": [
    {
     "data": {
      "text/plain": [
       "array([[2],\n",
       "       [5],\n",
       "       [6],\n",
       "       [3],\n",
       "       [4],\n",
       "       [7]])"
      ]
     },
     "execution_count": 32,
     "metadata": {},
     "output_type": "execute_result"
    }
   ],
   "execution_count": 32
  },
  {
   "metadata": {
    "ExecuteTime": {
     "end_time": "2025-08-27T20:53:21.078976Z",
     "start_time": "2025-08-27T20:53:21.071447Z"
    }
   },
   "cell_type": "code",
   "source": [
    "myarray.reshape(-1)\n",
    "# It's also possible to change the dimensionality. This now is a one-dimensional array,"
   ],
   "id": "bfc057c7061809a0",
   "outputs": [
    {
     "data": {
      "text/plain": [
       "array([2, 5, 6, 3, 4, 7])"
      ]
     },
     "execution_count": 33,
     "metadata": {},
     "output_type": "execute_result"
    }
   ],
   "execution_count": 33
  },
  {
   "metadata": {
    "ExecuteTime": {
     "end_time": "2025-08-27T20:53:25.687929Z",
     "start_time": "2025-08-27T20:53:25.679406Z"
    }
   },
   "cell_type": "code",
   "source": [
    "myarray.reshape(2,1,-1)\n",
    "# The dimensionality can also be increased. Only one parameter can be -1, because otherwise it could not be inferred.\n",
    "# the number of numbers inside parentheses determines the dimensionality of the array, the -1 will automatically provide the adequate number,\n",
    "# and the multiplication of the numbers (excluding -1, means including any proper multiplication) should match to the numbers of the elements of the array."
   ],
   "id": "c46d1117406a7441",
   "outputs": [
    {
     "data": {
      "text/plain": [
       "array([[[2, 5, 6]],\n",
       "\n",
       "       [[3, 4, 7]]])"
      ]
     },
     "execution_count": 34,
     "metadata": {},
     "output_type": "execute_result"
    }
   ],
   "execution_count": 34
  },
  {
   "metadata": {},
   "cell_type": "markdown",
   "source": "## linspace",
   "id": "939877a67907c2de"
  },
  {
   "metadata": {},
   "cell_type": "markdown",
   "source": "Linspace function is being used to create a line with the amount of discretization that we would like to have. For instance, if we want to have a 20 meters stick and we want to chop it 100 times, each piece would have 0.2 meter length, this can be useful in some problem. This example can be seen in the following code",
   "id": "883db8be65df3d90"
  },
  {
   "metadata": {
    "ExecuteTime": {
     "end_time": "2025-08-27T20:53:30.302856Z",
     "start_time": "2025-08-27T20:53:30.291587Z"
    }
   },
   "cell_type": "code",
   "source": "np.linspace(0,20,100)",
   "id": "83c270e30e531303",
   "outputs": [
    {
     "data": {
      "text/plain": [
       "array([ 0.        ,  0.2020202 ,  0.4040404 ,  0.60606061,  0.80808081,\n",
       "        1.01010101,  1.21212121,  1.41414141,  1.61616162,  1.81818182,\n",
       "        2.02020202,  2.22222222,  2.42424242,  2.62626263,  2.82828283,\n",
       "        3.03030303,  3.23232323,  3.43434343,  3.63636364,  3.83838384,\n",
       "        4.04040404,  4.24242424,  4.44444444,  4.64646465,  4.84848485,\n",
       "        5.05050505,  5.25252525,  5.45454545,  5.65656566,  5.85858586,\n",
       "        6.06060606,  6.26262626,  6.46464646,  6.66666667,  6.86868687,\n",
       "        7.07070707,  7.27272727,  7.47474747,  7.67676768,  7.87878788,\n",
       "        8.08080808,  8.28282828,  8.48484848,  8.68686869,  8.88888889,\n",
       "        9.09090909,  9.29292929,  9.49494949,  9.6969697 ,  9.8989899 ,\n",
       "       10.1010101 , 10.3030303 , 10.50505051, 10.70707071, 10.90909091,\n",
       "       11.11111111, 11.31313131, 11.51515152, 11.71717172, 11.91919192,\n",
       "       12.12121212, 12.32323232, 12.52525253, 12.72727273, 12.92929293,\n",
       "       13.13131313, 13.33333333, 13.53535354, 13.73737374, 13.93939394,\n",
       "       14.14141414, 14.34343434, 14.54545455, 14.74747475, 14.94949495,\n",
       "       15.15151515, 15.35353535, 15.55555556, 15.75757576, 15.95959596,\n",
       "       16.16161616, 16.36363636, 16.56565657, 16.76767677, 16.96969697,\n",
       "       17.17171717, 17.37373737, 17.57575758, 17.77777778, 17.97979798,\n",
       "       18.18181818, 18.38383838, 18.58585859, 18.78787879, 18.98989899,\n",
       "       19.19191919, 19.39393939, 19.5959596 , 19.7979798 , 20.        ])"
      ]
     },
     "execution_count": 35,
     "metadata": {},
     "output_type": "execute_result"
    }
   ],
   "execution_count": 35
  },
  {
   "metadata": {},
   "cell_type": "markdown",
   "source": "## arange",
   "id": "56eaccdb0d49e67d"
  },
  {
   "metadata": {},
   "cell_type": "markdown",
   "source": "Arange is a function that generate arrays with desired space between the elements. It is similar to linspace with the difference that the last number would indicate the size of the steps rather than the number of the steps. It works exactly like range, except that it makes numpy array. Look at the section about `range` The following examples would elaborate on it better.",
   "id": "a0224875dbb4ca05"
  },
  {
   "metadata": {
    "ExecuteTime": {
     "end_time": "2025-08-27T20:54:18.296301Z",
     "start_time": "2025-08-27T20:54:18.288301Z"
    }
   },
   "cell_type": "code",
   "source": "np.arange(10)",
   "id": "d2a1a1563b25acb7",
   "outputs": [
    {
     "data": {
      "text/plain": [
       "array([0, 1, 2, 3, 4, 5, 6, 7, 8, 9])"
      ]
     },
     "execution_count": 39,
     "metadata": {},
     "output_type": "execute_result"
    }
   ],
   "execution_count": 39
  },
  {
   "metadata": {
    "ExecuteTime": {
     "end_time": "2025-08-27T20:54:19.152182Z",
     "start_time": "2025-08-27T20:54:19.145180Z"
    }
   },
   "cell_type": "code",
   "source": "np.arange(1,10)",
   "id": "4cd97681e039db6c",
   "outputs": [
    {
     "data": {
      "text/plain": [
       "array([1, 2, 3, 4, 5, 6, 7, 8, 9])"
      ]
     },
     "execution_count": 40,
     "metadata": {},
     "output_type": "execute_result"
    }
   ],
   "execution_count": 40
  },
  {
   "metadata": {
    "ExecuteTime": {
     "end_time": "2025-08-27T20:54:19.954585Z",
     "start_time": "2025-08-27T20:54:19.945586Z"
    }
   },
   "cell_type": "code",
   "source": "np.arange(1,10,2)",
   "id": "3e1aa2baf531274e",
   "outputs": [
    {
     "data": {
      "text/plain": [
       "array([1, 3, 5, 7, 9])"
      ]
     },
     "execution_count": 41,
     "metadata": {},
     "output_type": "execute_result"
    }
   ],
   "execution_count": 41
  },
  {
   "metadata": {},
   "cell_type": "code",
   "outputs": [],
   "execution_count": null,
   "source": "",
   "id": "7d7ca84da746a61b"
  }
 ],
 "metadata": {
  "kernelspec": {
   "display_name": "Python 3 (ipykernel)",
   "language": "python",
   "name": "python3"
  },
  "language_info": {
   "codemirror_mode": {
    "name": "ipython",
    "version": 3
   },
   "file_extension": ".py",
   "mimetype": "text/x-python",
   "name": "python",
   "nbconvert_exporter": "python",
   "pygments_lexer": "ipython3",
   "version": "3.7.13"
  }
 },
 "nbformat": 4,
 "nbformat_minor": 5
}
